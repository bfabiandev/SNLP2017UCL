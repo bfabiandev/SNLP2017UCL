{
 "cells": [
  {
   "cell_type": "markdown",
   "metadata": {},
   "source": [
    "<!---\n",
    "Latex Macros\n",
    "-->\n",
    "$$\n",
    "\\newcommand{\\bar}{\\,|\\,}\n",
    "\\newcommand{\\Xs}{\\mathcal{X}}\n",
    "\\newcommand{\\Ys}{\\mathcal{Y}}\n",
    "\\newcommand{\\y}{\\mathbf{y}}\n",
    "\\newcommand{\\weights}{\\mathbf{w}}\n",
    "\\newcommand{\\balpha}{\\boldsymbol{\\alpha}}\n",
    "\\newcommand{\\bbeta}{\\boldsymbol{\\beta}}\n",
    "\\newcommand{\\aligns}{\\mathbf{a}}\n",
    "\\newcommand{\\align}{a}\n",
    "\\newcommand{\\source}{\\mathbf{s}}\n",
    "\\newcommand{\\target}{\\mathbf{t}}\n",
    "\\newcommand{\\ssource}{s}\n",
    "\\newcommand{\\starget}{t}\n",
    "\\newcommand{\\repr}{\\mathbf{f}}\n",
    "\\newcommand{\\repry}{\\mathbf{g}}\n",
    "\\newcommand{\\x}{\\mathbf{x}}\n",
    "\\newcommand{\\prob}{p}\n",
    "\\newcommand{\\vocab}{V}\n",
    "\\newcommand{\\params}{\\boldsymbol{\\theta}}\n",
    "\\newcommand{\\param}{\\theta}\n",
    "\\DeclareMathOperator{\\perplexity}{PP}\n",
    "\\DeclareMathOperator{\\argmax}{argmax}\n",
    "\\DeclareMathOperator{\\argmin}{argmin}\n",
    "\\newcommand{\\train}{\\mathcal{D}}\n",
    "\\newcommand{\\counts}[2]{\\#_{#1}(#2) }\n",
    "\\newcommand{\\length}[1]{\\text{length}(#1) }\n",
    "\\newcommand{\\indi}{\\mathbb{I}}\n",
    "$$"
   ]
  },
  {
   "cell_type": "markdown",
   "metadata": {},
   "source": [
    "\n",
    "\n",
    "\n",
    "\n",
    "# Assignment 3"
   ]
  },
  {
   "cell_type": "markdown",
   "metadata": {},
   "source": [
    "\n",
    "\n",
    "\n",
    "## Introduction\n",
    "\n",
    "In the last assignment, you will apply deep learning methods to solve a particular story understanding problem. Automatic understanding of stories is an important task in natural language understanding [[1]](http://anthology.aclweb.org/D/D13/D13-1020.pdf). Specifically, you will develop a model that given a sequence of sentences learns to sort these sentence in order to yield a coherent story [[2]](https://www.microsoft.com/en-us/research/wp-content/uploads/2016/06/short-commonsense-stories.pdf). This sounds (and to an extent is) trivial for humans, however it is quite a difficult task for machines as it involves commonsense knowledge and temporal understanding."
   ]
  },
  {
   "cell_type": "markdown",
   "metadata": {},
   "source": [
    "## Goal\n",
    "\n",
    "You are given a dataset of 45502 instances, each consisting of 5 sentences. Your system needs to ouput a sequence of numbers which represent the predicted order of these sentences. For example, given a story:\n",
    "\n",
    "    He went to the store.\n",
    "    He found a lamp he liked.\n",
    "    He bought the lamp.\n",
    "    Jan decided to get a new lamp.\n",
    "    Jan's lamp broke.\n",
    "\n",
    "your system needs to provide an answer in the following form:\n",
    "\n",
    "    2\t3\t4\t1\t0\n",
    "\n",
    "where the numbers correspond to the zero-based index of each sentence in the correctly ordered story. So \"`2`\" for \"`He went to the store.`\" means that this sentence should come 3rd in the correctly ordered target story. In this particular example, this order of indices corresponds to the following target story:\n",
    "\n",
    "    Jan's lamp broke.\n",
    "    Jan decided to get a new lamp.\n",
    "    He went to the store.\n",
    "    He found a lamp he liked.\n",
    "    He bought the lamp."
   ]
  },
  {
   "cell_type": "markdown",
   "metadata": {},
   "source": [
    "## Resources\n",
    "\n",
    "To develop your model(s), we provide a training and a development datasets. The test dataset will be held out, and we will use it to evaluate your models. The test set is coming from the same task distribution, and you don't need to expect drastic changes in it.\n",
    "\n",
    "You will use [TensorFlow](https://www.tensorflow.org/) to build a deep learning model for the task. We provide a very crude system which solves the task with a low accuracy, and a set of additional functions you will have to use to save and load the model you create so that we can run it.\n",
    "\n",
    "As we have to run the notebooks of each submission, and as deep learning models take long time to train, your notebook **NEEDS** to conform to the following requirements:\n",
    "* You **NEED** to run your parameter optimisation offline, and provide your final model saved by using the provided function\n",
    "* The maximum size of a zip file you can upload to moodle is 160MB. We will **NOT** allow submissions larger than that.\n",
    "* We do not have time to train your models from scratch! You **NEED** to provide the full code you used for the training of your model, but by all means you **CANNOT** call the training method in the notebook you will send to us.\n",
    "* We will run these notebooks automatically. If your notebook runs the training procedure, in addition to loading the model, and we need to edit your code to stop the training, you will be penalised with **-20 points**.\n",
    "* If you do not provide a pretrained model, and rely on training your model on our machines, you will get **0 points**.\n",
    "* Your submissions will be tested on the stat-nlp-book Docker image to ensure that it does not have any dependencies outside of those that we provide. If your submission fails to adhere to this requirement, you will get **0 points**.\n",
    "\n",
    "Running time and memory issues:\n",
    "* We have tested a possible solution on a mid-2014 MacBook Pro, and a few epochs of the model run in less than 3min. Thus it is possible to train a model on the data in reasonable time. However, be aware that you will need to run these models many times over, for a larger number of epochs (more elaborate models, trained on much larger datasets can train for weeks! However, this shouldn't be the case here.). If you find training times too long for your development cycle you can reduce the training set size. Once you have found a good solution you can increase the size again. Caveat: model parameters tuned on a smaller dataset may not be optimal for a larger training set.\n",
    "* In addition to this, as your submission is capped by size, feel free to experiment with different model sizes, numeric values of different precisions, filtering the vocabulary size, downscaling some vectors, etc."
   ]
  },
  {
   "cell_type": "markdown",
   "metadata": {},
   "source": [
    "## Hints\n",
    "\n",
    "A non-exhaustive list of things you might want to give a try:\n",
    "- better tokenization\n",
    "- experiment with pre-trained word representations such as [word2vec](https://code.google.com/archive/p/word2vec/), or [GloVe](http://nlp.stanford.edu/projects/glove/). Be aware that these representations might take a lot of parameters in your model. Be sure you use only the words you expect in the training/dev set and account for OOV words. When saving the model parameters, pre-rained word embeddings can simply be used in the word embedding matrix of your model. As said, make sure that this word embedding matrix does not contain all of word2vec or GloVe. Your submission is limited, and we will not allow uploading nor using the whole representations set (up to 3GB!)\n",
    "- reduced sizes of word representations\n",
    "- bucketing and batching (our implementation is deliberately not a good one!)\n",
    "  - make sure to draw random batches from the data! (we do not provide this in our code!)\n",
    "- better models:\n",
    "  - stacked RNNs (see tf.contrib.rnn.MultiRNNCell)\n",
    "  - bi-directional RNNs\n",
    "  - attention\n",
    "  - word-by-word attention\n",
    "  - conditional encoding\n",
    "  - get model inspirations from papers on [nlp.stanford.edu/projects/snli/](nlp.stanford.edu/projects/snli/)\n",
    "  - sequence-to-sequence encoder-decode architecture for producing the right ordering\n",
    "- better training procedure:\n",
    "  - different training algorithms\n",
    "  - dropout on the input and output embeddings (see tf.nn.dropout)\n",
    "  - L2 regularization (see tf.nn.l2_loss)\n",
    "  - gradient clipping (see tf.clip_by_value or tf.clip_by_norm)\n",
    "- model selection:\n",
    "  - early stopping\n",
    "- hyper-parameter optimization (e.g. random search or grid search (expensive!))\n",
    "    - initial learning rate\n",
    "    - dropout probability\n",
    "    - input and output size\n",
    "    - L2 regularization\n",
    "    - gradient clipping value\n",
    "    - batch size\n",
    "    - ...\n",
    "- post-processing\n",
    "  - for incorporating consistency constraints"
   ]
  },
  {
   "cell_type": "markdown",
   "metadata": {},
   "source": [
    "## Setup Instructions\n",
    "It is important that this file is placed in the **correct directory**. It will not run otherwise. The correct directory is\n",
    "\n",
    "    DIRECTORY_OF_YOUR_BOOK/assignments/2017/assignment3/problem/group_X/\n",
    "    \n",
    "where `DIRECTORY_OF_YOUR_BOOK` is a placeholder for the directory you downloaded the book to, and in `X` in `group_X` contains the number of your group.\n",
    "\n",
    "After you placed it there, **rename the notebook file** to `group_X.ipynb`.\n",
    "\n",
    "The notebook is pre-set to save models in\n",
    "\n",
    "    DIRECTORY_OF_YOUR_BOOK/assignments/2017/assignment3/problem/group_X/model/\n",
    "\n",
    "Be sure not to tinker with that directory - we expect your submission to contain a `model` subdirectory with a single saved model! \n",
    "The saving procedure might overwrite the latest save, or not. Make sure you understand what it does, and upload only a single model! (for more details check tf.train.Saver)"
   ]
  },
  {
   "cell_type": "markdown",
   "metadata": {},
   "source": [
    "## General Instructions\n",
    "This notebook will be used by you to provide your solution, and by us to both assess your solution and enter your marks. It contains three types of sections:\n",
    "\n",
    "1. **Setup** Sections: these sections set up code and resources for assessment. **Do not edit, move nor copy these cells**.\n",
    "2. **Assessment** Sections: these sections are used for both evaluating the output of your code, and for markers to enter their marks. **Do not edit, move, nor copy these cells**.\n",
    "3. **Task** Sections: these sections require your solutions. They may contain stub code, and you are expected to edit this code. For free text answers simply edit the markdown field.  \n",
    "\n",
    "**If you edit, move or copy any of the setup, assessments and mark cells, you will be penalised with -20 points**.\n",
    "\n",
    "Note that you are free to **create additional notebook cells** within a task section. \n",
    "\n",
    "Please **do not share** this assignment nor the dataset publicly, by uploading it online, emailing it to friends etc."
   ]
  },
  {
   "cell_type": "markdown",
   "metadata": {},
   "source": [
    "## Submission Instructions\n",
    "\n",
    "To submit your solution:\n",
    "\n",
    "* Make sure that your solution is fully contained in this notebook. Make sure you do not use any additional files other than your saved model.\n",
    "* Make sure that your solution runs linearly from start to end (no execution hops). We will run your notebook in that order.\n",
    "* **Before you submit, make sure your submission is tested on the stat-nlp-book Docker setup to ensure that it does not have any dependencies outside of those that we provide. If your submission fails to adhere to this requirement, you will get 0 points**.\n",
    "* **If running your notebook produces a trivially fixable error that we spot, we will correct it and penalise you with -20 points. Otherwise you will get 0 points for that solution.**\n",
    "* **Rename this notebook to your `group_X`** (where `X` is the number of your group), and adhere to the directory structure requirements, if you have not already done so. ** Failure to do so will result in -1 point.**\n",
    "* Download the notebook in Jupyter via *File -> Download as -> Notebook (.ipynb)*.\n",
    "* Your submission should be a zip file containing the `group_X` directory, containing `group_X.ipynb` notebook, and the `model` directory with the saved model\n",
    "* Upload that file to the Moodle submission site."
   ]
  },
  {
   "cell_type": "markdown",
   "metadata": {},
   "source": [
    "## <font color='green'>Setup 1</font>: Load Libraries\n",
    "This cell loads libraries important for evaluation and assessment of your model. **Do not change, move or copy it.**"
   ]
  },
  {
   "cell_type": "code",
   "execution_count": 1,
   "metadata": {
    "ExecuteTime": {
     "end_time": "2016-12-20T12:04:56.249298",
     "start_time": "2016-12-20T12:04:54.376398"
    },
    "run_control": {
     "frozen": false,
     "read_only": false
    }
   },
   "outputs": [],
   "source": [
    "%%capture\n",
    "%load_ext autoreload\n",
    "%autoreload 2\n",
    "%matplotlib inline\n",
    "#! SETUP 1 - DO NOT CHANGE, MOVE NOR COPY\n",
    "import sys, os\n",
    "_snlp_book_dir = \"../../../../../\"\n",
    "sys.path.append(_snlp_book_dir)\n",
    "# docker image contains tensorflow 0.10.0rc0. We will support execution of only that version!\n",
    "import statnlpbook.nn as nn\n",
    "\n",
    "import tensorflow as tf\n",
    "import numpy as np"
   ]
  },
  {
   "cell_type": "markdown",
   "metadata": {},
   "source": [
    "## <font color='green'>Setup 2</font>: Load Training Data\n",
    "\n",
    "This cell loads the training data. **Do not edit the next cell, nor copy/duplicate it**. Instead refer to the variables in your own code, and slice and dice them as you see fit (but do not change their values). \n",
    "For example, no one stops you from introducing, in the corresponding task section, `my_train` and `my_dev` variables that split the data into different folds.   "
   ]
  },
  {
   "cell_type": "code",
   "execution_count": 2,
   "metadata": {
    "ExecuteTime": {
     "end_time": "2016-12-20T12:04:57.110195",
     "start_time": "2016-12-20T12:04:56.251082"
    },
    "run_control": {
     "frozen": false,
     "read_only": false
    }
   },
   "outputs": [],
   "source": [
    "#! SETUP 2 - DO NOT CHANGE, MOVE NOR COPY\n",
    "data_path = _snlp_book_dir + \"data/nn/\"\n",
    "data_train = nn.load_corpus(data_path + \"train.tsv\")\n",
    "data_dev = nn.load_corpus(data_path + \"dev.tsv\")\n",
    "assert(len(data_train) == 45502)"
   ]
  },
  {
   "cell_type": "markdown",
   "metadata": {},
   "source": [
    "### Data Structures\n",
    "\n",
    "Notice that the data is loaded from tab-separated files. The files are easy to read, and we provide the loading functions that load it into a simple data structure. Feel free to check details of the loading.\n",
    "\n",
    "The data structure at hand is an array of dictionaries, each containing a `story` and the `order` entry. `story` is a list of strings, and `order` is a list of integer indices:"
   ]
  },
  {
   "cell_type": "code",
   "execution_count": 3,
   "metadata": {
    "ExecuteTime": {
     "end_time": "2016-12-20T12:04:57.134033",
     "start_time": "2016-12-20T12:04:57.115270"
    },
    "run_control": {
     "frozen": false,
     "read_only": false
    }
   },
   "outputs": [
    {
     "data": {
      "text/plain": [
       "{'order': [3, 2, 1, 0, 4],\n",
       " 'story': ['His parents understood and decided to make a change.',\n",
       "  'The doctors told his parents it was unhealthy.',\n",
       "  'Dan was overweight as well.',\n",
       "  \"Dan's parents were overweight.\",\n",
       "  'They got themselves and Dan on a diet.']}"
      ]
     },
     "execution_count": 3,
     "metadata": {},
     "output_type": "execute_result"
    }
   ],
   "source": [
    "data_train[0]"
   ]
  },
  {
   "cell_type": "markdown",
   "metadata": {},
   "source": [
    "## <font color='blue'>Task 1</font>: Model implementation\n",
    "\n",
    "Your primary task in this assignment is to implement a model that produces the right order of the sentences in the dataset.\n",
    "\n",
    "### Preprocessing pipeline\n",
    "\n",
    "First, we construct a preprocessing pipeline, in our case `pipeline` function which takes care of:\n",
    "- out-of-vocabulary words\n",
    "- building a vocabulary (on the train set), and applying the same unaltered vocabulary on other sets (dev and test)\n",
    "- making sure that the length of input is the same for the train and dev/test sets (for fixed-sized models)\n",
    "\n",
    "You are free (and encouraged!) to do your own input processing function. Should you experiment with recurrent neural networks, you will find that you will need to do so."
   ]
  },
  {
   "cell_type": "markdown",
   "metadata": {},
   "source": [
    "You need to make sure that the `pipeline` function returns the necessary data for your computational graph feed - the required inputs in this case, as we will call this function to process your dev and test data. If you do not make sure that the same pipeline applied to the train set is applied to other datasets, your model may not work with that data!"
   ]
  },
  {
   "cell_type": "markdown",
   "metadata": {},
   "source": [
    "You can take a look at the result of the `pipeline` with the `show_data_instance` function to make sure that your data loaded correctly:"
   ]
  },
  {
   "cell_type": "code",
   "execution_count": 4,
   "metadata": {},
   "outputs": [],
   "source": [
    "#IMPORTS\n",
    "import pickle\n",
    "from sklearn.decomposition import PCA\n",
    "import statnlpbook.util as util\n",
    "from collections import defaultdict"
   ]
  },
  {
   "cell_type": "code",
   "execution_count": 5,
   "metadata": {},
   "outputs": [],
   "source": [
    "#Global Variables\n",
    "PAD_TOKEN = '<PAD>'\n",
    "OOV_TOKEN = '<OOV>'"
   ]
  },
  {
   "cell_type": "code",
   "execution_count": 6,
   "metadata": {},
   "outputs": [],
   "source": [
    "###############        Utilities API         #################\n",
    "#  Any generic utility functions should go here\n",
    "##############################################################"
   ]
  },
  {
   "cell_type": "code",
   "execution_count": 7,
   "metadata": {},
   "outputs": [],
   "source": [
    "# enables tensorboard to visualize the graph later\n",
    "from IPython.display import clear_output, Image, display, HTML\n",
    "\n",
    "def strip_consts(graph_def, max_const_size=32):\n",
    "    \"\"\"Strip large constant values from graph_def.\"\"\"\n",
    "    strip_def = tf.GraphDef()\n",
    "    for n0 in graph_def.node:\n",
    "        n = strip_def.node.add() \n",
    "        n.MergeFrom(n0)\n",
    "        if n.op == 'Const':\n",
    "            tensor = n.attr['value'].tensor\n",
    "            size = len(tensor.tensor_content)\n",
    "            if size > max_const_size:\n",
    "                tensor.tensor_content = bytes(\"<stripped %d bytes>\"%size, 'utf-8')\n",
    "    return strip_def\n",
    "\n",
    "def show_graph(graph_def, max_const_size=32):\n",
    "    \"\"\"Visualize TensorFlow graph.\"\"\"\n",
    "    if hasattr(graph_def, 'as_graph_def'):\n",
    "        graph_def = graph_def.as_graph_def()\n",
    "    strip_def = strip_consts(graph_def, max_const_size=max_const_size)\n",
    "    code = \"\"\"\n",
    "        <script>\n",
    "          function load() {{\n",
    "            document.getElementById(\"{id}\").pbtxt = {data};\n",
    "          }}\n",
    "        </script>\n",
    "        <link rel=\"import\" href=\"https://tensorboard.appspot.com/tf-graph-basic.build.html\" onload=load()>\n",
    "        <div style=\"height:600px\">\n",
    "          <tf-graph-basic id=\"{id}\"></tf-graph-basic>\n",
    "        </div>\n",
    "    \"\"\".format(data=repr(str(strip_def)), id='graph'+str(np.random.rand()))\n",
    "\n",
    "    iframe = \"\"\"\n",
    "        <iframe seamless style=\"width:1200px;height:620px;border:0\" srcdoc=\"{}\"></iframe>\n",
    "    \"\"\".format(code.replace('\"', '&quot;'))\n",
    "    display(HTML(iframe))"
   ]
  },
  {
   "cell_type": "code",
   "execution_count": 8,
   "metadata": {},
   "outputs": [],
   "source": [
    "def pickleSave(dictionary, output_name):\n",
    "    pickle_out = open(\"{}.pickle\".format(output_name),\"wb\")\n",
    "    pickle.dump(dictionary, pickle_out)\n",
    "    pickle_out.close()"
   ]
  },
  {
   "cell_type": "code",
   "execution_count": 9,
   "metadata": {},
   "outputs": [],
   "source": [
    "def pickleLoad(file_name):\n",
    "    return pickle.load( open( file_name, \"rb\" ) )"
   ]
  },
  {
   "cell_type": "code",
   "execution_count": 10,
   "metadata": {},
   "outputs": [],
   "source": [
    "def readAndDumpCSV(txtfile,output_name,save=True):\n",
    "    ''''\n",
    "    Read a txt file in csv format (tested with glove) and save a python dictionary of the embeddings using pickle\n",
    "    Also return said dictionary\n",
    "    '''\n",
    "    mydict = {}\n",
    "    with open(txtfile,'r') as f:\n",
    "        for line in f:\n",
    "            mydict[line.split(' ')[0]] = np.array([float(n) for n in line.split(' ')[1:]])\n",
    "        if(save):\n",
    "                pickle_out = open(\"{}.pickle\".format(output_name),\"wb\")\n",
    "                pickle.dump(mydict, pickle_out)\n",
    "                pickle_out.close()\n",
    "        else:\n",
    "            return mydict            "
   ]
  },
  {
   "cell_type": "code",
   "execution_count": 11,
   "metadata": {},
   "outputs": [],
   "source": [
    "def displayDict(dictionary, num_vals):\n",
    "    '''\n",
    "    Display the first num_vals entries of a dictionary\n",
    "    '''\n",
    "    count = 0\n",
    "    for key,val in dictionary.items():\n",
    "        if(count>num_vals):\n",
    "            return\n",
    "        print(\"key : {} , val : \\n {} and the datatypes are: \\n key -> {} and val -> {}\\n\".format(key,val,type(key) ,type(val)))\n",
    "        count+=1"
   ]
  },
  {
   "cell_type": "code",
   "execution_count": 12,
   "metadata": {},
   "outputs": [],
   "source": [
    "#Early stopper class:\n",
    "# Logic:\n",
    "#  After each epoch of training, compare the dev accuracy with the max dev accuracy  achieved\n",
    "#  If it is bigger, replace it, save the model, reset the decreasing accuracy count and continue\n",
    "#  If it is smaller, \n",
    "#    Check whether the patience count is equal to teh number of consecutive decreasing accuracies\n",
    "#       if yes:  Trigger early stopping (Flag to break off the training loop)\n",
    "#       if no : add 1 to the count of consecutive decreasing accuracies and continue\n",
    "#  After training, the model saved needs to be reloaded, as this will be the last model where the accuracy increased\n",
    "\n",
    "class EarlyStopper(object):\n",
    "    '''\n",
    "    Early stopper class: after each epoch of training assess whether the accuracy on the dev-set is smaller\n",
    "    than the accuracy on the dev set on the previous epoch.\n",
    "    If this is not the case for a patience number of epochs, stop the training and keep the model of the last\n",
    "    epoch where the accuracy increased\n",
    "    '''\n",
    "    def __init__(self, patience, verbose):\n",
    "        '''\n",
    "        patience : after how many epochs of decreasing dev accuracy do we stop\n",
    "        '''\n",
    "        self.patience = patience\n",
    "        self.decreasing_epochs = 0\n",
    "        self.last_increasing_accuracy = 0.0\n",
    "        self.verbose = verbose\n",
    "        \n",
    "    def checkEarlyStopping(self,dev_accuracy, session):\n",
    "        \n",
    "        if(dev_accuracy > self.last_increasing_accuracy):\n",
    "            if(self.verbose):\n",
    "                print(\"Accuracy Increasing in the dev set, saving the model!\")\n",
    "            nn.save_model(session)\n",
    "            self.last_increasing_accuracy = dev_accuracy \n",
    "            self.decreasing_epochs = 0\n",
    "            return False\n",
    "        else:\n",
    "            self.decreasing_epochs+=1\n",
    "            if(self.decreasing_epochs >= self.patience):\n",
    "                print(\"Early stopping activated : {} consecutive epochs where accuracy is decresing!\".format(self.decreasing_epochs))\n",
    "                print(\"Model saved yields a dev set accuracy of : {}\".format(self.last_increasing_accuracy))\n",
    "                return True\n",
    "            else:\n",
    "                if(self.verbose):\n",
    "                    print(\"Accuracy decreasing on the Dev set, taking note and continuing!\")\n",
    "                return False"
   ]
  },
  {
   "cell_type": "code",
   "execution_count": 13,
   "metadata": {},
   "outputs": [],
   "source": [
    "def findWord(token,vocab):\n",
    "    for key,item in vocab.items():\n",
    "        if (token == item):\n",
    "            return key\n",
    "    raise ValueError(\"Word in phrase not in the vocab\")"
   ]
  },
  {
   "cell_type": "code",
   "execution_count": 14,
   "metadata": {},
   "outputs": [],
   "source": [
    "###############        Utilities API  END       #################\n",
    "##############################################################"
   ]
  },
  {
   "cell_type": "code",
   "execution_count": 15,
   "metadata": {},
   "outputs": [],
   "source": [
    "###############        ERROR ANALYSIS API       ###############\n",
    "##############################################################"
   ]
  },
  {
   "cell_type": "code",
   "execution_count": 16,
   "metadata": {},
   "outputs": [],
   "source": [
    "def create_confusion_matrix(data, predictions):\n",
    "    confusion = defaultdict(int)\n",
    "    for y_true, y_guess in zip(data, predictions):\n",
    "        for order_true , order_guess in zip(y_true,y_guess):\n",
    "            confusion[(order_true, order_guess)] += 1\n",
    "    return confusion"
   ]
  },
  {
   "cell_type": "code",
   "execution_count": 100,
   "metadata": {},
   "outputs": [],
   "source": [
    "def create_confusion_matrix_for_sentence(data,predictions,sentence):\n",
    "    confusion = defaultdict(int)\n",
    "    for y_true, y_guess in zip(data, predictions):\n",
    "        confusion[(y_true[sentence], y_guess[sentence])] += 1\n",
    "    return confusion"
   ]
  },
  {
   "cell_type": "code",
   "execution_count": 17,
   "metadata": {},
   "outputs": [],
   "source": [
    "def getErrors(data, true_orders, predicted_orders):\n",
    "    errorsList = []\n",
    "    list_index = 0\n",
    "    for order_true, order_guess in zip(true_orders, predicted_orders):\n",
    "        if (not np.all(order_true == order_guess)):\n",
    "            story = data[list_index]['story']\n",
    "            true_paragraph = [None]*5\n",
    "            count =0\n",
    "            for i in order_true:\n",
    "                true_paragraph[i]=story[count]\n",
    "                count +=1\n",
    "            \n",
    "            predicted_paragraph =[None]*5\n",
    "            count =0\n",
    "            for i in order_guess:\n",
    "                predicted_paragraph[i]=story[count]\n",
    "                count+=1\n",
    "                \n",
    "            error = {\"index\": list_index,\n",
    "                     \"true_order\": order_true,\n",
    "                     'predicted_order':order_guess,\n",
    "                    'true_paragraph':true_paragraph,\n",
    "                    'predicted_paragraph':predicted_paragraph}\n",
    "            errorsList.append(error)\n",
    "        list_index+=1\n",
    "    return errorsList"
   ]
  },
  {
   "cell_type": "code",
   "execution_count": 18,
   "metadata": {},
   "outputs": [],
   "source": [
    "def displayErrors(errorsList, numToDisp):\n",
    "    for error in errorsList[:numToDisp]:\n",
    "        print(\"---------------------------------------------------------------------------\")\n",
    "        print(\"### The correct order is : ###\")\n",
    "\n",
    "        for phrase in error[\"true_paragraph\"]:\n",
    "            print(phrase)\n",
    "        \n",
    "        print(\"\\n ### The predicted order was : ###\")\n",
    "        for phrase in error[\"predicted_paragraph\"]:\n",
    "            print(phrase)\n",
    "        print(\"---------------------------------------------------------------------------- \\n\")\n",
    "            "
   ]
  },
  {
   "cell_type": "code",
   "execution_count": 19,
   "metadata": {},
   "outputs": [],
   "source": [
    "def getPADandOOVHistogramsOnErrors(errors,stories):\n",
    "    stats = {}\n",
    "    stats['PAD_hist'] = defaultdict(float)\n",
    "    stats['OOV_hist'] = defaultdict(float)\n",
    "    for error in errors:\n",
    "        phrase_index = 0 \n",
    "        for true_pos,pred_pos in zip(error['true_order'],error['predicted_order']):\n",
    "            if(true_pos != pred_pos):\n",
    "                story_index = error['index']\n",
    "                phrase = stories[story_index][phrase_index]\n",
    "                pad_nb = np.count_nonzero(phrase==0)\n",
    "                oov_nb = np.count_nonzero(phrase==1)\n",
    "                stats['PAD_hist'][pad_nb]+=1.0\n",
    "                stats['OOV_hist'][oov_nb]+=1.0\n",
    "            phrase_index+=1\n",
    "        \n",
    "    return stats\n",
    "    "
   ]
  },
  {
   "cell_type": "code",
   "execution_count": 20,
   "metadata": {},
   "outputs": [],
   "source": [
    "def plot_histogram(stats,interest,sorting_param=0):\n",
    "    \n",
    "    values =[]\n",
    "    labels = []\n",
    "    \n",
    "    histItems =[]\n",
    "    for key,value in stats[interest].items():\n",
    "        histItems.append((key,value))\n",
    "    \n",
    "    histItems = sorted(histItems, key=lambda x: x[sorting_param])\n",
    "   \n",
    "    for key,value in histItems:\n",
    "        labels.append(key)\n",
    "        values.append(value)\n",
    "        \n",
    "    util.plot_bar_graph(values, labels)\n",
    "    "
   ]
  },
  {
   "cell_type": "code",
   "execution_count": 21,
   "metadata": {},
   "outputs": [],
   "source": [
    "def getFullPadandOOVHistorgrams(stories):\n",
    "    stats = {}\n",
    "    stats['PAD_hist'] = defaultdict(float)\n",
    "    stats['OOV_hist'] = defaultdict(float)\n",
    "    for story in stories:\n",
    "        for phrase in story:\n",
    "            pad_nb = np.count_nonzero(phrase==0)\n",
    "            oov_nb = np.count_nonzero(phrase==1)\n",
    "            stats['PAD_hist'][pad_nb]+=1.0\n",
    "            stats['OOV_hist'][oov_nb]+=1.0\n",
    "\n",
    "        \n",
    "    return stats"
   ]
  },
  {
   "cell_type": "code",
   "execution_count": 22,
   "metadata": {},
   "outputs": [],
   "source": [
    "def getErrorWordFrequency(errors,stories,vocab):\n",
    "    word_frequency = defaultdict(float)\n",
    "    for error in errors:\n",
    "        phrase_index = 0 \n",
    "        for true_pos,pred_pos in zip(error['true_order'],error['predicted_order']):\n",
    "            if(true_pos != pred_pos):\n",
    "                story_index = error['index']\n",
    "                phrase = stories[story_index][phrase_index]\n",
    "                for word in phrase:\n",
    "                    word_str = findWord(word,vocab)\n",
    "                    word_frequency[word_str]+=1.0\n",
    "        \n",
    "    return word_frequency"
   ]
  },
  {
   "cell_type": "code",
   "execution_count": 23,
   "metadata": {},
   "outputs": [],
   "source": [
    "def plot_word_histogram(word_freq,num_displayed,values_ignored):\n",
    "    \n",
    "    values =[]\n",
    "    labels = []\n",
    "    \n",
    "    histItems =[]\n",
    "    count = 0\n",
    "    for key,value in word_freq.items():\n",
    "        if(count>=num_displayed):\n",
    "            break\n",
    "        if(key not in values_ignored):\n",
    "            histItems.append((key,value))\n",
    "            count+=1\n",
    "    \n",
    "    histItems = sorted(histItems, key=lambda x: -x[1])\n",
    "   \n",
    "    for key,value in histItems:\n",
    "        labels.append(key)\n",
    "        values.append(value)\n",
    "        \n",
    "    util.plot_bar_graph(values, labels)"
   ]
  },
  {
   "cell_type": "code",
   "execution_count": 24,
   "metadata": {},
   "outputs": [],
   "source": [
    "def getWordFrequency(stories,vocab):\n",
    "    word_frequency = defaultdict(float)\n",
    "    for story in stories:\n",
    "        for phrase in story:\n",
    "            for word in phrase:\n",
    "                word_str = findWord(word,vocab)\n",
    "                word_frequency[word_str]+=1.0\n",
    "        \n",
    "    return word_frequency"
   ]
  },
  {
   "cell_type": "code",
   "execution_count": 25,
   "metadata": {},
   "outputs": [],
   "source": [
    "def freq_ratios(standard_freq,error_freq):\n",
    "    freq_ratio = defaultdict(float)\n",
    "    for word in error_freq.keys():\n",
    "        freq_ratio[word] = error_freq[word]/standard_freq[word]\n",
    "    return freq_ratio"
   ]
  },
  {
   "cell_type": "code",
   "execution_count": 26,
   "metadata": {},
   "outputs": [],
   "source": [
    "############           ERROR ANALYSIS API END    ###############\n",
    "###############################################################"
   ]
  },
  {
   "cell_type": "code",
   "execution_count": 27,
   "metadata": {},
   "outputs": [],
   "source": [
    "##############           PREPOCESSING API         ######################\n",
    "#  Here will go all the functions relating to preprocessing\n",
    "###################################################################"
   ]
  },
  {
   "cell_type": "code",
   "execution_count": 28,
   "metadata": {},
   "outputs": [],
   "source": [
    "# TODO create tokenizer so it handles the following:\n",
    "# - (n't 's 'm 're 've 'll 'd) word endings to be separated (shouldn't -> (should, n't))\n",
    "# - punctuation at the end of sentences (This is a sentence. -> (..., a, sentence, .))\n",
    "#     - try to make sure if possible to filter out only sentence ending punctuation (U.S. etc. Mr. St.) should be kept\n",
    "#     - also words like e.g. a.m. p.m.\n",
    "# - separate numbers from others ($5 -> $, 5)\n",
    "#\n",
    "# OR find a library that is included in the docker image (nltk and spacy aren't...) that does that for us\n",
    "#\n",
    "# decide what to do with words not in GloVe (random embedding?)\n",
    "\n",
    "# tokenisation\n",
    "punctuation = '.,:;?!\"'\n",
    "endings_2 = [\"'s\", \"'m\", \"'d\"]\n",
    "endings_3 = [\"n't\", \"'re\", \"'ve\", \"'ll\"]\n",
    "valid_words = ['e.g.', 'a.m.', 'p.m.', 'U.S.', 'etc.', 'i.e.', 'Mr.', 'Mrs.', 'Ms.', 'St.']\n",
    "currency = '$€£'\n",
    "\n",
    "def tokenize_word(word):    \n",
    "    if len(word) == 1:\n",
    "        return [word]\n",
    "    \n",
    "    if word.isalpha():\n",
    "        return [word]\n",
    "\n",
    "    if word in valid_words:\n",
    "        return [word]\n",
    "    \n",
    "    if word[0] in currency or word[0] in punctuation:\n",
    "        tokens = tokenize_word(word[1:])\n",
    "        sign = word[0]\n",
    "        tokens.insert(0, sign)\n",
    "        return tokens\n",
    "    \n",
    "    if word[-1] in punctuation:\n",
    "        tokens = tokenize_word(word[:-1])\n",
    "        tokens.append(word[-1])\n",
    "        return tokens\n",
    "    \n",
    "    if len(word) > 2 and word[-2:] in endings_2:\n",
    "        tokens = tokenize_word(word[:-2])\n",
    "        tokens.append(word[-2:])\n",
    "        return tokens\n",
    "    \n",
    "    if len(word) > 3 and word[-3:] in endings_3:\n",
    "        tokens = tokenize_word(word[:-3])\n",
    "        tokens.append(word[-3:])\n",
    "        return tokens\n",
    "    \n",
    "    return [word]\n",
    "        \n",
    "def tokenize_sent(sent):\n",
    "    sent = sent.split(' ')\n",
    "    ret = [tokens for word in sent if len(word) > 0 for tokens in tokenize_word(word) ]\n",
    "    return ret"
   ]
  },
  {
   "cell_type": "code",
   "execution_count": 29,
   "metadata": {},
   "outputs": [],
   "source": [
    "# preprocessing pipeline, used to load the data intro a structure required by the model\n",
    "def pipeline(data, vocab=None, max_sent_len_=None):\n",
    "    is_ext_vocab = True\n",
    "    if vocab is None:\n",
    "        is_ext_vocab = False\n",
    "        vocab = {'<PAD>': 0, '<OOV>': 1}\n",
    "    \n",
    "    if is_ext_vocab:\n",
    "        if 'The' in vocab:\n",
    "            capitalized = True\n",
    "        else:\n",
    "            capitalized = False\n",
    "    else:\n",
    "        capitalized = True\n",
    "\n",
    "    max_sent_len = -1\n",
    "    data_sentences = []\n",
    "    data_orders = []\n",
    "    for instance in data:\n",
    "        sents = []\n",
    "        for sentence in instance['story']:\n",
    "            sent = []\n",
    "            tokenized = tokenize_sent(sentence)\n",
    "            for token in tokenized:\n",
    "                # if we do not use capitalized letters, make the word lowercase\n",
    "                if not capitalized:\n",
    "                    token = token.lower()\n",
    "                \n",
    "                if not is_ext_vocab and token not in vocab:\n",
    "                    vocab[token] = len(vocab)\n",
    "                if token not in vocab:\n",
    "                    token_id = vocab['<OOV>']\n",
    "                    #print('NOT IN VOCAB: ' + token)\n",
    "                else:\n",
    "                    token_id = vocab[token]\n",
    "                sent.append(token_id)\n",
    "            if len(sent) > max_sent_len:\n",
    "                max_sent_len = len(sent)\n",
    "            sents.append(sent)\n",
    "        data_sentences.append(sents)\n",
    "        data_orders.append(instance['order'])\n",
    "\n",
    "    if max_sent_len_ is not None:\n",
    "        max_sent_len = max_sent_len_\n",
    "    out_sentences = np.full([len(data_sentences), 5, max_sent_len], vocab['<PAD>'], dtype=np.int32)\n",
    "\n",
    "    for i, elem in enumerate(data_sentences):\n",
    "        for j, sent in enumerate(elem):\n",
    "            out_sentences[i, j, 0:len(sent)] = sent\n",
    "\n",
    "    out_orders = np.array(data_orders, dtype=np.int32)\n",
    "    \n",
    "    return out_sentences, out_orders, vocab"
   ]
  },
  {
   "cell_type": "code",
   "execution_count": 30,
   "metadata": {
    "ExecuteTime": {
     "end_time": "2016-12-20T12:04:59.842961",
     "start_time": "2016-12-20T12:04:57.136946"
    },
    "run_control": {
     "frozen": false,
     "read_only": false
    }
   },
   "outputs": [],
   "source": [
    "def findMeanEmbedding(embeddingDict):\n",
    "    '''Get the mean embedding and the standard deviation (dimention-wise) from an input embedding dictionary'''\n",
    "    vectorList = list(embeddingDict.values())\n",
    "    return np.mean(vectorList,axis=0), np.std(vectorList,axis=0)"
   ]
  },
  {
   "cell_type": "code",
   "execution_count": 31,
   "metadata": {},
   "outputs": [],
   "source": [
    "####      REMARK    ######\n",
    "#By taking embeddings from glove that are not in the give vocab, aren't we effectively \n",
    "# increasing the length our vocab?????? Because a word not in the vocab that is in the test set will have an \n",
    "# embedding ...\n",
    "\n",
    "# So we have two ways of doing this\n",
    "\n",
    "\n",
    "\n",
    "#1 :\n",
    "# Get the N Most popular words in GLOVE to define our VOCAB and embeddings\n",
    "# Which means that the OOV words in the test set will be the words that are not in the N most popular words\n",
    "# AND all the words that we give a vector for have meaning (are not random)!\n",
    "\n",
    "#Then all we need to do is make a tokensation that makes sure to match what the GLOVE tokenisation is to avoid \n",
    "#missmatches .\n",
    "\n",
    "\n",
    "\n",
    "# 2 :\n",
    "# Using the training set to get a vocab\n",
    "# finding the embeddings in glove for the words in our vocab\n",
    "# FOR the words in our vocab THAT DONT have a glove embedding we give a RANDOM value\n",
    "\n",
    "#Then we are using our vocab to figure out what the oovs are in the test set\n",
    "#We then extract our embedding which is either the GLOVE value of the word or a RANDOM value\n",
    "# and use that  for our LSTM\n",
    "\n",
    "\n",
    "\n",
    "# 1 seems conceptually better to me, but i implemented both we can try, script 1 below  is method 1 and script 2\n",
    "# is method 2\n",
    "\n",
    "\n",
    "## THIS IS ILLUSTRATED IN THE TWO PREPROCESSING SCRIPTS BELOW"
   ]
  },
  {
   "cell_type": "code",
   "execution_count": 32,
   "metadata": {
    "ExecuteTime": {
     "end_time": "2016-12-20T12:04:59.925263",
     "start_time": "2016-12-20T12:04:59.844598"
    },
    "run_control": {
     "frozen": false,
     "read_only": false
    }
   },
   "outputs": [],
   "source": [
    "#Used in 2. in the remark above\n",
    "def createWordEmbeddings(pre_learned_embeddings,total_size = -1):\n",
    "    '''\n",
    "    Using a pre-trained word embeddings dictionary, create our (reduced in size) dictionary of embeddings.\n",
    "    Make sure that all the words in our vocab are embedded, and also use the embeddings of the most popular words,\n",
    "    as long as the total_size of the dictionary is not exceeded.\n",
    "    pre_learned_embeddings : Dictionnary of word embeddings, can come from glove or word2vec\n",
    "    total_size : Length of our output embeddings dictionary\n",
    "    Returns : A dictionary of word embeddings\n",
    "    '''\n",
    "    \n",
    "    if(total_size >=len(pre_learned_embeddings)):\n",
    "        #Undefined behaviour in the above case\n",
    "        raise ValueError(\"Total size is too big\")\n",
    "    \n",
    "    #Get the dimention of the embeddings\n",
    "    dim = len(pre_learned_embeddings[\"the\"])\n",
    "    \n",
    "    #Compute the mean vector and std vector for the glove embeddings\n",
    "    mean_glove, std_glove = findMeanEmbedding(pre_learned_embeddings)\n",
    "\n",
    "    #Initialise the embeddings dict\n",
    "    embeddings = {}\n",
    "    \n",
    "    #Iterate over all the words in our vocabulary\n",
    "    for word, word_index in vocab.items():\n",
    "        #Stop if we reach our total desired size : \n",
    "        #Careful : Will this create bugs with non-embedded words? -> Maybe its better not to allow total_size<vocab_size\n",
    "        if( total_size > 0 and len(embeddings) >= total_size):\n",
    "            print(\"Warning: Total size reached before full vocab was embedded\")\n",
    "            break\n",
    "            \n",
    "            \n",
    "        if(word == PAD_TOKEN):\n",
    "            #Set the <PAD> token to 0\n",
    "            embeddings[word_index] = np.zeros(dim)\n",
    "        elif(word == OOV_TOKEN ):\n",
    "            #Initialize the <OOV> token to 1. Update later (c.f. below)\n",
    "            embeddings[word_index] = np.ones(dim)\n",
    "        elif(word in pre_learned_embeddings):\n",
    "            #If the word is in the glove dictionnary, use this embedding\n",
    "            embeddings[word_index] = pre_learned_embeddings[word]\n",
    "        else:\n",
    "            #If not, set its embedding to a random vector with\n",
    "            #mean the average glove embedding and std the std of the glove embeddings\n",
    "            #TODO : think if there is a better way to assign vectors in our vocab that are not in Glove\n",
    "            mean_with_white_noise = mean_glove + np.random.rand(dim)*std_glove\n",
    "            embeddings[word_index] = mean_with_white_noise\n",
    "            \n",
    "            \n",
    "    #Make some more embeddings than the words that are in our vocab:\n",
    "    #Iterate over the glove Word embeddings\n",
    "    if(total_size > 0):\n",
    "        for word, pre_learned_embedding in pre_learned_embeddings.items():\n",
    "            #If we exceed our total desired length, stop\n",
    "            if(len(embeddings) >= total_size):\n",
    "                break\n",
    "\n",
    "            #Add embeddings that are not already there\n",
    "            #For this to make sense we also need to increase our vocabulary.\n",
    "            if(word not in embeddings):\n",
    "                vocab[word] = len(vocab)\n",
    "                embeddings[vocab[word]] = pre_learned_embedding \n",
    "\n",
    "\n",
    "    #Update the OOV embedding : The idea is to set it the average value of the unused Glove embeddings\n",
    "    #To do so set the OOV value to the mean of all glove embeddings - mean of our embeddings \n",
    "    #ALERT : This mean is corrupted by the noise we are adding in the else clause above and by the embeddings\n",
    "    # for the <PAD> and <OOV> tokens -> Not sure if we should care or not\n",
    "    mean_embeddings , std_embeddings = findMeanEmbedding(embeddings)\n",
    "    OOV_value = mean_glove - mean_embeddings\n",
    "    embeddings[vocab[OOV_TOKEN]] = OOV_value\n",
    "    \n",
    "    return embeddings"
   ]
  },
  {
   "cell_type": "code",
   "execution_count": 33,
   "metadata": {
    "ExecuteTime": {
     "end_time": "2016-12-20T12:04:59.954655",
     "start_time": "2016-12-20T12:04:59.926701"
    },
    "run_control": {
     "frozen": false,
     "read_only": false
    }
   },
   "outputs": [],
   "source": [
    "#Used in 1 in the remark above\n",
    "def createWordVocabAndEmbeddings(pre_learned_embeddings, total_size):  \n",
    "    '''\n",
    "    Use the total_size first embeddings from pre_learned_embeddings as our vocab and embeddings\n",
    "    Assign the mean vector of unused embeddings to get the OOV token embedding\n",
    "    Assign the origin to the PAD token embedding\n",
    "    '''\n",
    "    \n",
    "    if(total_size >=len(pre_learned_embeddings)):\n",
    "        #Undefined behaviour in the above case\n",
    "        raise ValueError(\"Total size is too big\")\n",
    "    \n",
    "    #Get the dimention of the embeddings\n",
    "    dim = len(pre_learned_embeddings[\"the\"])\n",
    "    \n",
    "    #Compute the mean vector and std vector for the glove embeddings\n",
    "    mean_glove, std_glove = findMeanEmbedding(pre_learned_embeddings)\n",
    "\n",
    "    #Initialise the embeddings and vocab dicts\n",
    "    vocab = {PAD_TOKEN:0, OOV_TOKEN:1}\n",
    "    embeddings = {0:np.zeros(dim) , 1:np.ones(dim)}\n",
    "    \n",
    "    #Create the vocab and embeddings by taking the total_size first tokens in glove\n",
    "    for word, pre_learned_embedding in pre_learned_embeddings.items():\n",
    "        if(len(embeddings)>=total_size):\n",
    "            break\n",
    "        vocab[word]=len(vocab)\n",
    "        embeddings[vocab[word]] = pre_learned_embeddings[word]\n",
    "    \n",
    "    \n",
    "    #Update the OOV embedding : The idea is to set it the average value of the unused Glove embeddings\n",
    "    #To do so set the OOV value to the mean of all glove embeddings - mean of our embeddings \n",
    "    mean_embeddings , std_embeddings = findMeanEmbedding(embeddings)\n",
    "    OOV_value = mean_glove - mean_embeddings\n",
    "    embeddings[vocab[OOV_TOKEN]] = OOV_value\n",
    "    \n",
    "    \n",
    "    return vocab, embeddings"
   ]
  },
  {
   "cell_type": "code",
   "execution_count": 34,
   "metadata": {},
   "outputs": [],
   "source": [
    "def doPCA(embeddings, output_dim):\n",
    "    '''\n",
    "    Perform PCA on a dictionary of embeddings to return the reduced-dimentionality embeddings with output_dim dimention.\n",
    "    '''\n",
    "    #Get a numpy array from the embeddings to perform the PCA\n",
    "    #Get the input dimentions\n",
    "    in_dim = len(embeddings[0])\n",
    "    num_embeddings = len(embeddings)\n",
    "    #initialise the array:\n",
    "    # get a dim*num_of_embeddings np array with all the embeddings\n",
    "    emb = np.zeros((num_embeddings,in_dim))\n",
    "\n",
    "    #Transfer the embeddings dictionary to the emb array\n",
    "    for k,v in embeddings.items():\n",
    "        emb[k,:] = v\n",
    "\n",
    "\n",
    "    #Perfom PCA using scikit learn\n",
    "    pca = PCA(n_components = output_dim)\n",
    "    pca_embeddings = pca.fit_transform(emb)\n",
    "\n",
    "\n",
    "    #Put the pca-reduced embeddings back into a dictionary\n",
    "    pca_embeddings_dict = {}\n",
    "    count = 0\n",
    "    for embedding in pca_embeddings:\n",
    "        pca_embeddings_dict[count] = embedding\n",
    "        count+=1\n",
    "\n",
    "    #Map the embedding for <PAD> back to 0.\n",
    "    pca_embeddings_dict[0]=np.zeros(pca_embeddings_dict[1].shape)\n",
    "\n",
    "    return pca_embeddings_dict\n"
   ]
  },
  {
   "cell_type": "code",
   "execution_count": 35,
   "metadata": {},
   "outputs": [],
   "source": [
    "##############      PREPROCESSING API END    #####################\n",
    "##################################################################"
   ]
  },
  {
   "cell_type": "code",
   "execution_count": 36,
   "metadata": {},
   "outputs": [],
   "source": [
    "##############      DO PREPROCESSING           ####################\n",
    "#  In this section put the scripts utilising the functions above to run the pre-processing\n",
    "###################################################################"
   ]
  },
  {
   "cell_type": "code",
   "execution_count": 37,
   "metadata": {},
   "outputs": [],
   "source": [
    "### ONLY NEED TO  (AND SHOULD) RUN ONCE: - already on github so not even ###\n",
    "#Save the glove embeddings into a pickle format "
   ]
  },
  {
   "cell_type": "code",
   "execution_count": 38,
   "metadata": {},
   "outputs": [],
   "source": [
    "#readAndDumpCSV(\"./glove/glove.6B.50d.txt\",\"glove6B50D\")"
   ]
  },
  {
   "cell_type": "code",
   "execution_count": 39,
   "metadata": {},
   "outputs": [],
   "source": [
    "#readAndDumpCSV(\"./glove/glove.6B.100d.txt\",\"glove6B100D\")"
   ]
  },
  {
   "cell_type": "code",
   "execution_count": 40,
   "metadata": {},
   "outputs": [],
   "source": [
    "#readAndDumpCSV(\"./glove/glove.6B.200d.txt\",\"glove6B200D\")"
   ]
  },
  {
   "cell_type": "code",
   "execution_count": 41,
   "metadata": {},
   "outputs": [],
   "source": [
    "#readAndDumpCSV(\"./glove/glove.6B.300d.txt\",\"glove6B300D\")"
   ]
  },
  {
   "cell_type": "code",
   "execution_count": 42,
   "metadata": {},
   "outputs": [],
   "source": [
    "#readAndDumpCSV(\"./glove/glove.42B.300d.txt\",\"glove42B300D\")"
   ]
  },
  {
   "cell_type": "code",
   "execution_count": 43,
   "metadata": {},
   "outputs": [],
   "source": [
    "#Computer runs out of memory with this one.....\n",
    "#readAndDumpCSV(\"./glove/glove.840B.300d.txt\" ,\"glove840B300D\")"
   ]
  },
  {
   "cell_type": "code",
   "execution_count": 44,
   "metadata": {},
   "outputs": [],
   "source": [
    "### Script hyper parameters!! ###\n",
    "\n",
    "#Flags\n",
    "use_pca = False \n",
    "\n",
    "#parameters\n",
    "output_dimention_from_pca = 50\n",
    "embeddings_file_to_load = \"glove6B200D.pickle\"\n",
    "vocab_size = 50000"
   ]
  },
  {
   "cell_type": "code",
   "execution_count": 45,
   "metadata": {
    "scrolled": true
   },
   "outputs": [
    {
     "data": {
      "text/plain": [
       "'########   Script 1 :   ##########\\n# Use Glove to define the vocab, and (later on, within the model) train with OOV tokens if need be\\n\\n# LOAD the Pickle file of pre-trained embeddings : Choose favorite\\npre_learned_embeddings = pickleLoad(embeddings_file_to_load)\\n\\n#Create the vocab and embeddings of desired size\\nvocab, embeddings = createWordVocabAndEmbeddings(pre_learned_embeddings, vocab_size)\\n\\nif(use_pca):\\n    embeddings = doPCA(embeddings,output_dimention_from_pca)\\n\\n\\n#Get the training data\\ntrain_stories, train_orders, _ = pipeline(data_train, vocab)\\n\\n# get the length of the longest sentence\\nmax_sent_len = train_stories.shape[2]\\n\\n#Get validation data\\ndev_stories, dev_orders, _ = pipeline(data_dev, vocab=vocab, max_sent_len_=max_sent_len)\\n\\npickleSave(vocab, \"VocabScript1\")\\npickleSave(embeddings, \"EmbeddingScript1\")\\n\\n#################################\\n'"
      ]
     },
     "execution_count": 45,
     "metadata": {},
     "output_type": "execute_result"
    }
   ],
   "source": [
    "'''########   Script 1 :   ##########\n",
    "# Use Glove to define the vocab, and (later on, within the model) train with OOV tokens if need be\n",
    "\n",
    "# LOAD the Pickle file of pre-trained embeddings : Choose favorite\n",
    "pre_learned_embeddings = pickleLoad(embeddings_file_to_load)\n",
    "\n",
    "#Create the vocab and embeddings of desired size\n",
    "vocab, embeddings = createWordVocabAndEmbeddings(pre_learned_embeddings, vocab_size)\n",
    "\n",
    "if(use_pca):\n",
    "    embeddings = doPCA(embeddings,output_dimention_from_pca)\n",
    "\n",
    "\n",
    "#Get the training data\n",
    "train_stories, train_orders, _ = pipeline(data_train, vocab)\n",
    "\n",
    "# get the length of the longest sentence\n",
    "max_sent_len = train_stories.shape[2]\n",
    "\n",
    "#Get validation data\n",
    "dev_stories, dev_orders, _ = pipeline(data_dev, vocab=vocab, max_sent_len_=max_sent_len)\n",
    "\n",
    "pickleSave(vocab, \"VocabScript1\")\n",
    "pickleSave(embeddings, \"EmbeddingScript1\")\n",
    "\n",
    "#################################\n",
    "'''"
   ]
  },
  {
   "cell_type": "code",
   "execution_count": 46,
   "metadata": {},
   "outputs": [],
   "source": [
    "### Testing version of Script 1 #### \n",
    "# Use this in order to load the vocab and embeddings produced and only load them directly when needed\n",
    "vocab = pickleLoad(\"VocabScript1.pickle\")\n",
    "embeddings= pickleLoad(\"EmbeddingScript1.pickle\")\n",
    "#Get the training data\n",
    "train_stories, train_orders, _ = pipeline(data_train, vocab)\n",
    "\n",
    "# get the length of the longest sentence\n",
    "max_sent_len = train_stories.shape[2]\n",
    "\n",
    "#Get validation data\n",
    "dev_stories, dev_orders, _ = pipeline(data_dev, vocab=vocab, max_sent_len_=max_sent_len)"
   ]
  },
  {
   "cell_type": "code",
   "execution_count": 47,
   "metadata": {},
   "outputs": [],
   "source": [
    "########### Script 2 ############ \n",
    "# Use the training data to define the vocab, and then try to adapt the Glove embeddings to this vocab\n",
    "\n",
    "# LOAD the Pickle file of pre-trained embeddings : Choose favorite\n",
    "#pre_learned_embeddings = pickleLoad(embeddings_file_to_load)\n",
    "\n",
    "\n",
    "#Get the training data and the vocabulary\n",
    "#train_stories, train_orders, vocab = pipeline(data_train)\n",
    "\n",
    "# get the length of the longest sentence\n",
    "#max_sent_len = train_stories.shape[2]\n",
    "\n",
    "#Get the word embeddings\n",
    "#embeddings = createWordEmbeddings(pre_learned_embeddings)\n",
    "\n",
    "#if(use_pca):\n",
    " #   embeddings = doPCA(embeddings,output_dimention_from_pca)\n",
    "\n",
    "#Get Validation data\n",
    "#dev_stories, dev_orders, _ = pipeline(data_dev, vocab=vocab, max_sent_len_= max_sent_len)\n",
    "################################"
   ]
  },
  {
   "cell_type": "code",
   "execution_count": 48,
   "metadata": {},
   "outputs": [],
   "source": [
    "#displayDict(embeddings,3)"
   ]
  },
  {
   "cell_type": "code",
   "execution_count": 49,
   "metadata": {},
   "outputs": [],
   "source": [
    "#displayDict(vocab,3)"
   ]
  },
  {
   "cell_type": "code",
   "execution_count": 50,
   "metadata": {},
   "outputs": [],
   "source": [
    "### OPTIONAL :\n",
    "# Use this in order to save the vocab and embeddings produced and only load them directly when needed\n",
    "#pickleSave(vocab, \"VocabScript2\")\n",
    "#pickleSave(embeddings, \"EmbeddingScript2\")"
   ]
  },
  {
   "cell_type": "code",
   "execution_count": 51,
   "metadata": {},
   "outputs": [],
   "source": [
    "### OPTIONAL:\n",
    "# If the vocabs and embeddings were saved before can just call this cell\n",
    "\n",
    "#vocab_file = \"VocabScript1.pickle\"\n",
    "#embedding_file = \"EmbeddingScript1.pickle\"\n",
    "\n",
    "#vocab = pickleLoad(vocab_file)\n",
    "#embeddings = pickleLoad(embedding_file)\n",
    "\n",
    "# get the length of the longest sentence\n",
    "#max_sent_len = train_stories.shape[2]\n",
    "\n",
    "#Get Validation data\n",
    "#dev_stories, dev_orders, _ = pipeline(data_dev, vocab=vocab, max_sent_len_=max_sent_len)"
   ]
  },
  {
   "cell_type": "code",
   "execution_count": 52,
   "metadata": {},
   "outputs": [],
   "source": [
    "#nn.show_data_instance(dev_stories, dev_orders, vocab, 15)"
   ]
  },
  {
   "cell_type": "code",
   "execution_count": 53,
   "metadata": {},
   "outputs": [],
   "source": [
    "# ADD NEW TRAINING DATA\n",
    "def reorder_training_set(train_stories, train_orders):\n",
    "\n",
    "    new_stories = []\n",
    "    new_orders = []\n",
    "    for idx, story in enumerate(train_stories):\n",
    "        perm = np.random.permutation(5)            \n",
    "        new_story = story[perm, :]\n",
    "        new_order = train_orders[idx][perm]\n",
    "        new_stories.append(new_story)\n",
    "        new_orders.append(new_order)\n",
    "        \n",
    "    return np.array(new_stories), np.array(new_orders)"
   ]
  },
  {
   "cell_type": "code",
   "execution_count": 54,
   "metadata": {},
   "outputs": [],
   "source": [
    "##############      DO PREPORCESSING END   #####################\n",
    "##################################################################"
   ]
  },
  {
   "cell_type": "markdown",
   "metadata": {},
   "source": [
    "### Model\n",
    "\n",
    "The model we provide is a rudimentary, non-optimised model that essentially represents every word in a sentence with a fixed vector, sums these vectors up (per sentence) and puts a softmax at the end which aims to guess the order of sentences independently.\n",
    "\n",
    "First we define the model parameters:"
   ]
  },
  {
   "cell_type": "code",
   "execution_count": 55,
   "metadata": {},
   "outputs": [],
   "source": [
    " #Imports\n",
    "from tensorflow.contrib import rnn\n",
    "from scipy.optimize import linear_sum_assignment\n",
    "import time"
   ]
  },
  {
   "cell_type": "code",
   "execution_count": 107,
   "metadata": {
    "ExecuteTime": {
     "end_time": "2016-12-20T12:04:59.966529",
     "start_time": "2016-12-20T12:04:59.956638"
    },
    "run_control": {
     "frozen": false,
     "read_only": false
    }
   },
   "outputs": [],
   "source": [
    "### MODEL PARAMETERS ###\n",
    "target_size = 5\n",
    "vocab_size = len(vocab)\n",
    "input_size = len(embeddings[0])\n",
    "# n = len(train_stories)\n",
    "output_size = 5\n",
    "\n",
    "n_hidden_1 = 64\n",
    "n_hidden_2 = 32\n",
    "num_hidden_lstm = 64\n",
    "sentence_embedding_dim = 128\n",
    "attention_width = 32\n",
    "attention_instances = 1\n",
    "patience = 4\n",
    "\n",
    "learning_rate = 0.001\n",
    "clip_norm = 10.0\n",
    "\n",
    "regularizer = 0.001\n",
    "\n",
    "SE_methods = ['one_layer_LSTM', 'one_layer_biLSTM', 'two_layer_LSTM', 'two_layer_biLSTM', 'three_layer_LSTM', 'self_attention']\n",
    "SE_method = 'two_layer_biLSTM' # choose from SE_methods\n",
    "\n",
    "OPT_methods = ['original', 'hungarian', 'regression']\n",
    "OPT_method = 'hungarian'"
   ]
  },
  {
   "cell_type": "markdown",
   "metadata": {},
   "source": [
    "and then we define the model"
   ]
  },
  {
   "cell_type": "code",
   "execution_count": 57,
   "metadata": {},
   "outputs": [],
   "source": [
    "def inverse_permutation(x, batch_size):\n",
    "    # x will be a numpy array with the contents of the placeholder below\n",
    "    y = np.zeros_like(x, dtype=np.int32)\n",
    "    for b in range(batch_size):\n",
    "        for i in range(5):\n",
    "            y[b, x[b, i]] = 4 - i\n",
    "    return y"
   ]
  },
  {
   "cell_type": "code",
   "execution_count": 58,
   "metadata": {},
   "outputs": [],
   "source": [
    "def hungarian_method(x, batch_size):\n",
    "    l = list()\n",
    "    #print('x={}'.format(x[:3, :]))\n",
    "    #print('batch_size={}'.format(batch_size))\n",
    "    \n",
    "    for b in range(batch_size):\n",
    "        row_indices, column_indices = linear_sum_assignment(-x[b, :])\n",
    "        l.append(column_indices)\n",
    "        \n",
    "    l = np.array(l, dtype=np.int32)\n",
    "    #print('l={}'.format(l[:3]))\n",
    "    return l"
   ]
  },
  {
   "cell_type": "code",
   "execution_count": 59,
   "metadata": {},
   "outputs": [],
   "source": [
    "def RNN(x, weights, biases, fwd_cell, sent_lens):\n",
    "\n",
    "    # Get lstm cell output - dynamic_rnn allows for different sequence lengths, sets output to 0 after and just maintains state\n",
    "    outputs, final_states = tf.nn.dynamic_rnn(fwd_cell, x, dtype=tf.float32, sequence_length=sent_lens)\n",
    "    \n",
    "    final_output = final_states[1] # final_states returns a tuple of (final_output, final_state)\n",
    "\n",
    "    return tf.matmul(final_output, weights) + biases"
   ]
  },
  {
   "cell_type": "code",
   "execution_count": 60,
   "metadata": {},
   "outputs": [],
   "source": [
    "def BiRNN(x, weights, biases, fwd_cell, bwd_cell, sent_lens):\n",
    "   \n",
    "    outputs, final_states = tf.nn.bidirectional_dynamic_rnn(fwd_cell, bwd_cell, x, dtype=tf.float32, sequence_length=sent_lens)\n",
    "\n",
    "    states_concat = tf.concat([final_states[0], final_states[1]], 2) # concatenate the forward pass and backwards pass\n",
    "\n",
    "    final_output = states_concat[1] # states_concat returns a tuple of (final_context, final_state)\n",
    "\n",
    "    return tf.matmul(final_output, weights) + biases"
   ]
  },
  {
   "cell_type": "code",
   "execution_count": 61,
   "metadata": {},
   "outputs": [],
   "source": [
    "def TwoLayerRNN(x, weights, biases, cell1, cell2, sent_lens):\n",
    "    \n",
    "    # Get outputs from 1 layer LSTM\n",
    "    outputs, final_states = tf.nn.dynamic_rnn(cell1, x, dtype=tf.float32, sequence_length=sent_lens, scope='layer1')\n",
    "    # Use outputs from previous layer as input to LSTM\n",
    "    outputs, final_states = tf.nn.dynamic_rnn(cell2, outputs, dtype=tf.float32, sequence_length=sent_lens, scope='layer2')\n",
    "    \n",
    "    final_output = final_states[1] # final_states returns a tuple of (final_output, final_state); get output only\n",
    "    \n",
    "    return tf.matmul(final_output, weights) + biases \n",
    "    "
   ]
  },
  {
   "cell_type": "code",
   "execution_count": 62,
   "metadata": {},
   "outputs": [],
   "source": [
    "def MultiLayerBiRNN(x, weights, biases, fwd_cell1, fwd_cell2, bwd_cell1, bwd_cell2, sent_lens):\n",
    "\n",
    "    # Get outputs from 1 layer LSTM\n",
    "    outputs, final_states = tf.nn.bidirectional_dynamic_rnn(\n",
    "       fwd_cell1, bwd_cell1, x, dtype=tf.float32, sequence_length=sent_lens, scope='layer1')\n",
    "\n",
    "    # Concatenate outputs\n",
    "\n",
    "    output_concat = tf.concat([outputs[0], outputs[1]], 2)\n",
    "\n",
    "    # Use outputs from previous layer as input to LSTM\n",
    "    outputs, final_states = tf.nn.bidirectional_dynamic_rnn(\n",
    "       fwd_cell2, bwd_cell2, output_concat, dtype=tf.float32, sequence_length=sent_lens, scope='layer2')\n",
    "\n",
    "    states_concat = tf.concat([final_states[0], final_states[1]], 2) # concatenate the forward pass and backwards pass\n",
    "\n",
    "    final_state = states_concat[1] # get final hidden state, ignore final context\n",
    "\n",
    "    return tf.matmul(final_state, weights) + biases"
   ]
  },
  {
   "cell_type": "code",
   "execution_count": 63,
   "metadata": {},
   "outputs": [],
   "source": [
    "def ThreeLayerRNN(x, weights, biases, cell1, cell2, cell3, sent_lens):\n",
    "    \n",
    "    # Get outputs from 1 layer LSTM\n",
    "    outputs, final_states = tf.nn.dynamic_rnn(cell1, x, dtype=tf.float32, sequence_length=sent_lens, scope='layer1')\n",
    "    # Use outputs from previous layer as input to LSTM\n",
    "    outputs, final_states = tf.nn.dynamic_rnn(cell2, outputs, dtype=tf.float32, sequence_length=sent_lens, scope='layer2')\n",
    "    outputs, final_states = tf.nn.dynamic_rnn(cell3, outputs, dtype=tf.float32, sequence_length=sent_lens, scope='layer3')\n",
    "    \n",
    "    final_output = final_states[1] # final_states returns a tuple of (final_output, final_state); get output only\n",
    "    \n",
    "    return tf.matmul(final_output, weights) + biases "
   ]
  },
  {
   "cell_type": "code",
   "execution_count": 64,
   "metadata": {},
   "outputs": [],
   "source": [
    "def SelfAttention(x, weights, biases, fwd_cell1, fwd_cell2, bwd_cell1, bwd_cell2, sent_lens):\n",
    "    \"\"\"Implementation of self attention paper https://arxiv.org/pdf/1703.03130.pdf\"\"\"\n",
    "    \n",
    "        # Get outputs from 1 layer LSTM\n",
    "    outputs, final_states = tf.nn.bidirectional_dynamic_rnn(\n",
    "       fwd_cell1, bwd_cell1, x, dtype=tf.float32, sequence_length=sent_lens, scope='layer1')\n",
    "\n",
    "    # Concatenate outputs\n",
    "\n",
    "    output_concat = tf.concat([outputs[0], outputs[1]], 2)\n",
    "\n",
    "    # Use outputs from previous layer as input to LSTM\n",
    "    outputs, final_states = tf.nn.bidirectional_dynamic_rnn(\n",
    "       fwd_cell2, bwd_cell2, output_concat, dtype=tf.float32, sequence_length=sent_lens, scope='layer2')\n",
    "    \n",
    "    output_concat = tf.concat([outputs[0], outputs[1]], 2)\n",
    "    \n",
    "    #Compute Self Attention\n",
    "    \n",
    "    #outputs_concat is [batch_size x max_length x 2* num_hidden]\n",
    "    \n",
    "    #Tile weights for matmul\n",
    "    w1_tiled = tf.expand_dims(weights['attn_1'], axis=0)\n",
    "    w1_tiled = tf.tile(w1_tiled, [batch_size, 1,1])\n",
    "    w2_tiled = tf.expand_dims(weights['attn_2'], axis=0)\n",
    "    w2_tiled = tf.tile(w2_tiled, [batch_size, 1,1])\n",
    "    \n",
    "    a = tf.tanh(tf.matmul(output_concat, w1_tiled)) # [batch_size x max_length x attention_width]\n",
    "    \n",
    "    A = tf.nn.softmax(tf.matmul(a, w2_tiled), dim=1) # [batch_size x max_length x attention_instances]\n",
    "    \n",
    "    output_concat = tf.transpose(output_concat, [0,2,1]) # for easy matmul\n",
    "    \n",
    "    sentence_embedded = tf.matmul(output_concat, A) # [batch_size x 2*num_hidden x attention_instances]\n",
    "    \n",
    "    sentence_embedded = tf.contrib.layers.flatten(sentence_embedded) # flatten matrix of embeddings\n",
    "    \n",
    "    sentence_embedded =  tf.matmul(sentence_embedded, weights['lstm']) + biases['lstm']\n",
    "    \n",
    "    return sentence_embedded"
   ]
  },
  {
   "cell_type": "code",
   "execution_count": 65,
   "metadata": {},
   "outputs": [],
   "source": [
    "def convolution_embedding(sentence_embedding):\n",
    "\n",
    "    convolve_1d = tf.layers.conv1d(sentence_embedding, filters=128, kernel_size=3, padding='same', activation=tf.nn.relu)\n",
    "\n",
    "    return convolve_1d"
   ]
  },
  {
   "cell_type": "code",
   "execution_count": 66,
   "metadata": {},
   "outputs": [],
   "source": [
    "def dense_batch_relu_dropout(x, num_of_neurons, dropout_prob, phase, scope):\n",
    "    with tf.variable_scope(scope):\n",
    "        h1 = tf.contrib.layers.fully_connected(x, num_of_neurons, \n",
    "                                               activation_fn=None,\n",
    "                                               scope=scope)\n",
    "        h2 = tf.contrib.layers.batch_norm(h1, \n",
    "                                          center=True, scale=True, \n",
    "                                          is_training=phase,\n",
    "                                          scope='bn')\n",
    "        h3 = tf.layers.dropout(inputs=h2, rate=dropout_prob)\n",
    "        return tf.nn.relu(h3, 'relu')\n",
    "    \n",
    "def dense_relu_dropout(x, num_of_neurons, dropout_prob, scope):\n",
    "    with tf.variable_scope(scope):\n",
    "        h1 = tf.contrib.layers.fully_connected(x, num_of_neurons, \n",
    "                                               activation_fn=None,\n",
    "                                               scope=scope)\n",
    "        h2 = tf.layers.dropout(inputs=h1, rate=dropout_prob)\n",
    "        return tf.nn.relu(h2, 'relu')"
   ]
  },
  {
   "cell_type": "code",
   "execution_count": 67,
   "metadata": {
    "ExecuteTime": {
     "end_time": "2016-12-20T12:05:00.995336",
     "start_time": "2016-12-20T12:04:59.968153"
    },
    "run_control": {
     "frozen": false,
     "read_only": false
    },
    "scrolled": false
   },
   "outputs": [],
   "source": [
    "### MODEL ###\n",
    "tf.reset_default_graph()\n",
    "\n",
    "## PLACEHOLDERS\n",
    "story = tf.placeholder(tf.int32, [None, None, None],\n",
    "                       \"story\")  # [batch_size x 5 x max_length]\n",
    "order = tf.placeholder(tf.int32, [None, None], \"order\")  # [batch_size x 5]\n",
    "dropout_prob = tf.placeholder(\n",
    "    tf.float32)  # to hold dropout probability (need placeholder as no dropout at prediction time)\n",
    "phase = tf.placeholder(tf.bool, name='phase')\n",
    "\n",
    "batch_size = tf.shape(story)[0]\n",
    "max_length = tf.shape(story)[2]\n",
    "\n",
    "sentences = [tf.reshape(x, [batch_size, -1]) for x in\n",
    "             tf.split(axis=1, num_or_size_splits=5,\n",
    "                      value=story)]  # 5 times [batch_size x max_length]\n",
    "\n",
    "# We need the lengths of each sentence as an input to the dynamic_rnn - find the number of nonzero elements\n",
    "# in each sentence\n",
    "sentence_lengths = [tf.count_nonzero(sentence, 1) for sentence in sentences]\n",
    "\n",
    "#### USE CUSTOM EMBEDDINGS #######\n",
    "# In order to restore to previous state reverse (comment uncommented and uncomment commented)\n",
    "\n",
    "# Word embeddings\n",
    "# initializer = tf.glorot_uniform_initializer()\n",
    "# embeddings = tf.get_variable(\"W\", [vocab_size, input_size], initializer=initializer)\n",
    "\n",
    "# sentences_embedded = [tf.nn.embedding_lookup(embeddings, sentence)   # 5 times[batch_size x max_seq_length x input_size]\n",
    "#                     for sentence in sentences]\n",
    "\n",
    "embeddings_array = np.zeros((vocab_size, input_size), dtype=np.float32)\n",
    "\n",
    "for k, val in embeddings.items():\n",
    "    embeddings_array[k] = val\n",
    "\n",
    "embeddings_var = tf.get_variable(\"W\", initializer=embeddings_array)\n",
    "\n",
    "embeddings_var = tf.cast(embeddings_var, tf.float32)\n",
    "sentences_embedded = [tf.nn.embedding_lookup(embeddings_var, sentence)\n",
    "                      # 5 times[batch_size x max_seq_length x input_size]\n",
    "                      for sentence in sentences]\n",
    "##################################\n",
    "\n",
    "#sentences_embedded = [convolution_embedding(sentences_embedded[i]) for i in range(5)]\n",
    "\n",
    "if SE_method == 'one_layer_LSTM':\n",
    "    fwd_cell = rnn.BasicLSTMCell(num_hidden_lstm)  # forward lstm cell\n",
    "    fwd_cell = rnn.DropoutWrapper(fwd_cell, output_keep_prob=1.0 - dropout_prob)\n",
    "\n",
    "    weights = {\n",
    "        'lstm': tf.get_variable('lstm',\n",
    "                                shape=[num_hidden_lstm, sentence_embedding_dim],\n",
    "                                initializer=tf.glorot_normal_initializer(),\n",
    "                                regularizer=tf.contrib.layers.l2_regularizer(\n",
    "                                    scale=regularizer))\n",
    "    }\n",
    "    biases = {\n",
    "        'lstm': tf.get_variable('bias_lstm',\n",
    "                                shape=[sentence_embedding_dim],\n",
    "                                initializer=tf.glorot_normal_initializer())\n",
    "    }\n",
    "\n",
    "    sentence_codes = [\n",
    "        RNN(sentences_embedded[i], weights['lstm'], biases['lstm'], fwd_cell,\n",
    "            sentence_lengths[i]) for i in range(5)]\n",
    "elif SE_method == 'one_layer_biLSTM':\n",
    "    fwd_cell = rnn.BasicLSTMCell(num_hidden_lstm)  # forward lstm cell\n",
    "    fwd_cell = rnn.DropoutWrapper(fwd_cell, output_keep_prob=1.0 - dropout_prob)\n",
    "    bwd_cell = rnn.BasicLSTMCell(\n",
    "        num_hidden_lstm)  # backwards lstm cell for bidirectional\n",
    "    bwd_cell = rnn.DropoutWrapper(bwd_cell, output_keep_prob=1.0 - dropout_prob)\n",
    "\n",
    "    weights = {\n",
    "        'bi': tf.get_variable('bi', shape=[2 * num_hidden_lstm,\n",
    "                                           sentence_embedding_dim],\n",
    "                              initializer=tf.glorot_normal_initializer(),\n",
    "                              regularizer=tf.contrib.layers.l2_regularizer(\n",
    "                                     scale=regularizer))\n",
    "        # 2 times num_hidden_lstm because we concat the outputs of the 2 directions\n",
    "    }\n",
    "    biases = {\n",
    "        'bi': tf.get_variable('bias_bi',\n",
    "                                shape=[sentence_embedding_dim],\n",
    "                                initializer=tf.glorot_normal_initializer())\n",
    "    }\n",
    "\n",
    "    sentence_codes = [\n",
    "        BiRNN(sentences_embedded[i], weights['bi'], biases['bi'], fwd_cell,\n",
    "              bwd_cell, sentence_lengths[i]) for i in range(5)]\n",
    "elif SE_method == 'two_layer_LSTM':\n",
    "    fwd_cell = rnn.BasicLSTMCell(num_hidden_lstm)  # forward lstm cell\n",
    "    fwd_cell = rnn.DropoutWrapper(fwd_cell, output_keep_prob=1.0 - dropout_prob)\n",
    "    fwd_cell2 = rnn.BasicLSTMCell(num_hidden_lstm)\n",
    "    fwd_cell2 = rnn.DropoutWrapper(fwd_cell2,\n",
    "                                   output_keep_prob=1.0 - dropout_prob)\n",
    "\n",
    "    weights = {\n",
    "        'layer': tf.get_variable('layer',\n",
    "                                 shape=[num_hidden_lstm,\n",
    "                                        sentence_embedding_dim],\n",
    "                                 initializer=tf.glorot_normal_initializer(),\n",
    "                                 regularizer=tf.contrib.layers.l2_regularizer(\n",
    "                                     scale=regularizer))\n",
    "    }\n",
    "    biases = {\n",
    "        'layer': tf.get_variable('bias_layer',\n",
    "                                shape=[sentence_embedding_dim],\n",
    "                                initializer=tf.glorot_normal_initializer())\n",
    "    }\n",
    "\n",
    "    sentence_codes = [\n",
    "        TwoLayerRNN(sentences_embedded[i], weights['layer'], biases['layer'],\n",
    "                    fwd_cell, fwd_cell2, sentence_lengths[i]) for i in range(5)]\n",
    "elif SE_method == 'three_layer_LSTM':\n",
    "    fwd_cell = rnn.BasicLSTMCell(num_hidden_lstm)  # forward lstm cell\n",
    "    fwd_cell = rnn.DropoutWrapper(fwd_cell, output_keep_prob=1.0 - dropout_prob)\n",
    "    fwd_cell2 = rnn.BasicLSTMCell(num_hidden_lstm)\n",
    "    fwd_cell2 = rnn.DropoutWrapper(fwd_cell2,\n",
    "                                   output_keep_prob=1.0 - dropout_prob)\n",
    "    fwd_cell3 = rnn.BasicLSTMCell(num_hidden_lstm)\n",
    "    fwd_cell3 = rnn.DropoutWrapper(fwd_cell3,\n",
    "                                   output_keep_prob=1.0 - dropout_prob)\n",
    "\n",
    "    weights = {\n",
    "        'layer': tf.get_variable('layer',\n",
    "                                 shape=[num_hidden_lstm,\n",
    "                                        sentence_embedding_dim],\n",
    "                                 initializer=tf.glorot_normal_initializer(),\n",
    "                                 regularizer=tf.contrib.layers.l2_regularizer(\n",
    "                                     scale=regularizer))\n",
    "    }\n",
    "    biases = {\n",
    "        'layer': tf.get_variable('bias_layer',\n",
    "                                 shape=[sentence_embedding_dim],\n",
    "                                 initializer=tf.glorot_normal_initializer())\n",
    "    }\n",
    "\n",
    "    sentence_codes = [\n",
    "        ThreeLayerRNN(sentences_embedded[i], weights['layer'], biases['layer'],\n",
    "                      fwd_cell, fwd_cell2, fwd_cell3, sentence_lengths[i]) for i\n",
    "        in range(5)]\n",
    "    \n",
    "elif SE_method == 'two_layer_biLSTM':\n",
    "    fwd_cell1 = rnn.BasicLSTMCell(num_hidden_lstm)  # forward lstm cell\n",
    "    fwd_cell1 = rnn.DropoutWrapper(fwd_cell1, output_keep_prob=1.0 - dropout_prob)\n",
    "    bwd_cell1 = rnn.BasicLSTMCell(num_hidden_lstm)  # backwards lstm cell for bidirectional\n",
    "    bwd_cell1= rnn.DropoutWrapper(bwd_cell1, output_keep_prob=1.0 - dropout_prob)\n",
    "\n",
    "    fwd_cell2 = rnn.BasicLSTMCell(2*num_hidden_lstm)  # forward lstm cell\n",
    "    fwd_cell2 = rnn.DropoutWrapper(fwd_cell2, output_keep_prob=1.0 - dropout_prob)\n",
    "    bwd_cell2 = rnn.BasicLSTMCell(2*num_hidden_lstm)  # backwards lstm cell for bidirectional\n",
    "    bwd_cell2= rnn.DropoutWrapper(bwd_cell2, output_keep_prob=1.0 - dropout_prob)\n",
    "\n",
    "    weights = {\n",
    "       'bi': tf.get_variable('bi', shape=[4 * num_hidden_lstm,\n",
    "                                          sentence_embedding_dim],\n",
    "                             initializer=tf.glorot_normal_initializer(),\n",
    "                             regularizer=tf.contrib.layers.l2_regularizer(\n",
    "                                    scale=regularizer))\n",
    "    }\n",
    "    biases = {\n",
    "       'bi': tf.get_variable('bias_bi',\n",
    "                               shape=[sentence_embedding_dim],\n",
    "                               initializer=tf.glorot_normal_initializer())\n",
    "    }\n",
    "\n",
    "    sentence_codes = [\n",
    "       MultiLayerBiRNN(sentences_embedded[i], weights['bi'], biases['bi'], fwd_cell1, fwd_cell2,\n",
    "             bwd_cell1, bwd_cell2, sentence_lengths[i]) for i in range(5)]\n",
    "    \n",
    "elif SE_method == 'self_attention':\n",
    "    fwd_cell1 = rnn.BasicLSTMCell(num_hidden_lstm)  # forward lstm cell\n",
    "    fwd_cell1 = rnn.DropoutWrapper(fwd_cell1, output_keep_prob=1.0 - dropout_prob)\n",
    "    bwd_cell1 = rnn.BasicLSTMCell(num_hidden_lstm)  # backwards lstm cell for bidirectional\n",
    "    bwd_cell1= rnn.DropoutWrapper(bwd_cell1, output_keep_prob=1.0 - dropout_prob)\n",
    "\n",
    "    fwd_cell2 = rnn.BasicLSTMCell(num_hidden_lstm)  # forward lstm cell\n",
    "    fwd_cell2 = rnn.DropoutWrapper(fwd_cell2, output_keep_prob=1.0 - dropout_prob)\n",
    "    bwd_cell2 = rnn.BasicLSTMCell(num_hidden_lstm)  # backwards lstm cell for bidirectional\n",
    "    bwd_cell2= rnn.DropoutWrapper(bwd_cell2, output_keep_prob=1.0 - dropout_prob)\n",
    "\n",
    "    weights = {\n",
    "        'lstm' : tf.get_variable('lstm',\n",
    "                                shape=[2*num_hidden_lstm, sentence_embedding_dim],\n",
    "                                initializer=tf.glorot_normal_initializer(),\n",
    "                                regularizer=tf.contrib.layers.l2_regularizer(\n",
    "                                    scale=regularizer)),\n",
    "        'attn_1' : tf.get_variable('attn_1',\n",
    "                                shape=[2*num_hidden_lstm, attention_width],\n",
    "                                initializer=tf.glorot_normal_initializer(),\n",
    "                                regularizer=tf.contrib.layers.l2_regularizer(\n",
    "                                    scale=regularizer)),\n",
    "        'attn_2' : tf.get_variable('attn_2',\n",
    "                                shape=[attention_width, attention_instances],\n",
    "                                initializer=tf.glorot_normal_initializer(),\n",
    "                                regularizer=tf.contrib.layers.l2_regularizer(\n",
    "                                    scale=regularizer))\n",
    "    }\n",
    "    biases = {\n",
    "        'lstm': tf.get_variable('bias_lstm',\n",
    "                                shape=[sentence_embedding_dim],\n",
    "                                initializer=tf.glorot_normal_initializer())\n",
    "    }\n",
    "\n",
    "    sentence_codes = [\n",
    "        SelfAttention(sentences_embedded[i], weights, biases, fwd_cell1,\n",
    "                      fwd_cell2, bwd_cell1, bwd_cell2, sentence_lengths[i]) for i in range(5)]\n",
    "else:\n",
    "    raise InvalidArgumentException('Choose a valid sentence embedding method!')\n",
    "\n",
    "h_temp = tf.concat(axis=1,\n",
    "                   values=sentence_codes)  # [batch_size x 5*sentence_embedding_dim]\n",
    "h = tf.reshape(h_temp, [batch_size, 5 * sentence_embedding_dim])\n",
    "\n",
    "# dense1 = dense_batch_relu_dropout(x=h, num_of_neurons=n_hidden_1, dropout_prob=dropout_prob, phase=phase, scope='layer1')\n",
    "# dense2 = dense_batch_relu_dropout(x=dense1, num_of_neurons=n_hidden_2, dropout_prob=dropout_prob, phase=phase, scope='layer2')\n",
    "dense1 = dense_relu_dropout(x=h, num_of_neurons=n_hidden_1,\n",
    "                            dropout_prob=dropout_prob, scope='layer1')\n",
    "dense2 = dense_relu_dropout(x=dense1, num_of_neurons=n_hidden_2,\n",
    "                            dropout_prob=dropout_prob, scope='layer2')\n",
    "\n",
    "if OPT_method == 'original':\n",
    "    # ORIGINAL SETUP\n",
    "    logits_flat = tf.contrib.layers.fully_connected(inputs=dense2,\n",
    "                                                num_outputs=5 * target_size,\n",
    "                                                activation_fn=None)  # [batch_size x 5*sentence_embedding_dim]\n",
    "    logits = tf.reshape(logits_flat, [-1, 5, target_size])  # [batch_size x 5 x target_size]\n",
    "    \n",
    "    temp = tf.nn.sparse_softmax_cross_entropy_with_logits(logits=logits, labels=order)\n",
    "    loss = tf.reduce_sum(temp)\n",
    "\n",
    "    unpacked_logits = [tensor for tensor in tf.unstack(logits, axis=1)]\n",
    "    softmaxes = [tf.nn.softmax(tensor) for tensor in unpacked_logits]\n",
    "    softmaxed_logits = tf.stack(softmaxes, axis=1)\n",
    "\n",
    "    predict = tf.argmax(softmaxed_logits, 2)\n",
    "\n",
    "elif OPT_method == 'hungarian':\n",
    "    # ORIGINAL + MAXIMUM WEIGHTED ASSIGNMENT\n",
    "    logits_flat = tf.contrib.layers.fully_connected(inputs=dense2,\n",
    "                                                num_outputs=5 * target_size,\n",
    "                                                activation_fn=None)  # [batch_size x 5*sentence_embedding_dim]\n",
    "    logits = tf.reshape(logits_flat, [-1, 5, target_size])  # [batch_size x 5 x target_size]\n",
    "    temp = tf.nn.sparse_softmax_cross_entropy_with_logits(logits=logits,\n",
    "                                                          labels=order)\n",
    "    loss = tf.reduce_sum(temp) + tf.add_n(tf.losses.get_regularization_losses())\n",
    "\n",
    "    unpacked_logits = [tensor for tensor in tf.unstack(logits, axis=1)]\n",
    "    softmaxes = [tf.nn.softmax(tensor) for tensor in unpacked_logits]\n",
    "    softmaxed_logits = tf.stack(softmaxes, axis=1)\n",
    "\n",
    "    predict = tf.py_func(hungarian_method, [softmaxed_logits, batch_size], tf.int32)\n",
    "\n",
    "elif OPT_method == 'regression':\n",
    "    # REGRESSION + MSE\n",
    "    logits_flat = tf.contrib.layers.fully_connected(inputs=dense2, num_outputs=target_size, activation_fn=None)  # [batch_size x 5*sentence_embedding_dim]\n",
    "    loss = tf.losses.mean_squared_error(predictions=logits_flat, labels=order) + tf.add_n(tf.losses.get_regularization_losses())\n",
    "\n",
    "    values, indices = tf.nn.top_k(logits_flat, 5)\n",
    "    predict = tf.py_func(inverse_permutation, [indices, batch_size], tf.int32)\n",
    "else:\n",
    "    raise InvalidArgumentException('Choose a valid optimizing function!')"
   ]
  },
  {
   "cell_type": "markdown",
   "metadata": {},
   "source": [
    "We built our model, together with the loss and the prediction function, all we are left with now is to build an optimiser on the loss:"
   ]
  },
  {
   "cell_type": "code",
   "execution_count": 68,
   "metadata": {
    "ExecuteTime": {
     "end_time": "2016-12-20T12:05:01.184409",
     "start_time": "2016-12-20T12:05:00.997016"
    },
    "run_control": {
     "frozen": false,
     "read_only": false
    }
   },
   "outputs": [],
   "source": [
    "# minimize in two steps, to do gradient clipping before applying it\n",
    "opt_op = tf.train.RMSPropOptimizer(learning_rate=learning_rate)\n",
    "gradients, variables = zip(*opt_op.compute_gradients(loss))\n",
    "gradients, _ = tf.clip_by_global_norm(gradients, clip_norm)\n",
    "optimize = opt_op.apply_gradients(zip(gradients, variables))\n",
    "\n",
    "#optimize = tf.train.AdamOptimizer().minimize(loss)"
   ]
  },
  {
   "cell_type": "code",
   "execution_count": 69,
   "metadata": {
    "scrolled": false
   },
   "outputs": [],
   "source": [
    "#show_graph(tf.get_default_graph().as_graph_def())"
   ]
  },
  {
   "cell_type": "code",
   "execution_count": null,
   "metadata": {
    "scrolled": true
   },
   "outputs": [],
   "source": []
  },
  {
   "cell_type": "markdown",
   "metadata": {},
   "source": [
    "### Model training \n",
    "\n",
    "We defined the preprocessing pipeline, set the model up, so we can finally train the model"
   ]
  },
  {
   "cell_type": "code",
   "execution_count": 70,
   "metadata": {
    "ExecuteTime": {
     "end_time": "2016-12-20T12:05:54.615600",
     "start_time": "2016-12-20T12:05:01.186008"
    },
    "run_control": {
     "frozen": false,
     "read_only": false
    },
    "scrolled": false
   },
   "outputs": [
    {
     "data": {
      "text/plain": [
       "'BATCH_SIZE = 128\\n#train_stories = train_stories[:1000]\\n#train_orders = train_orders[:1000]\\nverbose = True\\nuse_early_stopping = True\\n\\nwith tf.Session() as sess:\\n    if(use_early_stopping):\\n        early_stopper = EarlyStopper(patience,True)\\n    \\n    sess.run(tf.initialize_all_variables())\\n    n = train_stories.shape[0]\\n    \\n    for epoch in range(100):\\n        print(\\'----- Epoch\\', epoch, \\'-----\\')\\n        start = time.time()\\n        \\n        total_loss = 0\\n        train_stories, train_orders = reorder_training_set(train_stories, train_orders)\\n        \\n        perm = np.random.permutation(n)\\n        for i in range(n // BATCH_SIZE):\\n            indices = perm[i * BATCH_SIZE: (i + 1) * BATCH_SIZE]\\n            inst_story = train_stories[indices]\\n            inst_order = train_orders[indices]\\n            feed_dict = {story: inst_story, order: inst_order, dropout_prob: 0.5, phase: True}\\n            #o, temp, prediction, _, current_loss= sess.run([order, logits_flat, predict, optimize, loss], feed_dict=feed_dict)\\n            _, current_loss= sess.run([optimize, loss], feed_dict=feed_dict)\\n            \\n            \\n            if(i % 25 == 0 and verbose):\\n                print(\"Current Epoch %: {}/{} loss:{}\".format(i, n // BATCH_SIZE, current_loss))\\n                \\n            total_loss += current_loss\\n\\n        print(\\' Train loss:\\', total_loss / n)\\n\\n        train_feed_dict = {story: train_stories, order: train_orders, dropout_prob: 0.0, phase: False}\\n        train_predicted = sess.run(predict, feed_dict=train_feed_dict)\\n        train_accuracy = nn.calculate_accuracy(train_orders, train_predicted)\\n        print(\\' Train accuracy:\\', train_accuracy)\\n        \\n        dev_feed_dict = {story: dev_stories, order: dev_orders, dropout_prob: 0.0, phase: False}\\n        dev_predicted = sess.run(predict, feed_dict=dev_feed_dict)\\n        dev_accuracy = nn.calculate_accuracy(dev_orders, dev_predicted)\\n        print(\\' Dev accuracy:\\', dev_accuracy)\\n        \\n        finish = time.time()\\n        print(\\'Took {} seconds\\'.format(finish - start))\\n        \\n        if(use_early_stopping):\\n            if(early_stopper.checkEarlyStopping(dev_accuracy,sess)):\\n                break\\n\\n    if(use_early_stopping):\\n        # LOAD EARLY STOPPED MODEL\\n        print(\"Training Stopped, Loading saved model with max. dev accuracy from early stopping\")\\n        saver = tf.train.Saver()\\n        saver.restore(sess, \\'./model/model.checkpoint\\')\\n\\n        # MAKE SURE IT GIVES THE SAME PREDICTIONS AS BEFORE\\n        print(\"Calculating Dev Accuracy for the early stopped model: \")\\n        dev_feed_dict = {story: dev_stories, order: dev_orders, dropout_prob: 0.0, phase: False}\\n        dev_predicted = sess.run(predict, feed_dict=dev_feed_dict)\\n        dev_accuracy = nn.calculate_accuracy(dev_orders, dev_predicted)\\n        print(\"Dev Accuracy : {}\".format(dev_accuracy))\\n    else:\\n        nn.save_model(sess)\\n        \\n'"
      ]
     },
     "execution_count": 70,
     "metadata": {},
     "output_type": "execute_result"
    }
   ],
   "source": [
    "'''BATCH_SIZE = 128\n",
    "#train_stories = train_stories[:1000]\n",
    "#train_orders = train_orders[:1000]\n",
    "verbose = True\n",
    "use_early_stopping = True\n",
    "\n",
    "with tf.Session() as sess:\n",
    "    if(use_early_stopping):\n",
    "        early_stopper = EarlyStopper(patience,True)\n",
    "    \n",
    "    sess.run(tf.initialize_all_variables())\n",
    "    n = train_stories.shape[0]\n",
    "    \n",
    "    for epoch in range(100):\n",
    "        print('----- Epoch', epoch, '-----')\n",
    "        start = time.time()\n",
    "        \n",
    "        total_loss = 0\n",
    "        train_stories, train_orders = reorder_training_set(train_stories, train_orders)\n",
    "        \n",
    "        perm = np.random.permutation(n)\n",
    "        for i in range(n // BATCH_SIZE):\n",
    "            indices = perm[i * BATCH_SIZE: (i + 1) * BATCH_SIZE]\n",
    "            inst_story = train_stories[indices]\n",
    "            inst_order = train_orders[indices]\n",
    "            feed_dict = {story: inst_story, order: inst_order, dropout_prob: 0.5, phase: True}\n",
    "            #o, temp, prediction, _, current_loss= sess.run([order, logits_flat, predict, optimize, loss], feed_dict=feed_dict)\n",
    "            _, current_loss= sess.run([optimize, loss], feed_dict=feed_dict)\n",
    "            \n",
    "            \n",
    "            if(i % 25 == 0 and verbose):\n",
    "                print(\"Current Epoch %: {}/{} loss:{}\".format(i, n // BATCH_SIZE, current_loss))\n",
    "                \n",
    "            total_loss += current_loss\n",
    "\n",
    "        print(' Train loss:', total_loss / n)\n",
    "\n",
    "        train_feed_dict = {story: train_stories, order: train_orders, dropout_prob: 0.0, phase: False}\n",
    "        train_predicted = sess.run(predict, feed_dict=train_feed_dict)\n",
    "        train_accuracy = nn.calculate_accuracy(train_orders, train_predicted)\n",
    "        print(' Train accuracy:', train_accuracy)\n",
    "        \n",
    "        dev_feed_dict = {story: dev_stories, order: dev_orders, dropout_prob: 0.0, phase: False}\n",
    "        dev_predicted = sess.run(predict, feed_dict=dev_feed_dict)\n",
    "        dev_accuracy = nn.calculate_accuracy(dev_orders, dev_predicted)\n",
    "        print(' Dev accuracy:', dev_accuracy)\n",
    "        \n",
    "        finish = time.time()\n",
    "        print('Took {} seconds'.format(finish - start))\n",
    "        \n",
    "        if(use_early_stopping):\n",
    "            if(early_stopper.checkEarlyStopping(dev_accuracy,sess)):\n",
    "                break\n",
    "\n",
    "    if(use_early_stopping):\n",
    "        # LOAD EARLY STOPPED MODEL\n",
    "        print(\"Training Stopped, Loading saved model with max. dev accuracy from early stopping\")\n",
    "        saver = tf.train.Saver()\n",
    "        saver.restore(sess, './model/model.checkpoint')\n",
    "\n",
    "        # MAKE SURE IT GIVES THE SAME PREDICTIONS AS BEFORE\n",
    "        print(\"Calculating Dev Accuracy for the early stopped model: \")\n",
    "        dev_feed_dict = {story: dev_stories, order: dev_orders, dropout_prob: 0.0, phase: False}\n",
    "        dev_predicted = sess.run(predict, feed_dict=dev_feed_dict)\n",
    "        dev_accuracy = nn.calculate_accuracy(dev_orders, dev_predicted)\n",
    "        print(\"Dev Accuracy : {}\".format(dev_accuracy))\n",
    "    else:\n",
    "        nn.save_model(sess)\n",
    "        \n",
    "'''\n",
    "        \n",
    "   "
   ]
  },
  {
   "cell_type": "code",
   "execution_count": 71,
   "metadata": {},
   "outputs": [],
   "source": [
    "################     ERROR ANALYSIS      #################"
   ]
  },
  {
   "cell_type": "code",
   "execution_count": null,
   "metadata": {},
   "outputs": [],
   "source": []
  },
  {
   "cell_type": "code",
   "execution_count": 72,
   "metadata": {},
   "outputs": [
    {
     "data": {
      "text/plain": [
       "'### CONFUSION MATRIX  ####\\nprint(\"The Confusion matrix (true order vs predicted order) is as follows:\")\\nwith tf.Session() as sess:\\n    # LOAD EARLY STOPPED MODEL\\n    saver = tf.train.Saver()\\n    saver.restore(sess, \\'./model/model.checkpoint\\')\\n\\n    # MAKE SURE IT GIVES THE SAME PREDICTIONS AS BEFORE\\n    dev_feed_dict = {story: dev_stories, order: dev_orders, dropout_prob: 0.0, phase: False}\\n    dev_predicted = sess.run(predict, feed_dict=dev_feed_dict)\\n   \\n    \\n    # CREATE THE CONFUSION MATRIX\\n    cm_dev = create_confusion_matrix(dev_predicted, dev_orders)\\n    util.plot_confusion_matrix_dict(cm_dev,90, outside_label=\"None\")\\n'"
      ]
     },
     "execution_count": 72,
     "metadata": {},
     "output_type": "execute_result"
    }
   ],
   "source": [
    "'''### CONFUSION MATRIX  ####\n",
    "print(\"The Confusion matrix (true order vs predicted order) is as follows:\")\n",
    "with tf.Session() as sess:\n",
    "    # LOAD EARLY STOPPED MODEL\n",
    "    saver = tf.train.Saver()\n",
    "    saver.restore(sess, './model/model.checkpoint')\n",
    "\n",
    "    # MAKE SURE IT GIVES THE SAME PREDICTIONS AS BEFORE\n",
    "    dev_feed_dict = {story: dev_stories, order: dev_orders, dropout_prob: 0.0, phase: False}\n",
    "    dev_predicted = sess.run(predict, feed_dict=dev_feed_dict)\n",
    "   \n",
    "    \n",
    "    # CREATE THE CONFUSION MATRIX\n",
    "    cm_dev = create_confusion_matrix(dev_predicted, dev_orders)\n",
    "    util.plot_confusion_matrix_dict(cm_dev,90, outside_label=\"None\")\n",
    "'''"
   ]
  },
  {
   "cell_type": "code",
   "execution_count": null,
   "metadata": {},
   "outputs": [],
   "source": []
  },
  {
   "cell_type": "code",
   "execution_count": 73,
   "metadata": {
    "scrolled": true
   },
   "outputs": [
    {
     "data": {
      "text/plain": [
       "\"\\n### ERROR EXAMPLES  ####\\nNumber_of_missclassified_exaples_to_display = 5\\n\\nwith tf.Session() as sess:\\n    # LOAD EARLY STOPPED MODEL\\n    saver = tf.train.Saver()\\n    saver.restore(sess, './model/model.checkpoint')\\n\\n    # MAKE SURE IT GIVES THE SAME PREDICTIONS AS BEFORE\\n    dev_feed_dict = {story: dev_stories, order: dev_orders, dropout_prob: 0.0, phase: False}\\n    dev_predicted = sess.run(predict, feed_dict=dev_feed_dict)\\n    \\n    #GET THE ERROR EXAMPLES\\n    errors  = getErrors(data_dev,dev_orders,dev_predicted)\\n    displayErrors(errors, Number_of_missclassified_exaples_to_display)\\n\""
      ]
     },
     "execution_count": 73,
     "metadata": {},
     "output_type": "execute_result"
    }
   ],
   "source": [
    "'''\n",
    "### ERROR EXAMPLES  ####\n",
    "Number_of_missclassified_exaples_to_display = 5\n",
    "\n",
    "with tf.Session() as sess:\n",
    "    # LOAD EARLY STOPPED MODEL\n",
    "    saver = tf.train.Saver()\n",
    "    saver.restore(sess, './model/model.checkpoint')\n",
    "\n",
    "    # MAKE SURE IT GIVES THE SAME PREDICTIONS AS BEFORE\n",
    "    dev_feed_dict = {story: dev_stories, order: dev_orders, dropout_prob: 0.0, phase: False}\n",
    "    dev_predicted = sess.run(predict, feed_dict=dev_feed_dict)\n",
    "    \n",
    "    #GET THE ERROR EXAMPLES\n",
    "    errors  = getErrors(data_dev,dev_orders,dev_predicted)\n",
    "    displayErrors(errors, Number_of_missclassified_exaples_to_display)\n",
    "'''"
   ]
  },
  {
   "cell_type": "code",
   "execution_count": 74,
   "metadata": {},
   "outputs": [
    {
     "data": {
      "text/plain": [
       "'\\n# Get the number of OOV and PAD tokens in each missclassified phrase and display them as histograms\\nstats = getPADandOOVHistogramsOnErrors(errors,dev_stories)\\n'"
      ]
     },
     "execution_count": 74,
     "metadata": {},
     "output_type": "execute_result"
    }
   ],
   "source": [
    "'''\n",
    "# Get the number of OOV and PAD tokens in each missclassified phrase and display them as histograms\n",
    "stats = getPADandOOVHistogramsOnErrors(errors,dev_stories)\n",
    "'''"
   ]
  },
  {
   "cell_type": "code",
   "execution_count": 75,
   "metadata": {
    "scrolled": true
   },
   "outputs": [
    {
     "data": {
      "text/plain": [
       "'\\nprint(\"The histogram of the number of padding tokens in missclassified phrases:\")\\nplot_histogram(stats,\\'PAD_hist\\')\\n'"
      ]
     },
     "execution_count": 75,
     "metadata": {},
     "output_type": "execute_result"
    }
   ],
   "source": [
    "'''\n",
    "print(\"The histogram of the number of padding tokens in missclassified phrases:\")\n",
    "plot_histogram(stats,'PAD_hist')\n",
    "'''"
   ]
  },
  {
   "cell_type": "code",
   "execution_count": 76,
   "metadata": {
    "scrolled": true
   },
   "outputs": [
    {
     "data": {
      "text/plain": [
       "'\\nprint(\"The histogram of the number of OOV tokens in missclassified phrases:\")\\nplot_histogram(stats,\\'OOV_hist\\')\\n'"
      ]
     },
     "execution_count": 76,
     "metadata": {},
     "output_type": "execute_result"
    }
   ],
   "source": [
    "'''\n",
    "print(\"The histogram of the number of OOV tokens in missclassified phrases:\")\n",
    "plot_histogram(stats,'OOV_hist')\n",
    "'''"
   ]
  },
  {
   "cell_type": "code",
   "execution_count": 77,
   "metadata": {},
   "outputs": [
    {
     "data": {
      "text/plain": [
       "'\\n## Get the histogram of number of OOV and PAD tokens in each phrase for the full dev set\\nfull_devset_stats = getFullPadandOOVHistorgrams(dev_stories)\\n'"
      ]
     },
     "execution_count": 77,
     "metadata": {},
     "output_type": "execute_result"
    }
   ],
   "source": [
    "'''\n",
    "## Get the histogram of number of OOV and PAD tokens in each phrase for the full dev set\n",
    "full_devset_stats = getFullPadandOOVHistorgrams(dev_stories)\n",
    "'''"
   ]
  },
  {
   "cell_type": "code",
   "execution_count": 78,
   "metadata": {},
   "outputs": [
    {
     "data": {
      "text/plain": [
       "'\\nprint(\"The histogram of the number of padding tokens in all phrases:\")\\nplot_histogram(full_devset_stats,\\'PAD_hist\\')\\n'"
      ]
     },
     "execution_count": 78,
     "metadata": {},
     "output_type": "execute_result"
    }
   ],
   "source": [
    "'''\n",
    "print(\"The histogram of the number of padding tokens in all phrases:\")\n",
    "plot_histogram(full_devset_stats,'PAD_hist')\n",
    "'''"
   ]
  },
  {
   "cell_type": "code",
   "execution_count": 79,
   "metadata": {},
   "outputs": [
    {
     "data": {
      "text/plain": [
       "'\\nprint(\"The histogram of the number of OOV tokens in all phrases:\")\\nplot_histogram(full_devset_stats,\\'OOV_hist\\')\\n'"
      ]
     },
     "execution_count": 79,
     "metadata": {},
     "output_type": "execute_result"
    }
   ],
   "source": [
    "'''\n",
    "print(\"The histogram of the number of OOV tokens in all phrases:\")\n",
    "plot_histogram(full_devset_stats,'OOV_hist')\n",
    "'''"
   ]
  },
  {
   "cell_type": "code",
   "execution_count": 80,
   "metadata": {},
   "outputs": [
    {
     "data": {
      "text/plain": [
       "'\\n#Get the frequency of the words in the missclassified phrases and plot it\\nword_freq = getErrorWordFrequency(errors,dev_stories,vocab)\\n'"
      ]
     },
     "execution_count": 80,
     "metadata": {},
     "output_type": "execute_result"
    }
   ],
   "source": [
    "'''\n",
    "#Get the frequency of the words in the missclassified phrases and plot it\n",
    "word_freq = getErrorWordFrequency(errors,dev_stories,vocab)\n",
    "'''"
   ]
  },
  {
   "cell_type": "code",
   "execution_count": 81,
   "metadata": {},
   "outputs": [
    {
     "data": {
      "text/plain": [
       "'\\nprint(\"Frequency of words in the missclassified phrases\")\\nplot_word_histogram(word_freq,10,[\\'<PAD>\\',\\'.\\'])\\n'"
      ]
     },
     "execution_count": 81,
     "metadata": {},
     "output_type": "execute_result"
    }
   ],
   "source": [
    "'''\n",
    "print(\"Frequency of words in the missclassified phrases\")\n",
    "plot_word_histogram(word_freq,10,['<PAD>','.'])\n",
    "'''"
   ]
  },
  {
   "cell_type": "code",
   "execution_count": 82,
   "metadata": {},
   "outputs": [
    {
     "data": {
      "text/plain": [
       "'\\n#Get the full frequency of words in the dev set and plot it \\nnorma_freq=getWordFrequency(dev_stories,vocab)\\n'"
      ]
     },
     "execution_count": 82,
     "metadata": {},
     "output_type": "execute_result"
    }
   ],
   "source": [
    "'''\n",
    "#Get the full frequency of words in the dev set and plot it \n",
    "norma_freq=getWordFrequency(dev_stories,vocab)\n",
    "'''"
   ]
  },
  {
   "cell_type": "code",
   "execution_count": 83,
   "metadata": {},
   "outputs": [
    {
     "data": {
      "text/plain": [
       "'\\nprint(\"frequency of words in all phrases\")\\nplot_word_histogram(norma_freq,10,[\\'<PAD>\\',\\'.\\'])\\n'"
      ]
     },
     "execution_count": 83,
     "metadata": {},
     "output_type": "execute_result"
    }
   ],
   "source": [
    "'''\n",
    "print(\"frequency of words in all phrases\")\n",
    "plot_word_histogram(norma_freq,10,['<PAD>','.'])\n",
    "'''"
   ]
  },
  {
   "cell_type": "code",
   "execution_count": 84,
   "metadata": {},
   "outputs": [
    {
     "data": {
      "text/plain": [
       "'\\n#Get the ratio of the number of times a word occurs in missclassified exampled\\n#vs the total number of times the word appears and plot it\\nfreq_hist = freq_ratios(norma_freq,word_freq)\\n'"
      ]
     },
     "execution_count": 84,
     "metadata": {},
     "output_type": "execute_result"
    }
   ],
   "source": [
    "'''\n",
    "#Get the ratio of the number of times a word occurs in missclassified exampled\n",
    "#vs the total number of times the word appears and plot it\n",
    "freq_hist = freq_ratios(norma_freq,word_freq)\n",
    "'''"
   ]
  },
  {
   "cell_type": "code",
   "execution_count": 85,
   "metadata": {},
   "outputs": [
    {
     "data": {
      "text/plain": [
       "'\\nprint(\"Ratio of word frequencies missclassified/total\")\\nplot_word_histogram(freq_hist,10,[\\'<PAD>\\',\\'.\\'])\\n'"
      ]
     },
     "execution_count": 85,
     "metadata": {},
     "output_type": "execute_result"
    }
   ],
   "source": [
    "'''\n",
    "print(\"Ratio of word frequencies missclassified/total\")\n",
    "plot_word_histogram(freq_hist,10,['<PAD>','.'])\n",
    "'''"
   ]
  },
  {
   "cell_type": "code",
   "execution_count": 86,
   "metadata": {},
   "outputs": [],
   "source": [
    "##############       ERROR ANALYSIS END    ###############"
   ]
  },
  {
   "cell_type": "code",
   "execution_count": null,
   "metadata": {},
   "outputs": [],
   "source": []
  },
  {
   "cell_type": "code",
   "execution_count": null,
   "metadata": {},
   "outputs": [],
   "source": []
  },
  {
   "cell_type": "markdown",
   "metadata": {},
   "source": [
    "## <font color='red'>Assessment 1</font>: Assess Accuracy (40 pts) \n",
    "\n",
    "We assess how well your model performs on an unseen test set. We will look at the accuracy of the predicted sentence order, on sentence level, and will score them as followis:\n",
    "\n",
    "* 0 - 10 pts: 45% <= accuracy < 50%, linear\n",
    "* 10 - 20 pts: 50% <= accuracy < 55, linear\n",
    "* 20 - 40 pts: 55 <= accuracy < 60, linear\n",
    "* extra 0-10 pts: 60 <= accuracy < 70, linear\n",
    "\n",
    "The **linear** mapping maps any accuracy value between the lower and upper bound linearly to a score. For example, if your model's accuracy score is $acc=54.5\\%$, then your score is $10 + 10\\frac{acc-50}{55-50}$."
   ]
  },
  {
   "cell_type": "markdown",
   "metadata": {
    "collapsed": true
   },
   "source": [
    "Change the following lines so that they construct the test set in the same way you constructed the dev set in the code above. We will insert the test set instead of the dev set here. **`test_feed_dict` variable must stay named the same**."
   ]
  },
  {
   "cell_type": "code",
   "execution_count": 87,
   "metadata": {
    "ExecuteTime": {
     "end_time": "2016-12-20T12:05:54.755730",
     "start_time": "2016-12-20T12:05:54.617471"
    },
    "run_control": {
     "frozen": false,
     "read_only": false
    }
   },
   "outputs": [],
   "source": [
    "# LOAD THE DATA\n",
    "data_test = nn.load_corpus(data_path + \"dev.tsv\")\n",
    "# make sure you process this with the same pipeline as you processed your dev set\n",
    "test_stories, test_orders, _ = pipeline(data_test, vocab=vocab, max_sent_len_=max_sent_len)\n",
    "\n",
    "# THIS VARIABLE MUST BE NAMED `test_feed_dict`\n",
    "test_feed_dict = {story: test_stories, order: test_orders, dropout_prob: 0.0, phase: False}"
   ]
  },
  {
   "cell_type": "markdown",
   "metadata": {},
   "source": [
    "The following code loads your model, computes accuracy, and exports the result. **DO NOT** change this code."
   ]
  },
  {
   "cell_type": "code",
   "execution_count": 88,
   "metadata": {
    "ExecuteTime": {
     "end_time": "2016-12-20T12:05:55.116609",
     "start_time": "2016-12-20T12:05:54.758571"
    },
    "run_control": {
     "frozen": false,
     "read_only": false
    }
   },
   "outputs": [
    {
     "data": {
      "text/plain": [
       "0.49994655264564403"
      ]
     },
     "execution_count": 88,
     "metadata": {},
     "output_type": "execute_result"
    }
   ],
   "source": [
    "#! ASSESSMENT 1 - DO NOT CHANGE, MOVE NOR COPY\n",
    "with tf.Session() as sess:\n",
    "    # LOAD THE MODEL\n",
    "    saver = tf.train.Saver()\n",
    "    saver.restore(sess, './model/model.checkpoint')\n",
    "    \n",
    "    # RUN TEST SET EVALUATION\n",
    "    dev_predicted = sess.run(predict, feed_dict=test_feed_dict)\n",
    "    dev_accuracy = nn.calculate_accuracy(dev_orders, dev_predicted)\n",
    "\n",
    "dev_accuracy"
   ]
  },
  {
   "cell_type": "markdown",
   "metadata": {},
   "source": [
    "## <font color='orange'>Mark</font>:  Your solution to Task 1 is marked with ** __ points**. \n",
    "---"
   ]
  },
  {
   "cell_type": "markdown",
   "metadata": {},
   "source": [
    "## <font color='blue'>Task 2</font>: Describe your Approach\n",
    "\n",
    "Enter a 1000 words max description of your approach **in this cell**.\n",
    "Make sure to provide:\n",
    "- an **error analysis** of the types of errors your system makes\n",
    "- compare your system with the model we provide, focus on differences and draw useful comparations between them\n",
    "\n",
    "Should you need to include figures in your report, make sure they are Python-generated (matplotlib, seaborn, bokeh are all included in the stat-nlp-book Docker image). For that, feel free to create new cells after this cell (before Assessment 2 cell). Link online images at your risk."
   ]
  },
  {
   "cell_type": "markdown",
   "metadata": {},
   "source": [
    "### Overview\n",
    "In this task of finding the sentence order in a paragraph, our approach was broken down into the following tasks:\n",
    "\n",
    "+ Tokenising, making a vocabulary  and creating word embeddings.\n",
    "+ Creating Sentence embeddings using the word embeddings.\n",
    "+ Making sentence order predictions based on the sentence embeddings.\n",
    "\n",
    "In the following sections, we break down how we tackled each of these components in detail.\n",
    "\n",
    "### Word embeddings and Tokenisation\n",
    "The initial model provided had a fairly simple approach to data preprocessing and tokenisation. The steps followed where (1) Tokenise the sentences into words by splitting them on white-spaces, (2) making a vocabulary (that maps tokens to unique integers) out of the tokens found in the training set, (3) add OOV and PAD tokens to account for unseen words and make all the sentences the same length and (4) assign to all tokens a random vector embedding. \n",
    "\n",
    "Our approach was fairly different and was centered on the pre-trained Glove embeddings from Stanford University. In fact our approach consisted of (1) Get the N most popular (in terms of frequency in the English language) words according to Glove and define our vocab and word embeddings. (2) Set the PAD tokens to 0 and the OOV tokens to the average of the unused embeddings on the Glove set and (3) tokenise the sentences and map the tokens to the embeddings obtained in the previous step.  \n",
    "\n",
    "In order for our procedure to work, we required a tokenisation procedure that would at best match the Glove tokens, so that we minimize the amount of OOVs present our training and test sets. The initial tokenising function was too simplistic, and some of the important steps we took to achieve this where the following:\n",
    "\n",
    " - separate punctuation from words\n",
    " - separate grammatical endings (e.g. \"'s\", \"n't\") from the base word\n",
    " - separate currency symbols and numbers\n",
    " - lowercase all words\n",
    "\n",
    "One thing we noticed when using Glove was that it provided 50, 100, 200 and 300 dimensional embeddings. In order to provide us with more flexibility, and in an attempt to perhaps keep more of the information richness of higher dimensional embeddings while avoiding overfitting, we have implemented the option of using PCA on our embeddings. This allowed us to experiment with any arbitrary dimensionality in training our models while attempting to as much of the information present in the higher dimensional embeddings as possible.\n",
    "\n",
    "Finally, it is interesting to note that in our approach we also attempted to use the training set to create a vocabulary (for consistency the initial approach given) and then create word embeddings using this vocabulary and Glove, but we noticed a smaller performance of our models.\n",
    "\n",
    "### Sentence embeddings\n",
    "In terms of sentence embeddings, the initial model summed all the word embeddings in the sentence to obtain its sentence embeddings. This simple approach does not rely on the training set. Although this approach eliminates the risk of overfitting, it has both an extremely high bias and a lack of any conceptual backing, which makes it less than ideal.\n",
    "\n",
    "In contrast to this, we chose to use representation learning with Recurrent Neural networks in order to learn the sentence embeddings from our data. More precisely, we have tried the follwing basic architectures, all of which which take as an input the word-embedded sentences and output the sentence embeddings:\n",
    "+ A Simple LSTM.\n",
    "+ A Bi-directional LSTM.\n",
    "+ A two layer LSTM.\n",
    "+ A two layer Bi-directional LSTM.\n",
    "\n",
    "On top of these architectures, we have also implemented the following variations in an attempt to maximise our performance:\n",
    "+ Attention\n",
    "+ CNNs-layers included\n",
    "\n",
    "Finally, in order to combat overfitting, we have experimented with the following techniques:\n",
    "+ Dropout \n",
    "+ Early Stopping\n",
    "+ Data Aumentation (shuffling the sentences in the training set)\n",
    "+ Regulatisation (l2)\n",
    "\n",
    "### Sentence Ordering\n",
    "Once the sentences are embedded we need a way to predict a sentence order. It is possible to do this in two ways: Regression and Classification. In Classification, the model will output a (5,5) matrix where the rows are the sentences and the columns are the probability of being in a position. In Regression the model will output the positions of the sentences directly.\n",
    "\n",
    "While the initial solution just treated Classification through a linear regressor, we are usign non-linear Multi-layer perceptrons (MLP) and attempting both regression and classification. Details of our approach for these two techniques are described below:\n",
    "\n",
    "##### Sentence ordering via Classification\n",
    "For classificaiton we implemented an MLP with 2 hidden layers with Relu activations and a 25-neuron softmax output layer. To train the model, we used cross-entropy loss and the RMS-prop optimiser.\n",
    "\n",
    "The last challenge we had to face is how to obtain the final ordering from our (5,5) output. The initial model used a greedy approach but this resulted in the same position being assigned  a sentence more than once. We wanted to avoid this while maximising the probability of the whole paragraph. We identified this as an instance of the Assignment problem, and hence used the Hungarian method in order to solve it. !!!!!!!!! SHOULD WE REFERENCE THE HUNGARIAN MERTOD??????!!!!!!!!!\n",
    "\n",
    "##### Sentence ordering via Regression\n",
    "For regression, we again used an MLP with 2 hidden layers, but we now have a 5-neuron linear output layer instead. In order to train it, we used the Mean Squarred Error (MSE) loss and the Adam optimizer.\n",
    "\n",
    "### Model Selection and Tunning\n",
    "In order to select our final model we had to compromise between  getting a model that achieves good generalisation performance and catering to the limited computational resources we had our disposal. We decided to use the dev set for validation for our models, and proceed in three times : (1) Select the dimentionality of the word embeddings (2) Select whether to use Classification or Regression, (3) Select a base architecture form the list above and (4) Tune this base architecture to get the highest possible score.\n",
    "\n",
    "After establishing that using 200D data was the best setup that kept us from running into memory issues, we experimented  with the regression and classification styles. It became clear that  using the classification method gave better performance, hence we proceeded with this technique. Then, keeping all hyperparameters equal, we trained all the base architectures listed, which gave the results listed below:\n",
    "\n",
    "| Model         | Accuracy on the validation set |\n",
    "| ------------- |:------------------:|\n",
    "| LSTM |   57.3276    | \n",
    "| Bi-directional LSTM    |57.7552      |  \n",
    "| Two layer LSTM   |  57.6269         | \n",
    "| Two layer Bi-directional LSTM | 57.9583          |   \n",
    "\n",
    "As we can see, the model that gave the best performance was the the two-layer bi-directional LSTM, so we chose it to proceed.\n",
    "\n",
    "We finnaly tuned this architecture by experimenting with (1) the number of hidden layer neurons, (2) the LSTM hindden neurons, (3) adding attention, (4) adding a CNN !!!!BAD WORDING!!!!. \n",
    "\n",
    "Our final model has the following specs:   !!!!!!!! ADD THE SPEEEECCCSSS !!!!!!!!!!!!!!!!  . It achieve an overall accuracy on the dev set of !!!!!!! AADD THE FINAL ACCURACY !!!!!!!!!!!!!!\n",
    "\n",
    "\n",
    "### Error Analysis \n",
    "We finally used our selected model and performed error analysis on it. Our purpose was to figure out if there are any particular types of errors that it still makes in an attempt to find out how we could address them.\n",
    "\n",
    "Our approach started with creating the Confusion Matrix (CM) of our model on the dev set, which is shown as the output of the Fig. 1 cell below. This CM shows the correct classification for each sentence in the dev set vs the classification that was predicted by our model, the color coding showing how many sentences fall into each configuration. Diagonal values then represent correctly classified sentences. As we can see from Fig. 1, our model does a good job at classifying sentences that should go in positions 0 and 4, but drops for the middle positions.\n",
    " \n",
    "In order to attempt to gain further insight on the mechanisms at play, we proceed by answering a series of questions using the dev set:\n",
    "##### Are OOVs or PADs the cause of error?\n",
    "In Figs. 2-3 we have the distributions of the number of OOVs in misclassified sentences and all the sentences respectively and in Figs. 4-5 we have the distributions of the number of PAD tokens in misclassified sentences and all the sentences respectively. From these Figures we see that the distributions are very similar which invites the conclusion that the number of OOVs or PAD tokens in a sentence does not play a significant role in the likelihood of it being misclassified.\n",
    "\n",
    "##### What words appear frequently in misclassified vs in all phrases?\n",
    "In Fig. 6 are shown the 10 most frequent words in misclassified sentences, in Fig. 7 are shown the 10 most frequent words all the sentences, and in Fig. 8 are shown the 10 words that appear the most in misclassified sentences relative their total appearance. So for instance we can see that  ~75% of the phrases the word \"trip\" appears in are misclassified. We can see here that words that often appear in misclassified examples tend to either be very common such as \"the\" or have more than one meaning such as \"trip\".\n",
    "\n",
    "\n",
    "##### For each sentence position in the initial paragraph, what is the likelihood of it being misclassified?\n",
    "In Figs. 9 to 13 are shown the confusion matrices for sentences 1 to 5 respectively. We can see that the mystakes of our model varies depending on which sentence it tries to classify. Nonetheless, a very apparent trend is that for all sentences, whenever their true position is at the start of the paragraph, the model overwhelmigly predicts this correctly.\n",
    "\n",
    "### Conclusion and Further Work\n",
    "In our approach, we experimented with various architectures of neural networks in order to solve the sentence ordering problem. Our best performing model used 200D Glove embeddings, two-layer bi-directional LSTMs with attention and CNNs for sentence embeddings and an MLP performing the classification task !!!!!!UPDAAAAATTTEEE!!!!!!!. Our final score on the development set was !!!!! PUT IITTTT !!!!. We believe that given more resources (especially a bigger liniency on memory allowed) our models would have achieved classifications comfortably above 60%, and hence are very satisfied with our project. \n",
    "\n",
    "Many thanks for Reading and Grading our Repors,\n",
    "All the best,\n",
    "Group 03 \n"
   ]
  },
  {
   "cell_type": "code",
   "execution_count": 89,
   "metadata": {},
   "outputs": [
    {
     "name": "stdout",
     "output_type": "stream",
     "text": [
      "The Confusion matrix (true order vs predicted order) is as follows:\n"
     ]
    },
    {
     "data": {
      "image/png": "[encoded data removed]",
      "text/plain": [
       "<matplotlib.figure.Figure at 0x7f9299a5a278>"
      ]
     },
     "metadata": {},
     "output_type": "display_data"
    }
   ],
   "source": [
    "###################         Fig. 1              #######################\n",
    "###  Overall Confusion Matrix for our model  ####\n",
    "print(\"The Confusion matrix (true order vs predicted order) is as follows:\")\n",
    "with tf.Session() as sess:\n",
    "    # LOAD EARLY STOPPED MODEL\n",
    "    saver = tf.train.Saver()\n",
    "    saver.restore(sess, './model/model.checkpoint')\n",
    "\n",
    "    # MAKE SURE IT GIVES THE SAME PREDICTIONS AS BEFORE\n",
    "    dev_feed_dict = {story: dev_stories, order: dev_orders, dropout_prob: 0.0, phase: False}\n",
    "    dev_predicted = sess.run(predict, feed_dict=dev_feed_dict)\n",
    "   \n",
    "    \n",
    "    # CREATE THE CONFUSION MATRIX\n",
    "    cm_dev = create_confusion_matrix(dev_predicted, dev_orders)\n",
    "    util.plot_confusion_matrix_dict(cm_dev,90, outside_label=\"None\")\n",
    "########################################################################  "
   ]
  },
  {
   "cell_type": "code",
   "execution_count": 90,
   "metadata": {},
   "outputs": [],
   "source": [
    "#Setup Cell aggregating the errors our model did\n",
    "Number_of_missclassified_exaples_to_display = 5\n",
    "\n",
    "with tf.Session() as sess:\n",
    "    # LOAD EARLY STOPPED MODEL\n",
    "    saver = tf.train.Saver()\n",
    "    saver.restore(sess, './model/model.checkpoint')\n",
    "\n",
    "    # MAKE SURE IT GIVES THE SAME PREDICTIONS AS BEFORE\n",
    "    dev_feed_dict = {story: dev_stories, order: dev_orders, dropout_prob: 0.0, phase: False}\n",
    "    dev_predicted = sess.run(predict, feed_dict=dev_feed_dict)\n",
    "    \n",
    "    #GET THE ERROR EXAMPLES\n",
    "    errors  = getErrors(data_dev,dev_orders,dev_predicted)"
   ]
  },
  {
   "cell_type": "code",
   "execution_count": 91,
   "metadata": {},
   "outputs": [],
   "source": [
    "### Setup cells for Figures 2-5\n",
    "# Get the number of OOV and PAD tokens in each missclassified phrase and display them as histograms\n",
    "stats = getPADandOOVHistogramsOnErrors(errors,dev_stories)\n",
    "## Get the histogram of number of OOV and PAD tokens in each phrase for the full dev set\n",
    "full_devset_stats = getFullPadandOOVHistorgrams(dev_stories)"
   ]
  },
  {
   "cell_type": "code",
   "execution_count": 92,
   "metadata": {},
   "outputs": [
    {
     "name": "stdout",
     "output_type": "stream",
     "text": [
      "The histogram of the number of OOV tokens in missclassified phrases:\n"
     ]
    },
    {
     "data": {
      "image/png": "[encoded data removed]",
      "text/plain": [
       "<matplotlib.figure.Figure at 0x7f9294309438>"
      ]
     },
     "metadata": {},
     "output_type": "display_data"
    }
   ],
   "source": [
    "###################         Fig. 2              #######################\n",
    "print(\"The histogram of the number of OOV tokens in missclassified phrases:\")\n",
    "plot_histogram(stats,'OOV_hist')\n",
    "########################################################################"
   ]
  },
  {
   "cell_type": "code",
   "execution_count": 93,
   "metadata": {},
   "outputs": [
    {
     "name": "stdout",
     "output_type": "stream",
     "text": [
      "The histogram of the number of OOV tokens in all phrases:\n"
     ]
    },
    {
     "data": {
      "image/png": "[encoded data removed]",
      "text/plain": [
       "<matplotlib.figure.Figure at 0x7f92797a1a90>"
      ]
     },
     "metadata": {},
     "output_type": "display_data"
    }
   ],
   "source": [
    "###################         Fig. 3              #######################\n",
    "print(\"The histogram of the number of OOV tokens in all phrases:\")\n",
    "plot_histogram(full_devset_stats,'OOV_hist')\n",
    "#######################################################################\n"
   ]
  },
  {
   "cell_type": "code",
   "execution_count": 94,
   "metadata": {},
   "outputs": [
    {
     "name": "stdout",
     "output_type": "stream",
     "text": [
      "The histogram of the number of padding tokens in missclassified phrases:\n"
     ]
    },
    {
     "data": {
      "image/png": "[encoded data removed]",
      "text/plain": [
       "<matplotlib.figure.Figure at 0x7f92796b4a58>"
      ]
     },
     "metadata": {},
     "output_type": "display_data"
    }
   ],
   "source": [
    "###################         Fig. 4              #######################\n",
    "print(\"The histogram of the number of padding tokens in missclassified phrases:\")\n",
    "plot_histogram(stats,'PAD_hist')\n",
    "#######################################################################"
   ]
  },
  {
   "cell_type": "code",
   "execution_count": 95,
   "metadata": {},
   "outputs": [
    {
     "name": "stdout",
     "output_type": "stream",
     "text": [
      "The histogram of the number of padding tokens in all phrases:\n"
     ]
    },
    {
     "data": {
      "image/png": "[encoded data removed]",
      "text/plain": [
       "<matplotlib.figure.Figure at 0x7f927959ea90>"
      ]
     },
     "metadata": {},
     "output_type": "display_data"
    }
   ],
   "source": [
    "###################         Fig. 5              #######################\n",
    "print(\"The histogram of the number of padding tokens in all phrases:\")\n",
    "plot_histogram(full_devset_stats,'PAD_hist')\n",
    "#######################################################################"
   ]
  },
  {
   "cell_type": "code",
   "execution_count": 96,
   "metadata": {},
   "outputs": [
    {
     "name": "stdout",
     "output_type": "stream",
     "text": [
      "Frequency of words in the missclassified phrases\n"
     ]
    },
    {
     "data": {
      "image/png": "[encoded data removed]",
      "text/plain": [
       "<matplotlib.figure.Figure at 0x7f927959ef98>"
      ]
     },
     "metadata": {},
     "output_type": "display_data"
    }
   ],
   "source": [
    "###################         Fig. 6              #######################\n",
    "#Get the frequency of the words in the missclassified phrases and plot it\n",
    "word_freq = getErrorWordFrequency(errors,dev_stories,vocab)\n",
    "print(\"Frequency of words in the missclassified phrases\")\n",
    "plot_word_histogram(word_freq,10,['<PAD>','.'])\n",
    "########################################################################"
   ]
  },
  {
   "cell_type": "code",
   "execution_count": 97,
   "metadata": {},
   "outputs": [
    {
     "name": "stdout",
     "output_type": "stream",
     "text": [
      "frequency of words in all phrases\n"
     ]
    },
    {
     "data": {
      "image/png": "[encoded data removed]",
      "text/plain": [
       "<matplotlib.figure.Figure at 0x7f9279646eb8>"
      ]
     },
     "metadata": {},
     "output_type": "display_data"
    }
   ],
   "source": [
    "###################         Fig. 7              #######################\n",
    "#Get the full frequency of words in the dev set and plot it \n",
    "norma_freq=getWordFrequency(dev_stories,vocab)\n",
    "print(\"frequency of words in all phrases\")\n",
    "plot_word_histogram(norma_freq,10,['<PAD>','.'])\n",
    "#######################################################################"
   ]
  },
  {
   "cell_type": "code",
   "execution_count": 98,
   "metadata": {},
   "outputs": [
    {
     "name": "stdout",
     "output_type": "stream",
     "text": [
      "Ratio of word frequencies missclassified/total\n"
     ]
    },
    {
     "data": {
      "image/png": "[encoded data removed]",
      "text/plain": [
       "<matplotlib.figure.Figure at 0x7f92795a50b8>"
      ]
     },
     "metadata": {},
     "output_type": "display_data"
    }
   ],
   "source": [
    "###################         Fig. 8              #######################\n",
    "#Get the ratio of the number of times a word occurs in missclassified exampled\n",
    "#vs the total number of times the word appears and plot it\n",
    "freq_hist = freq_ratios(norma_freq,word_freq)\n",
    "print(\"Ratio of word frequencies missclassified/total\")\n",
    "plot_word_histogram(freq_hist,10,['<PAD>','.'])\n",
    "#######################################################################"
   ]
  },
  {
   "cell_type": "code",
   "execution_count": 101,
   "metadata": {},
   "outputs": [],
   "source": [
    "# Setup cell for Figs. 9-13\n",
    "#### GET THE CONFUSION MATRIX FOR EACH SENTENCE SEPARATELY ########\n",
    "with tf.Session() as sess:\n",
    "    # LOAD EARLY STOPPED MODEL\n",
    "    saver = tf.train.Saver()\n",
    "    saver.restore(sess, './model/model.checkpoint')\n",
    "\n",
    "    # MAKE SURE IT GIVES THE SAME PREDICTIONS AS BEFORE\n",
    "    dev_feed_dict = {story: dev_stories, order: dev_orders, dropout_prob: 0.0, phase: False}\n",
    "    dev_predicted = sess.run(predict, feed_dict=dev_feed_dict)\n",
    "   \n",
    "    # CREATE THE CONFUSION MATRIX PER SENTENCE\n",
    "    confusion_per_sentence = []\n",
    "    for sentence in range(5):\n",
    "        confusion_per_sentence.append(create_confusion_matrix_for_sentence(dev_predicted, dev_orders,sentence))"
   ]
  },
  {
   "cell_type": "code",
   "execution_count": 102,
   "metadata": {},
   "outputs": [
    {
     "name": "stdout",
     "output_type": "stream",
     "text": [
      "The Confusion matrix (true order vs predicted order) for sentence 0 is as follows:\n"
     ]
    },
    {
     "data": {
      "image/png": "[encoded data removed]",
      "text/plain": [
       "<matplotlib.figure.Figure at 0x7f92792a8470>"
      ]
     },
     "metadata": {},
     "output_type": "display_data"
    }
   ],
   "source": [
    "###################         Fig. 9              #######################\n",
    "print(\"The Confusion matrix (true order vs predicted order) for sentence 0 is as follows:\")\n",
    "util.plot_confusion_matrix_dict(confusion_per_sentence[0],90, outside_label=\"None\")\n",
    "#######################################################################"
   ]
  },
  {
   "cell_type": "code",
   "execution_count": 103,
   "metadata": {},
   "outputs": [
    {
     "name": "stdout",
     "output_type": "stream",
     "text": [
      "The Confusion matrix (true order vs predicted order) for sentence 1 is as follows:\n"
     ]
    },
    {
     "data": {
      "image/png": "[encoded data removed]",
      "text/plain": [
       "<matplotlib.figure.Figure at 0x7f92785981d0>"
      ]
     },
     "metadata": {},
     "output_type": "display_data"
    }
   ],
   "source": [
    "###################         Fig. 10              #######################\n",
    "print(\"The Confusion matrix (true order vs predicted order) for sentence 1 is as follows:\")\n",
    "util.plot_confusion_matrix_dict(confusion_per_sentence[1],90, outside_label=\"None\")\n",
    "########################################################################"
   ]
  },
  {
   "cell_type": "code",
   "execution_count": 104,
   "metadata": {},
   "outputs": [
    {
     "name": "stdout",
     "output_type": "stream",
     "text": [
      "The Confusion matrix (true order vs predicted order) for sentence 2 is as follows:\n"
     ]
    },
    {
     "data": {
      "image/png": "[encoded data removed]",
      "text/plain": [
       "<matplotlib.figure.Figure at 0x7f92784931d0>"
      ]
     },
     "metadata": {},
     "output_type": "display_data"
    }
   ],
   "source": [
    "###################         Fig. 11              #######################\n",
    "print(\"The Confusion matrix (true order vs predicted order) for sentence 2 is as follows:\")\n",
    "util.plot_confusion_matrix_dict(confusion_per_sentence[2],90, outside_label=\"None\")\n",
    "########################################################################"
   ]
  },
  {
   "cell_type": "code",
   "execution_count": 105,
   "metadata": {},
   "outputs": [
    {
     "name": "stdout",
     "output_type": "stream",
     "text": [
      "The Confusion matrix (true order vs predicted order) for sentence 3 is as follows:\n"
     ]
    },
    {
     "data": {
      "image/png": "[encoded data removed]",
      "text/plain": [
       "<matplotlib.figure.Figure at 0x7f92783a5fd0>"
      ]
     },
     "metadata": {},
     "output_type": "display_data"
    }
   ],
   "source": [
    "###################         Fig. 12              #######################\n",
    "print(\"The Confusion matrix (true order vs predicted order) for sentence 3 is as follows:\")\n",
    "util.plot_confusion_matrix_dict(confusion_per_sentence[3],90, outside_label=\"None\")\n",
    "########################################################################"
   ]
  },
  {
   "cell_type": "code",
   "execution_count": 106,
   "metadata": {},
   "outputs": [
    {
     "name": "stdout",
     "output_type": "stream",
     "text": [
      "The Confusion matrix (true order vs predicted order) for sentence 4 is as follows:\n"
     ]
    },
    {
     "data": {
      "image/png": "[encoded data removed]",
      "text/plain": [
       "<matplotlib.figure.Figure at 0x7f92782a5e48>"
      ]
     },
     "metadata": {},
     "output_type": "display_data"
    }
   ],
   "source": [
    "###################         Fig. 13              #######################\n",
    "print(\"The Confusion matrix (true order vs predicted order) for sentence 4 is as follows:\")\n",
    "util.plot_confusion_matrix_dict(confusion_per_sentence[4],90, outside_label=\"None\")\n",
    "########################################################################"
   ]
  },
  {
   "cell_type": "markdown",
   "metadata": {},
   "source": [
    "## <font color='red'>Assessment 2</font>: Assess Description (60 pts) \n",
    "\n",
    "We will mark the description along the following dimensions: \n",
    "\n",
    "* Clarity (10pts: very clear, 0pts: we can't figure out what you did, or you did nothing)\n",
    "* Creativity (25pts: we could not have come up with this, 0pts: Use only the provided model)\n",
    "* Substance (25pts: implemented complex state-of-the-art classifier, compared it to a simpler model, 0pts: Only use what is already there)"
   ]
  },
  {
   "cell_type": "markdown",
   "metadata": {},
   "source": [
    "## <font color='orange'>Mark</font>:  Your solution to Task 2 is marked with ** __ points**.\n",
    "---"
   ]
  },
  {
   "cell_type": "markdown",
   "metadata": {},
   "source": [
    "## <font color='orange'>Final mark</font>: Your solution to Assignment 3 is marked with ** __points**. "
   ]
  }
 ],
 "metadata": {
  "hide_input": false,
  "kernelspec": {
   "display_name": "Python 3",
   "language": "python",
   "name": "python3"
  },
  "language_info": {
   "codemirror_mode": {
    "name": "ipython",
    "version": 3
   },
   "file_extension": ".py",
   "mimetype": "text/x-python",
   "name": "python",
   "nbconvert_exporter": "python",
   "pygments_lexer": "ipython3",
   "version": "3.6.2"
  }
 },
 "nbformat": 4,
 "nbformat_minor": 1
}
