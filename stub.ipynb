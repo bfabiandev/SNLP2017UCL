{
 "cells": [
  {
   "cell_type": "markdown",
   "metadata": {},
   "source": [
    "<!---\n",
    "Latex Macros\n",
    "-->\n",
    "$$\n",
    "\\newcommand{\\bar}{\\,|\\,}\n",
    "\\newcommand{\\Xs}{\\mathcal{X}}\n",
    "\\newcommand{\\Ys}{\\mathcal{Y}}\n",
    "\\newcommand{\\y}{\\mathbf{y}}\n",
    "\\newcommand{\\weights}{\\mathbf{w}}\n",
    "\\newcommand{\\balpha}{\\boldsymbol{\\alpha}}\n",
    "\\newcommand{\\bbeta}{\\boldsymbol{\\beta}}\n",
    "\\newcommand{\\aligns}{\\mathbf{a}}\n",
    "\\newcommand{\\align}{a}\n",
    "\\newcommand{\\source}{\\mathbf{s}}\n",
    "\\newcommand{\\target}{\\mathbf{t}}\n",
    "\\newcommand{\\ssource}{s}\n",
    "\\newcommand{\\starget}{t}\n",
    "\\newcommand{\\repr}{\\mathbf{f}}\n",
    "\\newcommand{\\repry}{\\mathbf{g}}\n",
    "\\newcommand{\\x}{\\mathbf{x}}\n",
    "\\newcommand{\\prob}{p}\n",
    "\\newcommand{\\vocab}{V}\n",
    "\\newcommand{\\params}{\\boldsymbol{\\theta}}\n",
    "\\newcommand{\\param}{\\theta}\n",
    "\\DeclareMathOperator{\\perplexity}{PP}\n",
    "\\DeclareMathOperator{\\argmax}{argmax}\n",
    "\\DeclareMathOperator{\\argmin}{argmin}\n",
    "\\newcommand{\\train}{\\mathcal{D}}\n",
    "\\newcommand{\\counts}[2]{\\#_{#1}(#2) }\n",
    "\\newcommand{\\length}[1]{\\text{length}(#1) }\n",
    "\\newcommand{\\indi}{\\mathbb{I}}\n",
    "$$"
   ]
  },
  {
   "cell_type": "markdown",
   "metadata": {},
   "source": [
    "# Assignment 3"
   ]
  },
  {
   "cell_type": "markdown",
   "metadata": {},
   "source": [
    "\n",
    "## Introduction\n",
    "\n",
    "In the last assignment, you will apply deep learning methods to solve a particular story understanding problem. Automatic understanding of stories is an important task in natural language understanding [[1]](http://anthology.aclweb.org/D/D13/D13-1020.pdf). Specifically, you will develop a model that given a sequence of sentences learns to sort these sentence in order to yield a coherent story [[2]](https://www.microsoft.com/en-us/research/wp-content/uploads/2016/06/short-commonsense-stories.pdf). This sounds (and to an extent is) trivial for humans, however it is quite a difficult task for machines as it involves commonsense knowledge and temporal understanding."
   ]
  },
  {
   "cell_type": "markdown",
   "metadata": {},
   "source": [
    "## Goal\n",
    "\n",
    "You are given a dataset of 45502 instances, each consisting of 5 sentences. Your system needs to ouput a sequence of numbers which represent the predicted order of these sentences. For example, given a story:\n",
    "\n",
    "    He went to the store.\n",
    "    He found a lamp he liked.\n",
    "    He bought the lamp.\n",
    "    Jan decided to get a new lamp.\n",
    "    Jan's lamp broke.\n",
    "\n",
    "your system needs to provide an answer in the following form:\n",
    "\n",
    "    2\t3\t4\t1\t0\n",
    "\n",
    "where the numbers correspond to the zero-based index of each sentence in the correctly ordered story. So \"`2`\" for \"`He went to the store.`\" means that this sentence should come 3rd in the correctly ordered target story. In this particular example, this order of indices corresponds to the following target story:\n",
    "\n",
    "    Jan's lamp broke.\n",
    "    Jan decided to get a new lamp.\n",
    "    He went to the store.\n",
    "    He found a lamp he liked.\n",
    "    He bought the lamp."
   ]
  },
  {
   "cell_type": "markdown",
   "metadata": {},
   "source": [
    "## Resources\n",
    "\n",
    "To develop your model(s), we provide a training and a development datasets. The test dataset will be held out, and we will use it to evaluate your models. The test set is coming from the same task distribution, and you don't need to expect drastic changes in it.\n",
    "\n",
    "You will use [TensorFlow](https://www.tensorflow.org/) to build a deep learning model for the task. We provide a very crude system which solves the task with a low accuracy, and a set of additional functions you will have to use to save and load the model you create so that we can run it.\n",
    "\n",
    "As we have to run the notebooks of each submission, and as deep learning models take long time to train, your notebook **NEEDS** to conform to the following requirements:\n",
    "* You **NEED** to run your parameter optimisation offline, and provide your final model saved by using the provided function\n",
    "* The maximum size of a zip file you can upload to moodle is 160MB. We will **NOT** allow submissions larger than that.\n",
    "* We do not have time to train your models from scratch! You **NEED** to provide the full code you used for the training of your model, but by all means you **CANNOT** call the training method in the notebook you will send to us.\n",
    "* We will run these notebooks automatically. If your notebook runs the training procedure, in addition to loading the model, and we need to edit your code to stop the training, you will be penalised with **-20 points**.\n",
    "* If you do not provide a pretrained model, and rely on training your model on our machines, you will get **0 points**.\n",
    "* Your submissions will be tested on the stat-nlp-book Docker image to ensure that it does not have any dependencies outside of those that we provide. If your submission fails to adhere to this requirement, you will get **0 points**.\n",
    "\n",
    "Running time and memory issues:\n",
    "* We have tested a possible solution on a mid-2014 MacBook Pro, and a few epochs of the model run in less than 3min. Thus it is possible to train a model on the data in reasonable time. However, be aware that you will need to run these models many times over, for a larger number of epochs (more elaborate models, trained on much larger datasets can train for weeks! However, this shouldn't be the case here.). If you find training times too long for your development cycle you can reduce the training set size. Once you have found a good solution you can increase the size again. Caveat: model parameters tuned on a smaller dataset may not be optimal for a larger training set.\n",
    "* In addition to this, as your submission is capped by size, feel free to experiment with different model sizes, numeric values of different precisions, filtering the vocabulary size, downscaling some vectors, etc."
   ]
  },
  {
   "cell_type": "markdown",
   "metadata": {},
   "source": [
    "## Hints\n",
    "\n",
    "A non-exhaustive list of things you might want to give a try:\n",
    "- better tokenization\n",
    "- experiment with pre-trained word representations such as [word2vec](https://code.google.com/archive/p/word2vec/), or [GloVe](http://nlp.stanford.edu/projects/glove/). Be aware that these representations might take a lot of parameters in your model. Be sure you use only the words you expect in the training/dev set and account for OOV words. When saving the model parameters, pre-rained word embeddings can simply be used in the word embedding matrix of your model. As said, make sure that this word embedding matrix does not contain all of word2vec or GloVe. Your submission is limited, and we will not allow uploading nor using the whole representations set (up to 3GB!)\n",
    "- reduced sizes of word representations\n",
    "- bucketing and batching (our implementation is deliberately not a good one!)\n",
    "  - make sure to draw random batches from the data! (we do not provide this in our code!)\n",
    "- better models:\n",
    "  - stacked RNNs (see tf.contrib.rnn.MultiRNNCell)\n",
    "  - bi-directional RNNs\n",
    "  - attention\n",
    "  - word-by-word attention\n",
    "  - conditional encoding\n",
    "  - get model inspirations from papers on [nlp.stanford.edu/projects/snli/](nlp.stanford.edu/projects/snli/)\n",
    "  - sequence-to-sequence encoder-decode architecture for producing the right ordering\n",
    "- better training procedure:\n",
    "  - different training algorithms\n",
    "  - dropout on the input and output embeddings (see tf.nn.dropout)\n",
    "  - L2 regularization (see tf.nn.l2_loss)\n",
    "  - gradient clipping (see tf.clip_by_value or tf.clip_by_norm)\n",
    "- model selection:\n",
    "  - early stopping\n",
    "- hyper-parameter optimization (e.g. random search or grid search (expensive!))\n",
    "    - initial learning rate\n",
    "    - dropout probability\n",
    "    - input and output size\n",
    "    - L2 regularization\n",
    "    - gradient clipping value\n",
    "    - batch size\n",
    "    - ...\n",
    "- post-processing\n",
    "  - for incorporating consistency constraints"
   ]
  },
  {
   "cell_type": "markdown",
   "metadata": {},
   "source": [
    "## Setup Instructions\n",
    "It is important that this file is placed in the **correct directory**. It will not run otherwise. The correct directory is\n",
    "\n",
    "    DIRECTORY_OF_YOUR_BOOK/assignments/2017/assignment3/problem/group_X/\n",
    "    \n",
    "where `DIRECTORY_OF_YOUR_BOOK` is a placeholder for the directory you downloaded the book to, and in `X` in `group_X` contains the number of your group.\n",
    "\n",
    "After you placed it there, **rename the notebook file** to `group_X.ipynb`.\n",
    "\n",
    "The notebook is pre-set to save models in\n",
    "\n",
    "    DIRECTORY_OF_YOUR_BOOK/assignments/2017/assignment3/problem/group_X/model/\n",
    "\n",
    "Be sure not to tinker with that directory - we expect your submission to contain a `model` subdirectory with a single saved model! \n",
    "The saving procedure might overwrite the latest save, or not. Make sure you understand what it does, and upload only a single model! (for more details check tf.train.Saver)"
   ]
  },
  {
   "cell_type": "markdown",
   "metadata": {},
   "source": [
    "## General Instructions\n",
    "This notebook will be used by you to provide your solution, and by us to both assess your solution and enter your marks. It contains three types of sections:\n",
    "\n",
    "1. **Setup** Sections: these sections set up code and resources for assessment. **Do not edit, move nor copy these cells**.\n",
    "2. **Assessment** Sections: these sections are used for both evaluating the output of your code, and for markers to enter their marks. **Do not edit, move, nor copy these cells**.\n",
    "3. **Task** Sections: these sections require your solutions. They may contain stub code, and you are expected to edit this code. For free text answers simply edit the markdown field.  \n",
    "\n",
    "**If you edit, move or copy any of the setup, assessments and mark cells, you will be penalised with -20 points**.\n",
    "\n",
    "Note that you are free to **create additional notebook cells** within a task section. \n",
    "\n",
    "Please **do not share** this assignment nor the dataset publicly, by uploading it online, emailing it to friends etc."
   ]
  },
  {
   "cell_type": "markdown",
   "metadata": {},
   "source": [
    "## Submission Instructions\n",
    "\n",
    "To submit your solution:\n",
    "\n",
    "* Make sure that your solution is fully contained in this notebook. Make sure you do not use any additional files other than your saved model.\n",
    "* Make sure that your solution runs linearly from start to end (no execution hops). We will run your notebook in that order.\n",
    "* **Before you submit, make sure your submission is tested on the stat-nlp-book Docker setup to ensure that it does not have any dependencies outside of those that we provide. If your submission fails to adhere to this requirement, you will get 0 points**.\n",
    "* **If running your notebook produces a trivially fixable error that we spot, we will correct it and penalise you with -20 points. Otherwise you will get 0 points for that solution.**\n",
    "* **Rename this notebook to your `group_X`** (where `X` is the number of your group), and adhere to the directory structure requirements, if you have not already done so. ** Failure to do so will result in -1 point.**\n",
    "* Download the notebook in Jupyter via *File -> Download as -> Notebook (.ipynb)*.\n",
    "* Your submission should be a zip file containing the `group_X` directory, containing `group_X.ipynb` notebook, and the `model` directory with the saved model\n",
    "* Upload that file to the Moodle submission site."
   ]
  },
  {
   "cell_type": "markdown",
   "metadata": {},
   "source": [
    "## <font color='green'>Setup 1</font>: Load Libraries\n",
    "This cell loads libraries important for evaluation and assessment of your model. **Do not change, move or copy it.**"
   ]
  },
  {
   "cell_type": "code",
   "execution_count": null,
   "metadata": {
    "ExecuteTime": {
     "end_time": "2016-12-20T12:04:56.249298",
     "start_time": "2016-12-20T12:04:54.376398"
    },
    "run_control": {
     "frozen": false,
     "read_only": false
    }
   },
   "outputs": [],
   "source": [
    "%%capture\n",
    "%load_ext autoreload\n",
    "%autoreload 2\n",
    "%matplotlib inline\n",
    "#! SETUP 1 - DO NOT CHANGE, MOVE NOR COPY\n",
    "import sys, os\n",
    "_snlp_book_dir = \"../../../../../\"\n",
    "sys.path.append(_snlp_book_dir)\n",
    "# docker image contains tensorflow 0.10.0rc0. We will support execution of only that version!\n",
    "import statnlpbook.nn as nn\n",
    "\n",
    "import tensorflow as tf\n",
    "import numpy as np"
   ]
  },
  {
   "cell_type": "markdown",
   "metadata": {},
   "source": [
    "## <font color='green'>Setup 2</font>: Load Training Data\n",
    "\n",
    "This cell loads the training data. **Do not edit the next cell, nor copy/duplicate it**. Instead refer to the variables in your own code, and slice and dice them as you see fit (but do not change their values). \n",
    "For example, no one stops you from introducing, in the corresponding task section, `my_train` and `my_dev` variables that split the data into different folds.   "
   ]
  },
  {
   "cell_type": "code",
   "execution_count": null,
   "metadata": {
    "ExecuteTime": {
     "end_time": "2016-12-20T12:04:57.110195",
     "start_time": "2016-12-20T12:04:56.251082"
    },
    "run_control": {
     "frozen": false,
     "read_only": false
    }
   },
   "outputs": [],
   "source": [
    "#! SETUP 2 - DO NOT CHANGE, MOVE NOR COPY\n",
    "data_path = _snlp_book_dir + \"data/nn/\"\n",
    "data_train = nn.load_corpus(data_path + \"train.tsv\")\n",
    "data_dev = nn.load_corpus(data_path + \"dev.tsv\")\n",
    "assert(len(data_train) == 45502)"
   ]
  },
  {
   "cell_type": "markdown",
   "metadata": {},
   "source": [
    "### Data Structures\n",
    "\n",
    "Notice that the data is loaded from tab-separated files. The files are easy to read, and we provide the loading functions that load it into a simple data structure. Feel free to check details of the loading.\n",
    "\n",
    "The data structure at hand is an array of dictionaries, each containing a `story` and the `order` entry. `story` is a list of strings, and `order` is a list of integer indices:"
   ]
  },
  {
   "cell_type": "code",
   "execution_count": null,
   "metadata": {
    "ExecuteTime": {
     "end_time": "2016-12-20T12:04:57.134033",
     "start_time": "2016-12-20T12:04:57.115270"
    },
    "run_control": {
     "frozen": false,
     "read_only": false
    }
   },
   "outputs": [],
   "source": [
    "data_train[0]"
   ]
  },
  {
   "cell_type": "markdown",
   "metadata": {},
   "source": [
    "## <font color='blue'>Task 1</font>: Model implementation\n",
    "\n",
    "Your primary task in this assignment is to implement a model that produces the right order of the sentences in the dataset.\n",
    "\n",
    "### Preprocessing pipeline\n",
    "\n",
    "First, we construct a preprocessing pipeline, in our case `pipeline` function which takes care of:\n",
    "- out-of-vocabulary words\n",
    "- building a vocabulary (on the train set), and applying the same unaltered vocabulary on other sets (dev and test)\n",
    "- making sure that the length of input is the same for the train and dev/test sets (for fixed-sized models)\n",
    "\n",
    "You are free (and encouraged!) to do your own input processing function. Should you experiment with recurrent neural networks, you will find that you will need to do so."
   ]
  },
  {
   "cell_type": "markdown",
   "metadata": {},
   "source": [
    "You need to make sure that the `pipeline` function returns the necessary data for your computational graph feed - the required inputs in this case, as we will call this function to process your dev and test data. If you do not make sure that the same pipeline applied to the train set is applied to other datasets, your model may not work with that data!"
   ]
  },
  {
   "cell_type": "markdown",
   "metadata": {},
   "source": [
    "You can take a look at the result of the `pipeline` with the `show_data_instance` function to make sure that your data loaded correctly:"
   ]
  },
  {
   "cell_type": "code",
   "execution_count": null,
   "metadata": {},
   "outputs": [],
   "source": [
    "#IMPORTS\n",
    "import pickle\n",
    "from sklearn.decomposition import PCA"
   ]
  },
  {
   "cell_type": "code",
   "execution_count": null,
   "metadata": {},
   "outputs": [],
   "source": [
    "#Global Variables\n",
    "PAD_TOKEN = '<PAD>'\n",
    "OOV_TOKEN = '<OOV>'"
   ]
  },
  {
   "cell_type": "code",
   "execution_count": null,
   "metadata": {},
   "outputs": [],
   "source": [
    "###############        Utilities API         #################\n",
    "#  Any generic utility functions should go here\n",
    "##############################################################"
   ]
  },
  {
   "cell_type": "code",
   "execution_count": null,
   "metadata": {},
   "outputs": [],
   "source": [
    "# enables tensorboard to visualize the graph later\n",
    "from IPython.display import clear_output, Image, display, HTML\n",
    "\n",
    "def strip_consts(graph_def, max_const_size=32):\n",
    "    \"\"\"Strip large constant values from graph_def.\"\"\"\n",
    "    strip_def = tf.GraphDef()\n",
    "    for n0 in graph_def.node:\n",
    "        n = strip_def.node.add() \n",
    "        n.MergeFrom(n0)\n",
    "        if n.op == 'Const':\n",
    "            tensor = n.attr['value'].tensor\n",
    "            size = len(tensor.tensor_content)\n",
    "            if size > max_const_size:\n",
    "                tensor.tensor_content = bytes(\"<stripped %d bytes>\"%size, 'utf-8')\n",
    "    return strip_def\n",
    "\n",
    "def show_graph(graph_def, max_const_size=32):\n",
    "    \"\"\"Visualize TensorFlow graph.\"\"\"\n",
    "    if hasattr(graph_def, 'as_graph_def'):\n",
    "        graph_def = graph_def.as_graph_def()\n",
    "    strip_def = strip_consts(graph_def, max_const_size=max_const_size)\n",
    "    code = \"\"\"\n",
    "        <script>\n",
    "          function load() {{\n",
    "            document.getElementById(\"{id}\").pbtxt = {data};\n",
    "          }}\n",
    "        </script>\n",
    "        <link rel=\"import\" href=\"https://tensorboard.appspot.com/tf-graph-basic.build.html\" onload=load()>\n",
    "        <div style=\"height:600px\">\n",
    "          <tf-graph-basic id=\"{id}\"></tf-graph-basic>\n",
    "        </div>\n",
    "    \"\"\".format(data=repr(str(strip_def)), id='graph'+str(np.random.rand()))\n",
    "\n",
    "    iframe = \"\"\"\n",
    "        <iframe seamless style=\"width:1200px;height:620px;border:0\" srcdoc=\"{}\"></iframe>\n",
    "    \"\"\".format(code.replace('\"', '&quot;'))\n",
    "    display(HTML(iframe))"
   ]
  },
  {
   "cell_type": "code",
   "execution_count": null,
   "metadata": {},
   "outputs": [],
   "source": [
    "def pickleSave(dictionary, output_name):\n",
    "    pickle_out = open(\"{}.pickle\".format(output_name),\"wb\")\n",
    "    pickle.dump(dictionary, pickle_out)\n",
    "    pickle_out.close()"
   ]
  },
  {
   "cell_type": "code",
   "execution_count": null,
   "metadata": {},
   "outputs": [],
   "source": [
    "def pickleLoad(file_name):\n",
    "    return pickle.load( open( file_name, \"rb\" ) )"
   ]
  },
  {
   "cell_type": "code",
   "execution_count": null,
   "metadata": {},
   "outputs": [],
   "source": [
    "def readAndDumpCSV(txtfile,output_name,save=True):\n",
    "    ''''\n",
    "    Read a txt file in csv format (tested with glove) and save a python dictionary of the embeddings using pickle\n",
    "    Also return said dictionary\n",
    "    '''\n",
    "    mydict = {}\n",
    "    with open(txtfile,'r') as f:\n",
    "        for line in f:\n",
    "            mydict[line.split(' ')[0]] = np.array([float(n) for n in line.split(' ')[1:]])\n",
    "        if(save):\n",
    "                pickle_out = open(\"{}.pickle\".format(output_name),\"wb\")\n",
    "                pickle.dump(mydict, pickle_out)\n",
    "                pickle_out.close()\n",
    "        else:\n",
    "            return mydict            "
   ]
  },
  {
   "cell_type": "code",
   "execution_count": null,
   "metadata": {},
   "outputs": [],
   "source": [
    "def displayDict(dictionary, num_vals):\n",
    "    '''\n",
    "    Display the first num_vals entries of a dictionary\n",
    "    '''\n",
    "    count = 0\n",
    "    for key,val in dictionary.items():\n",
    "        if(count>num_vals):\n",
    "            return\n",
    "        print(\"key : {} , val : \\n {} and the datatypes are: \\n key -> {} and val -> {}\\n\".format(key,val,type(key) ,type(val)))\n",
    "        count+=1"
   ]
  },
  {
   "cell_type": "code",
   "execution_count": null,
   "metadata": {},
   "outputs": [],
   "source": [
    "#Early stopper class:\n",
    "# Logic:\n",
    "#  After each epoch of training, compare the dev accuracy with the max dev accuracy  achieved\n",
    "#  If it is bigger, replace it, save the model, reset the decreasing accuracy count and continue\n",
    "#  If it is smaller, \n",
    "#    Check whether the patience count is equal to teh number of consecutive decreasing accuracies\n",
    "#       if yes:  Trigger early stopping (Flag to break off the training loop)\n",
    "#       if no : add 1 to the count of consecutive decreasing accuracies and continue\n",
    "#  After training, the model saved needs to be reloaded, as this will be the last model where the accuracy increased\n",
    "\n",
    "class EarlyStopper(object):\n",
    "    '''\n",
    "    Early stopper class: after each epoch of training assess whether the accuracy on the dev-set is smaller\n",
    "    than the accuracy on the dev set on the previous epoch.\n",
    "    If this is not the case for a patience number of epochs, stop the training and keep the model of the last\n",
    "    epoch where the accuracy increased\n",
    "    '''\n",
    "    def __init__(self, patience,verbose):\n",
    "        '''\n",
    "        patience : after how many epochs of decreasing dev accuracy do we stop\n",
    "        '''\n",
    "        self.patience = patience\n",
    "        self.decreasing_epochs = 0\n",
    "        self.last_increasing_accuracy = 0.0\n",
    "        self.verbose = verbose\n",
    "        \n",
    "    def checkEarlyStopping(self,dev_accuracy, session):\n",
    "        \n",
    "        if(dev_accuracy > self.last_increasing_accuracy):\n",
    "            if(self.verbose):\n",
    "                print(\"Accuracy Increasing in the dev set, saving the model!\")\n",
    "            nn.save_model(session)\n",
    "            self.last_increasing_accuracy = dev_accuracy \n",
    "            self.decreasing_epochs = 0\n",
    "            return False\n",
    "        else:\n",
    "            self.decreasing_epochs+=1\n",
    "            if(self.decreasing_epochs > self.patience):\n",
    "                print(\"Early stopping activated : {} consecutive epochs where accuracy is decresing!\".format(self.decreasing_epochs))\n",
    "                print(\"Model saved yields a dev set accuracy of : {}\".format(self.last_increasing_accuracy))\n",
    "                return True\n",
    "            else:\n",
    "                if(self.verbose):\n",
    "                    print(\"Accuracy decreasing on the Dev set, taking note and continuing!\")\n",
    "                return False"
   ]
  },
  {
   "cell_type": "code",
   "execution_count": null,
   "metadata": {},
   "outputs": [],
   "source": [
    "###############        Utilities API  END       #################\n",
    "##############################################################"
   ]
  },
  {
   "cell_type": "code",
   "execution_count": null,
   "metadata": {},
   "outputs": [],
   "source": [
    "##############           PREPOCESSING API         ######################\n",
    "#  Here will go all the functions relating to preprocessing\n",
    "###################################################################"
   ]
  },
  {
   "cell_type": "code",
   "execution_count": null,
   "metadata": {},
   "outputs": [],
   "source": [
    "# TODO create tokenizer so it handles the following:\n",
    "# - (n't 's 'm 're 've 'll 'd) word endings to be separated (shouldn't -> (should, n't))\n",
    "# - punctuation at the end of sentences (This is a sentence. -> (..., a, sentence, .))\n",
    "#     - try to make sure if possible to filter out only sentence ending punctuation (U.S. etc. Mr. St.) should be kept\n",
    "#     - also words like e.g. a.m. p.m.\n",
    "# - separate numbers from others ($5 -> $, 5)\n",
    "#\n",
    "# OR find a library that is included in the docker image (nltk and spacy aren't...) that does that for us\n",
    "#\n",
    "# decide what to do with words not in GloVe (random embedding?)\n",
    "\n",
    "# tokenisation\n",
    "punctuation = '.,:;?!\"'\n",
    "endings_2 = [\"'s\", \"'m\", \"'d\"]\n",
    "endings_3 = [\"n't\", \"'re\", \"'ve\", \"'ll\"]\n",
    "valid_words = ['e.g.', 'a.m.', 'p.m.', 'U.S.', 'etc.', 'i.e.', 'Mr.', 'Mrs.', 'Ms.', 'St.']\n",
    "currency = '$€£'\n",
    "\n",
    "def tokenize_word(word):    \n",
    "    if len(word) == 1:\n",
    "        return [word]\n",
    "    \n",
    "    if word.isalpha():\n",
    "        return [word]\n",
    "\n",
    "    if word in valid_words:\n",
    "        return [word]\n",
    "    \n",
    "    if word[0] in currency or word[0] in punctuation:\n",
    "        tokens = tokenize_word(word[1:])\n",
    "        sign = word[0]\n",
    "        tokens.insert(0, sign)\n",
    "        return tokens\n",
    "    \n",
    "    if word[-1] in punctuation:\n",
    "        tokens = tokenize_word(word[:-1])\n",
    "        tokens.append(word[-1])\n",
    "        return tokens\n",
    "    \n",
    "    if len(word) > 2 and word[-2:] in endings_2:\n",
    "        tokens = tokenize_word(word[:-2])\n",
    "        tokens.append(word[-2:])\n",
    "        return tokens\n",
    "    \n",
    "    if len(word) > 3 and word[-3:] in endings_3:\n",
    "        tokens = tokenize_word(word[:-3])\n",
    "        tokens.append(word[-3:])\n",
    "        return tokens\n",
    "    \n",
    "    return [word]\n",
    "        \n",
    "def tokenize_sent(sent):\n",
    "    sent = sent.split(' ')\n",
    "    ret = [tokens for word in sent if len(word) > 0 for tokens in tokenize_word(word) ]\n",
    "    return ret"
   ]
  },
  {
   "cell_type": "code",
   "execution_count": null,
   "metadata": {},
   "outputs": [],
   "source": [
    "# preprocessing pipeline, used to load the data intro a structure required by the model\n",
    "def pipeline(data, vocab=None, max_sent_len_=None):\n",
    "    is_ext_vocab = True\n",
    "    if vocab is None:\n",
    "        is_ext_vocab = False\n",
    "        vocab = {'<PAD>': 0, '<OOV>': 1}\n",
    "    \n",
    "    if is_ext_vocab:\n",
    "        if 'The' in vocab:\n",
    "            capitalized = True\n",
    "        else:\n",
    "            capitalized = False\n",
    "    else:\n",
    "        capitalized = True\n",
    "\n",
    "    max_sent_len = -1\n",
    "    data_sentences = []\n",
    "    data_orders = []\n",
    "    for instance in data:\n",
    "        sents = []\n",
    "        for sentence in instance['story']:\n",
    "            sent = []\n",
    "            tokenized = tokenize_sent(sentence)\n",
    "            for token in tokenized:\n",
    "                # if we do not use capitalized letters, make the word lowercase\n",
    "                if not capitalized:\n",
    "                    token = token.lower()\n",
    "                \n",
    "                if not is_ext_vocab and token not in vocab:\n",
    "                    vocab[token] = len(vocab)\n",
    "                if token not in vocab:\n",
    "                    token_id = vocab['<OOV>']\n",
    "                    #print('NOT IN VOCAB: ' + token)\n",
    "                else:\n",
    "                    token_id = vocab[token]\n",
    "                sent.append(token_id)\n",
    "            if len(sent) > max_sent_len:\n",
    "                max_sent_len = len(sent)\n",
    "            sents.append(sent)\n",
    "        data_sentences.append(sents)\n",
    "        data_orders.append(instance['order'])\n",
    "\n",
    "    if max_sent_len_ is not None:\n",
    "        max_sent_len = max_sent_len_\n",
    "    out_sentences = np.full([len(data_sentences), 5, max_sent_len], vocab['<PAD>'], dtype=np.int32)\n",
    "\n",
    "    for i, elem in enumerate(data_sentences):\n",
    "        for j, sent in enumerate(elem):\n",
    "            out_sentences[i, j, 0:len(sent)] = sent\n",
    "\n",
    "    out_orders = np.array(data_orders, dtype=np.int32)\n",
    "    \n",
    "    return out_sentences, out_orders, vocab"
   ]
  },
  {
   "cell_type": "code",
   "execution_count": null,
   "metadata": {
    "ExecuteTime": {
     "end_time": "2016-12-20T12:04:59.842961",
     "start_time": "2016-12-20T12:04:57.136946"
    },
    "run_control": {
     "frozen": false,
     "read_only": false
    }
   },
   "outputs": [],
   "source": [
    "def findMeanEmbedding(embeddingDict):\n",
    "    '''Get the mean embedding and the standard deviation (dimention-wise) from an input embedding dictionary'''\n",
    "    vectorList = list(embeddingDict.values())\n",
    "    return np.mean(vectorList,axis=0), np.std(vectorList,axis=0)"
   ]
  },
  {
   "cell_type": "code",
   "execution_count": null,
   "metadata": {},
   "outputs": [],
   "source": [
    "####      REMARK    ######\n",
    "#By taking embeddings from glove that are not in the give vocab, aren't we effectively \n",
    "# increasing the length our vocab?????? Because a word not in the vocab that is in the test set will have an \n",
    "# embedding ...\n",
    "\n",
    "# So we have two ways of doing this\n",
    "\n",
    "\n",
    "\n",
    "#1 :\n",
    "# Get the N Most popular words in GLOVE to define our VOCAB and embeddings\n",
    "# Which means that the OOV words in the test set will be the words that are not in the N most popular words\n",
    "# AND all the words that we give a vector for have meaning (are not random)!\n",
    "\n",
    "#Then all we need to do is make a tokensation that makes sure to match what the GLOVE tokenisation is to avoid \n",
    "#missmatches .\n",
    "\n",
    "\n",
    "\n",
    "# 2 :\n",
    "# Using the training set to get a vocab\n",
    "# finding the embeddings in glove for the words in our vocab\n",
    "# FOR the words in our vocab THAT DONT have a glove embedding we give a RANDOM value\n",
    "\n",
    "#Then we are using our vocab to figure out what the oovs are in the test set\n",
    "#We then extract our embedding which is either the GLOVE value of the word or a RANDOM value\n",
    "# and use that  for our LSTM\n",
    "\n",
    "\n",
    "\n",
    "# 1 seems conceptually better to me, but i implemented both we can try, script 1 below  is method 1 and script 2\n",
    "# is method 2\n",
    "\n",
    "\n",
    "## THIS IS ILLUSTRATED IN THE TWO PREPROCESSING SCRIPTS BELOW"
   ]
  },
  {
   "cell_type": "code",
   "execution_count": null,
   "metadata": {
    "ExecuteTime": {
     "end_time": "2016-12-20T12:04:59.925263",
     "start_time": "2016-12-20T12:04:59.844598"
    },
    "run_control": {
     "frozen": false,
     "read_only": false
    }
   },
   "outputs": [],
   "source": [
    "#Used in 2. in the remark above\n",
    "def createWordEmbeddings(pre_learned_embeddings,total_size = -1):\n",
    "    '''\n",
    "    Using a pre-trained word embeddings dictionary, create our (reduced in size) dictionary of embeddings.\n",
    "    Make sure that all the words in our vocab are embedded, and also use the embeddings of the most popular words,\n",
    "    as long as the total_size of the dictionary is not exceeded.\n",
    "    pre_learned_embeddings : Dictionnary of word embeddings, can come from glove or word2vec\n",
    "    total_size : Length of our output embeddings dictionary\n",
    "    Returns : A dictionary of word embeddings\n",
    "    '''\n",
    "    \n",
    "    if(total_size >=len(pre_learned_embeddings)):\n",
    "        #Undefined behaviour in the above case\n",
    "        raise ValueError(\"Total size is too big\")\n",
    "    \n",
    "    #Get the dimention of the embeddings\n",
    "    dim = len(pre_learned_embeddings[\"the\"])\n",
    "    \n",
    "    #Compute the mean vector and std vector for the glove embeddings\n",
    "    mean_glove, std_glove = findMeanEmbedding(pre_learned_embeddings)\n",
    "\n",
    "    #Initialise the embeddings dict\n",
    "    embeddings = {}\n",
    "    \n",
    "    #Iterate over all the words in our vocabulary\n",
    "    for word, word_index in vocab.items():\n",
    "        #Stop if we reach our total desired size : \n",
    "        #Careful : Will this create bugs with non-embedded words? -> Maybe its better not to allow total_size<vocab_size\n",
    "        if( total_size > 0 and len(embeddings) >= total_size):\n",
    "            print(\"Warning: Total size reached before full vocab was embedded\")\n",
    "            break\n",
    "            \n",
    "            \n",
    "        if(word == PAD_TOKEN):\n",
    "            #Set the <PAD> token to 0\n",
    "            embeddings[word_index] = np.zeros(dim)\n",
    "        elif(word == OOV_TOKEN ):\n",
    "            #Initialize the <OOV> token to 1. Update later (c.f. below)\n",
    "            embeddings[word_index] = np.ones(dim)\n",
    "        elif(word in pre_learned_embeddings):\n",
    "            #If the word is in the glove dictionnary, use this embedding\n",
    "            embeddings[word_index] = pre_learned_embeddings[word]\n",
    "        else:\n",
    "            #If not, set its embedding to a random vector with\n",
    "            #mean the average glove embedding and std the std of the glove embeddings\n",
    "            #TODO : think if there is a better way to assign vectors in our vocab that are not in Glove\n",
    "            mean_with_white_noise = mean_glove + np.random.rand(dim)*std_glove\n",
    "            embeddings[word_index] = mean_with_white_noise\n",
    "            \n",
    "            \n",
    "    #Make some more embeddings than the words that are in our vocab:\n",
    "    #Iterate over the glove Word embeddings\n",
    "    if(total_size > 0):\n",
    "        for word, pre_learned_embedding in pre_learned_embeddings.items():\n",
    "            #If we exceed our total desired length, stop\n",
    "            if(len(embeddings) >= total_size):\n",
    "                break\n",
    "\n",
    "            #Add embeddings that are not already there\n",
    "            #For this to make sense we also need to increase our vocabulary.\n",
    "            if(word not in embeddings):\n",
    "                vocab[word] = len(vocab)\n",
    "                embeddings[vocab[word]] = pre_learned_embedding \n",
    "\n",
    "\n",
    "    #Update the OOV embedding : The idea is to set it the average value of the unused Glove embeddings\n",
    "    #To do so set the OOV value to the mean of all glove embeddings - mean of our embeddings \n",
    "    #ALERT : This mean is corrupted by the noise we are adding in the else clause above and by the embeddings\n",
    "    # for the <PAD> and <OOV> tokens -> Not sure if we should care or not\n",
    "    mean_embeddings , std_embeddings = findMeanEmbedding(embeddings)\n",
    "    OOV_value = mean_glove - mean_embeddings\n",
    "    embeddings[vocab[OOV_TOKEN]] = OOV_value\n",
    "    \n",
    "    return embeddings"
   ]
  },
  {
   "cell_type": "code",
   "execution_count": null,
   "metadata": {
    "ExecuteTime": {
     "end_time": "2016-12-20T12:04:59.954655",
     "start_time": "2016-12-20T12:04:59.926701"
    },
    "run_control": {
     "frozen": false,
     "read_only": false
    }
   },
   "outputs": [],
   "source": [
    "#Used in 1 in the remark above\n",
    "def createWordVocabAndEmbeddings(pre_learned_embeddings, total_size):  \n",
    "    '''\n",
    "    Use the total_size first embeddings from pre_learned_embeddings as our vocab and embeddings\n",
    "    Assign the mean vector of unused embeddings to get the OOV token embedding\n",
    "    Assign the origin to the PAD token embedding\n",
    "    '''\n",
    "    \n",
    "    if(total_size >=len(pre_learned_embeddings)):\n",
    "        #Undefined behaviour in the above case\n",
    "        raise ValueError(\"Total size is too big\")\n",
    "    \n",
    "    #Get the dimention of the embeddings\n",
    "    dim = len(pre_learned_embeddings[\"the\"])\n",
    "    \n",
    "    #Compute the mean vector and std vector for the glove embeddings\n",
    "    mean_glove, std_glove = findMeanEmbedding(pre_learned_embeddings)\n",
    "\n",
    "    #Initialise the embeddings and vocab dicts\n",
    "    vocab = {PAD_TOKEN:0, OOV_TOKEN:1}\n",
    "    embeddings = {0:np.zeros(dim) , 1:np.ones(dim)}\n",
    "    \n",
    "    #Create the vocab and embeddings by taking the total_size first tokens in glove\n",
    "    for word, pre_learned_embedding in pre_learned_embeddings.items():\n",
    "        if(len(embeddings)>=total_size):\n",
    "            break\n",
    "        vocab[word]=len(vocab)\n",
    "        embeddings[vocab[word]] = pre_learned_embeddings[word]\n",
    "    \n",
    "    \n",
    "    #Update the OOV embedding : The idea is to set it the average value of the unused Glove embeddings\n",
    "    #To do so set the OOV value to the mean of all glove embeddings - mean of our embeddings \n",
    "    mean_embeddings , std_embeddings = findMeanEmbedding(embeddings)\n",
    "    OOV_value = mean_glove - mean_embeddings\n",
    "    embeddings[vocab[OOV_TOKEN]] = OOV_value\n",
    "    \n",
    "    \n",
    "    return vocab, embeddings"
   ]
  },
  {
   "cell_type": "code",
   "execution_count": null,
   "metadata": {},
   "outputs": [],
   "source": [
    "def doPCA(embeddings, output_dim):\n",
    "    '''\n",
    "    Perform PCA on a dictionary of embeddings to return the reduced-dimentionality embeddings with output_dim dimention.\n",
    "    '''\n",
    "    #Get a numpy array from the embeddings to perform the PCA\n",
    "    #Get the input dimentions\n",
    "    in_dim = len(embeddings[0])\n",
    "    num_embeddings = len(embeddings)\n",
    "    #initialise the array:\n",
    "    # get a dim*num_of_embeddings np array with all the embeddings\n",
    "    emb = np.zeros((num_embeddings,in_dim))\n",
    "\n",
    "    #Transfer the embeddings dictionary to the emb array\n",
    "    for k,v in embeddings.items():\n",
    "        emb[k,:] = v\n",
    "\n",
    "\n",
    "    #Perfom PCA using scikit learn\n",
    "    pca = PCA(n_components = output_dim)\n",
    "    pca_embeddings = pca.fit_transform(emb)\n",
    "\n",
    "\n",
    "    #Put the pca-reduced embeddings back into a dictionary\n",
    "    pca_embeddings_dict = {}\n",
    "    count = 0\n",
    "    for embedding in pca_embeddings:\n",
    "        pca_embeddings_dict[count] = embedding\n",
    "        count+=1\n",
    "\n",
    "    #Map the embedding for <PAD> back to 0.\n",
    "    pca_embeddings_dict[0]=np.zeros(pca_embeddings_dict[1].shape)\n",
    "\n",
    "    return pca_embeddings_dict\n"
   ]
  },
  {
   "cell_type": "code",
   "execution_count": null,
   "metadata": {},
   "outputs": [],
   "source": [
    "##############      PREPROCESSING API END    #####################\n",
    "##################################################################"
   ]
  },
  {
   "cell_type": "code",
   "execution_count": null,
   "metadata": {},
   "outputs": [],
   "source": [
    "##############      DO PREPROCESSING           ####################\n",
    "#  In this section put the scripts utilising the functions above to run the pre-processing\n",
    "###################################################################"
   ]
  },
  {
   "cell_type": "code",
   "execution_count": null,
   "metadata": {},
   "outputs": [],
   "source": [
    "### ONLY NEED TO  (AND SHOULD) RUN ONCE: - already on github so not even ###\n",
    "#Save the glove embeddings into a pickle format "
   ]
  },
  {
   "cell_type": "code",
   "execution_count": null,
   "metadata": {},
   "outputs": [],
   "source": [
    "#readAndDumpCSV(\"./glove/glove.6B.50d.txt\",\"glove6B50D\")"
   ]
  },
  {
   "cell_type": "code",
   "execution_count": null,
   "metadata": {},
   "outputs": [],
   "source": [
    "#readAndDumpCSV(\"./glove/glove.6B.100d.txt\",\"glove6B100D\")"
   ]
  },
  {
   "cell_type": "code",
   "execution_count": null,
   "metadata": {},
   "outputs": [],
   "source": [
    "#readAndDumpCSV(\"./glove/glove.6B.200d.txt\",\"glove6B200D\")"
   ]
  },
  {
   "cell_type": "code",
   "execution_count": null,
   "metadata": {},
   "outputs": [],
   "source": [
    "#readAndDumpCSV(\"./glove/glove.6B.300d.txt\",\"glove6B300D\")"
   ]
  },
  {
   "cell_type": "code",
   "execution_count": null,
   "metadata": {},
   "outputs": [],
   "source": [
    "#Computer runs out of memory with this one.....\n",
    "#readAndDumpCSV(\"./glove/glove.840B.300d.txt\" ,\"glove840B300D\")"
   ]
  },
  {
   "cell_type": "code",
   "execution_count": null,
   "metadata": {},
   "outputs": [],
   "source": [
    "### Script hyper parameters!! ###\n",
    "\n",
    "#Flags\n",
    "use_pca = False \n",
    "\n",
    "#parameters\n",
    "output_dimention_from_pca = 50\n",
    "embeddings_file_to_load = \"glove6B100D.pickle\"\n",
    "vocab_size = 200000"
   ]
  },
  {
   "cell_type": "code",
   "execution_count": null,
   "metadata": {
    "scrolled": true
   },
   "outputs": [],
   "source": [
    "########   Script 1 :   ##########\n",
    "# Use Glove to define the vocab, and (later on, within the model) train with OOV tokens if need be\n",
    "\n",
    "# LOAD the Pickle file of pre-trained embeddings : Choose favorite\n",
    "pre_learned_embeddings = pickleLoad(embeddings_file_to_load)\n",
    "\n",
    "#Create the vocab and embeddings of desired size\n",
    "vocab, embeddings = createWordVocabAndEmbeddings(pre_learned_embeddings, vocab_size)\n",
    "\n",
    "if(use_pca):\n",
    "    embeddings = doPCA(embeddings,output_dimention_from_pca)\n",
    "\n",
    "\n",
    "#Get the training data\n",
    "train_stories, train_orders, _ = pipeline(data_train, vocab)\n",
    "\n",
    "# get the length of the longest sentence\n",
    "max_sent_len = train_stories.shape[2]\n",
    "\n",
    "#Get validation data\n",
    "dev_stories, dev_orders, _ = pipeline(data_dev, vocab=vocab, max_sent_len_=max_sent_len)\n",
    "\n",
    "#################################"
   ]
  },
  {
   "cell_type": "code",
   "execution_count": null,
   "metadata": {},
   "outputs": [],
   "source": [
    "#embeddings[3].shape"
   ]
  },
  {
   "cell_type": "code",
   "execution_count": null,
   "metadata": {},
   "outputs": [],
   "source": [
    "#displayDict(embeddings,3)"
   ]
  },
  {
   "cell_type": "code",
   "execution_count": null,
   "metadata": {},
   "outputs": [],
   "source": [
    "### OPTIONAL :\n",
    "# Use this in order to save the vocab and embeddings produced and only load them directly when needed\n",
    "#pickleSave(vocab, \"VocabScript1\")\n",
    "#pickleSave(embeddings, \"EmbeddingScript1\")"
   ]
  },
  {
   "cell_type": "code",
   "execution_count": null,
   "metadata": {},
   "outputs": [],
   "source": [
    "########### Script 2 ############ \n",
    "# Use the training data to define the vocab, and then try to adapt the Glove embeddings to this vocab\n",
    "\n",
    "# LOAD the Pickle file of pre-trained embeddings : Choose favorite\n",
    "pre_learned_embeddings = pickleLoad(embeddings_file_to_load)\n",
    "\n",
    "\n",
    "#Get the training data and the vocabulary\n",
    "train_stories, train_orders, vocab = pipeline(data_train)\n",
    "\n",
    "# get the length of the longest sentence\n",
    "max_sent_len = train_stories.shape[2]\n",
    "\n",
    "#Get the word embeddings\n",
    "embeddings = createWordEmbeddings(pre_learned_embeddings)\n",
    "\n",
    "if(use_pca):\n",
    "    embeddings = doPCA(embeddings,output_dimention_from_pca)\n",
    "\n",
    "#Get Validation data\n",
    "dev_stories, dev_orders, _ = pipeline(data_dev, vocab=vocab, max_sent_len_= max_sent_len)\n",
    "################################"
   ]
  },
  {
   "cell_type": "code",
   "execution_count": null,
   "metadata": {},
   "outputs": [],
   "source": [
    "#embeddings[3].shape"
   ]
  },
  {
   "cell_type": "code",
   "execution_count": null,
   "metadata": {},
   "outputs": [],
   "source": [
    "#displayDict(embeddings,3)"
   ]
  },
  {
   "cell_type": "code",
   "execution_count": null,
   "metadata": {},
   "outputs": [],
   "source": [
    "#displayDict(vocab,3)"
   ]
  },
  {
   "cell_type": "code",
   "execution_count": null,
   "metadata": {},
   "outputs": [],
   "source": [
    "### OPTIONAL :\n",
    "# Use this in order to save the vocab and embeddings produced and only load them directly when needed\n",
    "#pickleSave(vocab, \"VocabScript2\")\n",
    "#pickleSave(embeddings, \"EmbeddingScript2\")"
   ]
  },
  {
   "cell_type": "code",
   "execution_count": null,
   "metadata": {},
   "outputs": [],
   "source": [
    "### OPTIONAL:\n",
    "# If the vocabs and embeddings were saved before can just call this cell\n",
    "\n",
    "#vocab_file = \"VocabScript1.pickle\"\n",
    "#embedding_file = \"EmbeddingScript1.pickle\"\n",
    "\n",
    "#vocab = pickleLoad(vocab_file)\n",
    "#embeddings = pickleLoad(embedding_file)\n",
    "\n",
    "# get the length of the longest sentence\n",
    "#max_sent_len = train_stories.shape[2]\n",
    "\n",
    "#Get Validation data\n",
    "#dev_stories, dev_orders, _ = pipeline(data_dev, vocab=vocab, max_sent_len_=max_sent_len)"
   ]
  },
  {
   "cell_type": "code",
   "execution_count": null,
   "metadata": {},
   "outputs": [],
   "source": [
    "#nn.show_data_instance(dev_stories, dev_orders, vocab, 15)"
   ]
  },
  {
   "cell_type": "code",
   "execution_count": null,
   "metadata": {},
   "outputs": [],
   "source": [
    "# ADD NEW TRAINING DATA\n",
    "def reorder_training_set(train_stories, train_orders):\n",
    "\n",
    "    new_stories = []\n",
    "    new_orders = []\n",
    "    for idx, story in enumerate(train_stories):\n",
    "        perm = np.random.permutation(5)            \n",
    "        new_story = story[perm, :]\n",
    "        new_order = train_orders[idx][perm]\n",
    "        new_stories.append(new_story)\n",
    "        new_orders.append(new_order)\n",
    "        \n",
    "    return np.array(new_stories), np.array(new_orders)"
   ]
  },
  {
   "cell_type": "code",
   "execution_count": null,
   "metadata": {},
   "outputs": [],
   "source": [
    "##############      DO PREPORCESSING END   #####################\n",
    "##################################################################"
   ]
  },
  {
   "cell_type": "markdown",
   "metadata": {},
   "source": [
    "### Model\n",
    "\n",
    "The model we provide is a rudimentary, non-optimised model that essentially represents every word in a sentence with a fixed vector, sums these vectors up (per sentence) and puts a softmax at the end which aims to guess the order of sentences independently.\n",
    "\n",
    "First we define the model parameters:"
   ]
  },
  {
   "cell_type": "code",
   "execution_count": null,
   "metadata": {},
   "outputs": [],
   "source": [
    " #Imports\n",
    "from tensorflow.contrib import rnn\n",
    "from scipy.optimize import linear_sum_assignment\n",
    "import time"
   ]
  },
  {
   "cell_type": "code",
   "execution_count": null,
   "metadata": {
    "ExecuteTime": {
     "end_time": "2016-12-20T12:04:59.966529",
     "start_time": "2016-12-20T12:04:59.956638"
    },
    "run_control": {
     "frozen": false,
     "read_only": false
    }
   },
   "outputs": [],
   "source": [
    "### MODEL PARAMETERS ###\n",
    "target_size = 5\n",
    "vocab_size = len(vocab)\n",
    "input_size = len(embeddings[0])\n",
    "# n = len(train_stories)\n",
    "output_size = 5\n",
    "\n",
    "n_hidden_1 = 512\n",
    "n_hidden_2 = 256\n",
    "num_hidden_lstm = 64\n",
    "sentence_embedding_dim = 128"
   ]
  },
  {
   "cell_type": "markdown",
   "metadata": {},
   "source": [
    "and then we define the model"
   ]
  },
  {
   "cell_type": "code",
   "execution_count": null,
   "metadata": {},
   "outputs": [],
   "source": [
    "def leaky_relu(x):\n",
    "    return tf.maximum(x, 0.1*x) "
   ]
  },
  {
   "cell_type": "code",
   "execution_count": null,
   "metadata": {},
   "outputs": [],
   "source": [
    "def inverse_permutation(x, batch_size):\n",
    "    # x will be a numpy array with the contents of the placeholder below\n",
    "    y = np.zeros_like(x, dtype=np.int32)\n",
    "    for b in range(batch_size):\n",
    "        for i in range(5):\n",
    "            y[b, x[b, i]] = 4 - i\n",
    "    return y"
   ]
  },
  {
   "cell_type": "code",
   "execution_count": null,
   "metadata": {},
   "outputs": [],
   "source": [
    "def hungarian_method(x, batch_size):\n",
    "    l = list()\n",
    "    #print('x={}'.format(x[:3, :]))\n",
    "    #print('batch_size={}'.format(batch_size))\n",
    "    \n",
    "    for b in range(batch_size):\n",
    "        row_indices, column_indices = linear_sum_assignment(-x[b, :])\n",
    "        l.append(column_indices)\n",
    "        \n",
    "    l = np.array(l, dtype=np.int32)\n",
    "    #print('l={}'.format(l[:3]))\n",
    "    return l"
   ]
  },
  {
   "cell_type": "code",
   "execution_count": null,
   "metadata": {},
   "outputs": [],
   "source": [
    "def RNN(x, weights, biases, fwd_cell, sent_lens):\n",
    "\n",
    "    # Get lstm cell output - dynamic_rnn allows for different sequence lengths, sets output to 0 after and just maintains state\n",
    "    outputs, final_states = tf.nn.dynamic_rnn(fwd_cell, x, dtype=tf.float32, sequence_length=sent_lens)\n",
    "    \n",
    "    final_output = final_states[0] # final_states returns a tuple of (final_output, final_state)\n",
    "\n",
    "    return tf.matmul(final_output, weights) + biases"
   ]
  },
  {
   "cell_type": "code",
   "execution_count": null,
   "metadata": {},
   "outputs": [],
   "source": [
    "def BiRNN(x, weights, biases, fwd_cell, bwd_cell, sent_lens):\n",
    "    \n",
    "    outputs, final_states = tf.nn.bidirectional_dynamic_rnn(fwd_cell, bwd_cell, x, dtype=tf.float32, sequence_length=sent_lens)\n",
    "    \n",
    "    final_output = final_states[0] # final_states returns a tuple of (final_output, final_state)\n",
    "\n",
    "    output_concat = tf.concat([final_output[0], final_output[1]], 1) # concatenate the forward pass and backwards pass\n",
    "    \n",
    "    return tf.matmul(output_concat, weights) + biases"
   ]
  },
  {
   "cell_type": "code",
   "execution_count": null,
   "metadata": {},
   "outputs": [],
   "source": [
    "def MultiLayerRNN(x, weights, biases, cell1, cell2, sent_lens):\n",
    "    \n",
    "    # Get outputs from 1 layer LSTM\n",
    "    outputs, final_states = tf.nn.dynamic_rnn(cell1, x, dtype=tf.float32, sequence_length=sent_lens, scope='layer1')\n",
    "    # Use outputs from previous layer as input to LSTM\n",
    "    outputs, final_states = tf.nn.dynamic_rnn(cell2, outputs, dtype=tf.float32, sequence_length=sent_lens, scope='layer2')\n",
    "    \n",
    "    final_output = final_states[0] # final_states returns a tuple of (final_output, final_state); get output only\n",
    "    \n",
    "    return tf.matmul(final_output, weights) + biases \n",
    "    "
   ]
  },
  {
   "cell_type": "code",
   "execution_count": null,
   "metadata": {},
   "outputs": [],
   "source": [
    "def MultiLayerBiRNN(x, weights, biases, fwd_cell, bwd_cell, fwd_cell2, bwd_cell2, sent_lens):\n",
    "    \n",
    "    # Get outputs from 1 layer LSTM\n",
    "    outputs, final_states = tf.nn.bidirectional_dynamic_rnn(fwd_cell, bwd_cell, x, dtype=tf.float32, sequence_length=sent_lens, scope='layer1')\n",
    "    # Use outputs from previous layer as input to LSTM\n",
    "    outputs, final_states = tf.nn.bidirectional_dynamic_rnn(fwd_cell2, bwd_cell2, outputs, dtype=tf.float32, sequence_length=sent_lens, scope='layer2')\n",
    "    \n",
    "    final_output = final_states[0] # final_states returns a tuple of (final_output, final_state)\n",
    "\n",
    "    output_concat = tf.concat([final_output[0], final_output[1]], 1) # concatenate the forward pass and backwards pass\n",
    "    \n",
    "    return tf.matmul(output_concat, weights) + biases"
   ]
  },
  {
   "cell_type": "code",
   "execution_count": null,
   "metadata": {},
   "outputs": [],
   "source": [
    "#def make_rnn_cell(inputs, batch_size, sent_lens, rnn_layer_sizes, dropout_keep_prob=1.0, attn_length=0\n",
    "#                  , base_cell=rnn.BasicLSTMCell, scope=0):\n",
    "#    \"\"\"Makes a RNN cell from the given hyperparameters.\n",
    "#    Args:\n",
    "#    rnn_layer_sizes: A list of integer sizes (in units) for each layer of the\n",
    "#        RNN.\n",
    "#    dropout_keep_prob: The float probability to keep the output of any given\n",
    "#        sub-cell.\n",
    "#    attn_length: The size of the attention vector.\n",
    "#    base_cell: The base tf.contrib.rnn.RNNCell to use for sub-cells.\n",
    "#    Returns:\n",
    "#      A tf.contrib.rnn.MultiRNNCell based on the given hyperparameters.\n",
    "#    \"\"\"\n",
    "#    cells = []\n",
    "#    for num_units in rnn_layer_sizes:\n",
    "#        cell = base_cell(num_units)\n",
    "#        if attn_length and not cells:\n",
    "#            # Add attention wrapper to first layer.\n",
    "#            cell = tf.contrib.rnn.AttentionCellWrapper(cell, attn_length, state_is_tuple=True)\n",
    "#        cell = tf.contrib.rnn.DropoutWrapper(cell, output_keep_prob=dropout_keep_prob)\n",
    "#        cells.append(cell)\n",
    "#\n",
    "#    cell = tf.contrib.rnn.MultiRNNCell(cells)\n",
    "#\n",
    "#    initial_state = cell.zero_state(batch_size, tf.float32)\n",
    "#\n",
    "#    outputs, final_state = tf.nn.dynamic_rnn(\n",
    "#        cell, inputs, sequence_length=sent_lens, initial_state=initial_state, scope='Layer{}'.format(scope))\n",
    "#    \n",
    "#    return final_state[0]"
   ]
  },
  {
   "cell_type": "code",
   "execution_count": null,
   "metadata": {
    "ExecuteTime": {
     "end_time": "2016-12-20T12:05:00.995336",
     "start_time": "2016-12-20T12:04:59.968153"
    },
    "run_control": {
     "frozen": false,
     "read_only": false
    },
    "scrolled": false
   },
   "outputs": [],
   "source": [
    "### MODEL ###\n",
    "tf.reset_default_graph() \n",
    "\n",
    "\n",
    "## PLACEHOLDERS\n",
    "story = tf.placeholder(tf.int64, [None, None, None], \"story\")        # [batch_size x 5 x max_length]\n",
    "order = tf.placeholder(tf.int64, [None, None], \"order\")              # [batch_size x 5]\n",
    "dropout_prob = tf.placeholder(tf.float32) # to hold dropout probability (need placeholder as no dropout at prediction time)\n",
    "\n",
    "batch_size = tf.shape(story)[0]\n",
    "max_length = tf.shape(story)[2]\n",
    "\n",
    "sentences = [tf.reshape(x, [batch_size, -1]) for x in tf.split(axis=1, num_or_size_splits=5, value=story)]  # 5 times [batch_size x max_length]\n",
    "\n",
    "# We need the lengths of each sentence as an input to the dynamic_rnn - find the number of nonzero elements\n",
    "# in each sentence\n",
    "sentence_lengths = [tf.count_nonzero(sentence, 1) for sentence in sentences]\n",
    "\n",
    "\n",
    "#### USE COSTUM EMBEDDINGS #######\n",
    "# In order to restaure to previous state reverse (comment uncoomented and uncomment commented)\n",
    "\n",
    "# Word embeddings\n",
    "#initializer = tf.glorot_uniform_initializer()\n",
    "#embeddings = tf.get_variable(\"W\", [vocab_size, input_size], initializer=initializer)\n",
    "\n",
    "#sentences_embedded = [tf.nn.embedding_lookup(embeddings, sentence)   # 5 times[batch_size x max_seq_length x input_size]\n",
    "#                     for sentence in sentences]\n",
    "\n",
    "embeddings_array = np.zeros((vocab_size,input_size))\n",
    "\n",
    "for k, val in embeddings.items():\n",
    "    embeddings_array[k] = val\n",
    "\n",
    "embeddings_var = tf.get_variable(\"W\", initializer=embeddings_array, )\n",
    "\n",
    "embeddings_var = tf.cast(embeddings_var,tf.float32)\n",
    "sentences_embedded = [tf.nn.embedding_lookup(embeddings_var, sentence)   # 5 times[batch_size x max_seq_length x input_size]\n",
    "                     for sentence in sentences]\n",
    "##################################\n",
    "\n",
    "# Define lstm cells\n",
    "fwd_cell = rnn.BasicLSTMCell(num_hidden_lstm, forget_bias=1.0) #forward lstm cell\n",
    "fwd_cell = rnn.DropoutWrapper(fwd_cell, output_keep_prob=1.0-dropout_prob)\n",
    "\n",
    "bwd_cell = rnn.BasicLSTMCell(num_hidden_lstm, forget_bias=1.0) # backwards lstm cell for bidirectional\n",
    "bwd_cell = rnn.DropoutWrapper(bwd_cell, output_keep_prob=1.0-dropout_prob)\n",
    "\n",
    "### 2nd layer\n",
    "fwd_cell2 = rnn.BasicLSTMCell(num_hidden_lstm, forget_bias=1.0)\n",
    "fwd_cell2 = rnn.DropoutWrapper(fwd_cell2, output_keep_prob=1.0-dropout_prob)\n",
    "bwd_cell2 = rnn.BasicLSTMCell(num_hidden_lstm, forget_bias=1.0)\n",
    "bwd_cell2 = rnn.DropoutWrapper(bwd_cell2, output_keep_prob=1.0-dropout_prob)\n",
    "\n",
    "###\n",
    "\n",
    "# Weights and biases to be applied to the final output of each sentence embedding\n",
    "weights = {\n",
    "    'lstm' : tf.Variable(tf.random_normal([num_hidden_lstm, sentence_embedding_dim])),\n",
    "    'bi' : tf.Variable(tf.random_normal([2*num_hidden_lstm, sentence_embedding_dim])), # 2 times num_hidden_lstm because we concat the outputs of the 2 directions\n",
    "    'layer' : tf.Variable(tf.random_normal([num_hidden_lstm, sentence_embedding_dim]))\n",
    "}\n",
    "biases = {\n",
    "    'lstm' : tf.Variable(tf.random_normal([sentence_embedding_dim])),\n",
    "    'bi' : tf.Variable(tf.random_normal([sentence_embedding_dim])),\n",
    "    'layer' : tf.Variable(tf.random_normal([sentence_embedding_dim]))\n",
    "}\n",
    "\n",
    "\n",
    "\n",
    "# Get a list of sentence embeddings: 5 x batch_size x sentence_embedding_dim\n",
    "# Forward LSTM\n",
    "#sentence_codes = [RNN(sentences_embedded[i], weights['lstm'], biases['lstm'], fwd_cell, sentence_lengths[i]) for i in range(5)]\n",
    "# Bidirectional LSTM\n",
    "sentence_codes = [BiRNN(sentences_embedded[i], weights['bi'], biases['bi'], fwd_cell, bwd_cell, sentence_lengths[i]) for i in range(5)]\n",
    "# Layered LSTM\n",
    "#sentence_codes = [MultiLayerRNN(sentences_embedded[i], weights['layer'], biases['layer'], fwd_cell, fwd_cell2, sentence_lengths[i]) for i in range(5)]\n",
    "# Layered Bidirectional LSTM - DOESN'T WORK YET\n",
    "#sentence_codes = [MultiLayerBiRNN(sentences_embedded[i], weights['bi'], biases['bi'], fwd_cell, bwd_cell, fwd_cell2, bwd_cell2, sentence_lengths[i]) for i in range(5)]\n",
    "\n",
    "h_temp = tf.concat(axis=1, values=sentence_codes)    # [batch_size x 5*sentence_embedding_dim]\n",
    "h = tf.reshape(h_temp, [batch_size, 5*sentence_embedding_dim])\n",
    "\n",
    "# Currently ignoring fully connected layers\n",
    "dense1 = tf.contrib.layers.fully_connected(inputs=h, num_outputs=n_hidden_1, activation_fn=tf.nn.relu, weights_regularizer=tf.contrib.layers.l2_regularizer(scale=0.1))\n",
    "dropout1 = tf.layers.dropout(inputs=dense1, rate=dropout_prob)\n",
    "dense2 = tf.contrib.layers.fully_connected(inputs=dropout1, num_outputs=n_hidden_2, activation_fn=tf.nn.relu, weights_regularizer=tf.contrib.layers.l2_regularizer(scale=0.1))\n",
    "dropout2 = tf.layers.dropout(inputs=dense2, rate=dropout_prob)\n",
    "\n",
    "logits_flat = tf.contrib.layers.fully_connected(inputs=dropout2, num_outputs=5*target_size, activation_fn=None)  # [batch_size x 5*sentence_embedding_dim]\n",
    "logits = tf.reshape(logits_flat, [-1, 5, target_size])        # [batch_size x 5 x target_size]\n",
    "\n",
    "# ORIGINAL SETUP\n",
    "#temp = tf.nn.sparse_softmax_cross_entropy_with_logits(logits=logits, labels=order)\n",
    "#loss = tf.reduce_sum(temp)\n",
    "\n",
    "#unpacked_logits = [tensor for tensor in tf.unstack(logits, axis=1)]\n",
    "#softmaxes = [tf.nn.softmax(tensor) for tensor in unpacked_logits]\n",
    "#softmaxed_logits = tf.stack(softmaxes, axis=1)\n",
    "\n",
    "#predict = tf.argmax(softmaxed_logits, 2)\n",
    "\n",
    "\n",
    "# ORIGINAL + MAXIMUM WEIGHTED ASSIGNMENT\n",
    "temp = tf.nn.sparse_softmax_cross_entropy_with_logits(logits=logits, labels=order)\n",
    "loss = tf.reduce_sum(temp)\n",
    "\n",
    "unpacked_logits = [tensor for tensor in tf.unstack(logits, axis=1)]\n",
    "softmaxes = [tf.nn.softmax(tensor) for tensor in unpacked_logits]\n",
    "softmaxed_logits = tf.stack(softmaxes, axis=1)\n",
    "\n",
    "predict = tf.py_func(hungarian_method, [softmaxed_logits, batch_size], tf.int32)\n",
    "\n",
    "# REGRESSION + MSE\n",
    "#logits_flat = tf.contrib.layers.fully_connected(inputs=dropout2, num_outputs=target_size, activation_fn=None)  # [batch_size x 5*sentence_embedding_dim]\n",
    "#loss = tf.losses.mean_squared_error(predictions=logits_flat, labels=order)\n",
    "\n",
    "#values, indices = tf.nn.top_k(logits_flat, 5)\n",
    "#predict = tf.py_func(inverse_permutation, [indices, batch_size], tf.int32)"
   ]
  },
  {
   "cell_type": "markdown",
   "metadata": {},
   "source": [
    "We built our model, together with the loss and the prediction function, all we are left with now is to build an optimiser on the loss:"
   ]
  },
  {
   "cell_type": "code",
   "execution_count": null,
   "metadata": {
    "ExecuteTime": {
     "end_time": "2016-12-20T12:05:01.184409",
     "start_time": "2016-12-20T12:05:00.997016"
    },
    "run_control": {
     "frozen": false,
     "read_only": false
    }
   },
   "outputs": [],
   "source": [
    "opt_op = tf.train.AdamOptimizer().minimize(loss)"
   ]
  },
  {
   "cell_type": "code",
   "execution_count": null,
   "metadata": {
    "scrolled": false
   },
   "outputs": [],
   "source": [
    "show_graph(tf.get_default_graph().as_graph_def())"
   ]
  },
  {
   "cell_type": "markdown",
   "metadata": {},
   "source": [
    "### Model training \n",
    "\n",
    "We defined the preprocessing pipeline, set the model up, so we can finally train the model"
   ]
  },
  {
   "cell_type": "code",
   "execution_count": null,
   "metadata": {
    "ExecuteTime": {
     "end_time": "2016-12-20T12:05:54.615600",
     "start_time": "2016-12-20T12:05:01.186008"
    },
    "run_control": {
     "frozen": false,
     "read_only": false
    },
    "scrolled": false
   },
   "outputs": [],
   "source": [
    "BATCH_SIZE = 128\n",
    "#train_stories = train_stories[:1000]\n",
    "#train_orders = train_orders[:1000]\n",
    "verbose = True\n",
    "use_early_stopping = True\n",
    "\n",
    "with tf.Session() as sess:\n",
    "    if(use_early_stopping):\n",
    "        early_stopper = EarlyStopper(5,True)\n",
    "\n",
    "    \n",
    "    \n",
    "    sess.run(tf.initialize_all_variables())\n",
    "    n = train_stories.shape[0]\n",
    "    \n",
    "    for epoch in range(100):\n",
    "        print('----- Epoch', epoch, '-----')\n",
    "        total_loss = 0\n",
    "        train_stories, train_orders = reorder_training_set(train_stories, train_orders)\n",
    "        \n",
    "        start = time.time()\n",
    "        \n",
    "        perm = np.random.permutation(n)\n",
    "        for i in range(n // BATCH_SIZE):\n",
    "            indices = perm[i * BATCH_SIZE: (i + 1) * BATCH_SIZE]\n",
    "            inst_story = train_stories[indices]\n",
    "            inst_order = train_orders[indices]\n",
    "            feed_dict = {story: inst_story, order: inst_order, dropout_prob: 0.5}\n",
    "            #o, temp, prediction, _, current_loss= sess.run([order, logits_flat, predict, opt_op, loss], feed_dict=feed_dict)\n",
    "            _, current_loss= sess.run([opt_op, loss], feed_dict=feed_dict)\n",
    "            \n",
    "            \n",
    "            if(i % 100 == 0 and verbose):\n",
    "                print(\"Current Epoch %: {}/{} loss:{}\".format(i, n // BATCH_SIZE, current_loss))\n",
    "                \n",
    "            total_loss += current_loss\n",
    "\n",
    "        print(' Train loss:', total_loss / n)\n",
    "\n",
    "        train_feed_dict = {story: train_stories, order: train_orders, dropout_prob: 0.0}\n",
    "        train_predicted = sess.run(predict, feed_dict=train_feed_dict)\n",
    "        train_accuracy = nn.calculate_accuracy(train_orders, train_predicted)\n",
    "        print(' Train accuracy:', train_accuracy)\n",
    "        \n",
    "        dev_feed_dict = {story: dev_stories, order: dev_orders, dropout_prob: 0.0}\n",
    "        dev_predicted = sess.run(predict, feed_dict=dev_feed_dict)\n",
    "        dev_accuracy = nn.calculate_accuracy(dev_orders, dev_predicted)\n",
    "        print(' Dev accuracy:', dev_accuracy)\n",
    "        \n",
    "        finish = time.time()\n",
    "        print('Took {} seconds'.format(finish - start))\n",
    "        \n",
    "        if(use_early_stopping):\n",
    "            if(early_stopper.checkEarlyStopping(dev_accuracy,sess)):\n",
    "                break\n",
    "\n",
    "    if(use_early_stopping):\n",
    "        # LOAD EARLY STOPPED MODEL\n",
    "        print(\"Training Stopped, Loading saved model with max. dev accuracy from early stopping\")\n",
    "        saver = tf.train.Saver()\n",
    "        saver.restore(sess, './model/model.checkpoint')\n",
    "\n",
    "        # MAKE SURE IT GIVES THE SAME PREDICTIONS AS BEFORE\n",
    "        print(\"Calculating Dev Accuracy for the early stopped model: \")\n",
    "        dev_feed_dict = {story: dev_stories, order: dev_orders, dropout_prob: 0.0}\n",
    "        dev_predicted = sess.run(predict, feed_dict=dev_feed_dict)\n",
    "        dev_accuracy = nn.calculate_accuracy(dev_orders, dev_predicted)\n",
    "        print(\"Dev Accuracy : {}\".format(dev_accuracy))\n",
    "    else:\n",
    "        nn.save_model(sess)"
   ]
  },
  {
   "cell_type": "markdown",
   "metadata": {},
   "source": [
    "## <font color='red'>Assessment 1</font>: Assess Accuracy (40 pts) \n",
    "\n",
    "We assess how well your model performs on an unseen test set. We will look at the accuracy of the predicted sentence order, on sentence level, and will score them as followis:\n",
    "\n",
    "* 0 - 10 pts: 45% <= accuracy < 50%, linear\n",
    "* 10 - 20 pts: 50% <= accuracy < 55, linear\n",
    "* 20 - 40 pts: 55 <= accuracy < 60, linear\n",
    "* extra 0-10 pts: 60 <= accuracy < 70, linear\n",
    "\n",
    "The **linear** mapping maps any accuracy value between the lower and upper bound linearly to a score. For example, if your model's accuracy score is $acc=54.5\\%$, then your score is $10 + 10\\frac{acc-50}{55-50}$."
   ]
  },
  {
   "cell_type": "markdown",
   "metadata": {
    "collapsed": true
   },
   "source": [
    "Change the following lines so that they construct the test set in the same way you constructed the dev set in the code above. We will insert the test set instead of the dev set here. **`test_feed_dict` variable must stay named the same**."
   ]
  },
  {
   "cell_type": "code",
   "execution_count": null,
   "metadata": {
    "ExecuteTime": {
     "end_time": "2016-12-20T12:05:54.755730",
     "start_time": "2016-12-20T12:05:54.617471"
    },
    "run_control": {
     "frozen": false,
     "read_only": false
    }
   },
   "outputs": [],
   "source": [
    "# LOAD THE DATA\n",
    "data_test = nn.load_corpus(data_path + \"dev.tsv\")\n",
    "# make sure you process this with the same pipeline as you processed your dev set\n",
    "test_stories, test_orders, _ = pipeline(data_test, vocab=vocab, max_sent_len_=max_sent_len)\n",
    "\n",
    "# THIS VARIABLE MUST BE NAMED `test_feed_dict`\n",
    "test_feed_dict = {story: test_stories, order: test_orders}"
   ]
  },
  {
   "cell_type": "markdown",
   "metadata": {},
   "source": [
    "The following code loads your model, computes accuracy, and exports the result. **DO NOT** change this code."
   ]
  },
  {
   "cell_type": "code",
   "execution_count": null,
   "metadata": {
    "ExecuteTime": {
     "end_time": "2016-12-20T12:05:55.116609",
     "start_time": "2016-12-20T12:05:54.758571"
    },
    "run_control": {
     "frozen": false,
     "read_only": false
    }
   },
   "outputs": [],
   "source": [
    "#! ASSESSMENT 1 - DO NOT CHANGE, MOVE NOR COPY\n",
    "with tf.Session() as sess:\n",
    "    # LOAD THE MODEL\n",
    "    saver = tf.train.Saver()\n",
    "    saver.restore(sess, './model/model.checkpoint')\n",
    "    \n",
    "    # RUN TEST SET EVALUATION\n",
    "    dev_predicted = sess.run(predict, feed_dict=test_feed_dict)\n",
    "    dev_accuracy = nn.calculate_accuracy(dev_orders, dev_predicted)\n",
    "\n",
    "dev_accuracy"
   ]
  },
  {
   "cell_type": "markdown",
   "metadata": {},
   "source": [
    "## <font color='orange'>Mark</font>:  Your solution to Task 1 is marked with ** __ points**. \n",
    "---"
   ]
  },
  {
   "cell_type": "markdown",
   "metadata": {},
   "source": [
    "## <font color='blue'>Task 2</font>: Describe your Approach\n",
    "\n",
    "Enter a 1000 words max description of your approach **in this cell**.\n",
    "Make sure to provide:\n",
    "- an **error analysis** of the types of errors your system makes\n",
    "- compare your system with the model we provide, focus on differences and draw useful comparations between them\n",
    "\n",
    "Should you need to include figures in your report, make sure they are Python-generated (matplotlib, seaborn, bokeh are all included in the stat-nlp-book Docker image). For that, feel free to create new cells after this cell (before Assessment 2 cell). Link online images at your risk."
   ]
  },
  {
   "cell_type": "markdown",
   "metadata": {},
   "source": [
    "...WRITE YOUR DESCRIPTION HERE..."
   ]
  },
  {
   "cell_type": "markdown",
   "metadata": {},
   "source": [
    "## <font color='red'>Assessment 2</font>: Assess Description (60 pts) \n",
    "\n",
    "We will mark the description along the following dimensions: \n",
    "\n",
    "* Clarity (10pts: very clear, 0pts: we can't figure out what you did, or you did nothing)\n",
    "* Creativity (25pts: we could not have come up with this, 0pts: Use only the provided model)\n",
    "* Substance (25pts: implemented complex state-of-the-art classifier, compared it to a simpler model, 0pts: Only use what is already there)"
   ]
  },
  {
   "cell_type": "markdown",
   "metadata": {},
   "source": [
    "## <font color='orange'>Mark</font>:  Your solution to Task 2 is marked with ** __ points**.\n",
    "---"
   ]
  },
  {
   "cell_type": "markdown",
   "metadata": {},
   "source": [
    "## <font color='orange'>Final mark</font>: Your solution to Assignment 3 is marked with ** __points**. "
   ]
  }
 ],
 "metadata": {
  "hide_input": false,
  "kernelspec": {
   "display_name": "Python 3",
   "language": "python",
   "name": "python3"
  },
  "language_info": {
   "codemirror_mode": {
    "name": "ipython",
    "version": 3
   },
   "file_extension": ".py",
   "mimetype": "text/x-python",
   "name": "python",
   "nbconvert_exporter": "python",
   "pygments_lexer": "ipython3",
   "version": "3.6.2"
  }
 },
 "nbformat": 4,
 "nbformat_minor": 1
}
